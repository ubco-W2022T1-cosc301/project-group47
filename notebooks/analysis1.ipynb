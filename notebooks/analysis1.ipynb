{
 "cells": [
  {
   "cell_type": "markdown",
   "metadata": {},
   "source": [
    "# Anna Clara de Andrada"
   ]
  },
  {
   "cell_type": "markdown",
   "metadata": {},
   "source": [
    "## Is there a relationship between a country's \"happiness rank\" and their GDP per capita? Are richer nations, on average, happier than developing and underdeveloped countries? \n",
    "\n",
    "### As an international student from Brazil who has also lived in Canada and in the United States during the past 3 years, I am very interested in such dynamics. Does financial prosperity play a role on the average citizen's life satisfaction? Lately, the idea that a functioning market brings happiness to all is coming into scrutiny as prices skyrocket and as populations start demanding more government support. It is of personal interest to observe this relationship so that we can understand what policies support a prosperous and happy society, and which ones don't. "
   ]
  },
  {
   "cell_type": "code",
   "execution_count": 2,
   "metadata": {},
   "outputs": [
    {
     "name": "stdout",
     "output_type": "stream",
     "text": [
      "      Unnamed: 0  Happiness Rank      Country  \\\n",
      "0              0               1  Switzerland   \n",
      "1              1               2      Iceland   \n",
      "2              2               3      Denmark   \n",
      "3              3               4       Norway   \n",
      "4              4               5       Canada   \n",
      "...          ...             ...          ...   \n",
      "1224         141             142    Botswana*   \n",
      "1225         142             143      Rwanda*   \n",
      "1226         143             144     Zimbabwe   \n",
      "1227         144             145      Lebanon   \n",
      "1228         145             146  Afghanistan   \n",
      "\n",
      "                               Region Happiness Score  \\\n",
      "0                      Western Europe           7.587   \n",
      "1                      Western Europe           7.561   \n",
      "2                      Western Europe           7.527   \n",
      "3                      Western Europe           7.522   \n",
      "4                       North America           7.427   \n",
      "...                               ...             ...   \n",
      "1224                                -           3,471   \n",
      "1225                                -           3,268   \n",
      "1226               Sub-Saharan Africa           2,995   \n",
      "1227  Middle East and Northern Africa           2,955   \n",
      "1228                    Southern Asia           2,404   \n",
      "\n",
      "     Economy (GDP per Capita) Family (Social Support)  \\\n",
      "0                     1.39651                 1.34951   \n",
      "1                     1.30232                 1.40223   \n",
      "2                     1.32548                 1.36058   \n",
      "3                       1.459                 1.33095   \n",
      "4                     1.32629                 1.32261   \n",
      "...                       ...                     ...   \n",
      "1224                    1,503                   0,815   \n",
      "1225                    0,785                   0,133   \n",
      "1226                    0,947                   0,690   \n",
      "1227                    1,392                   0,498   \n",
      "1228                    0,758                   0,000   \n",
      "\n",
      "     Health (Life Expectancy)  Freedom Trust (Government Corruption)  \\\n",
      "0                     0.94143  0.66557                       0.41978   \n",
      "1                     0.94784  0.62877                       0.14145   \n",
      "2                     0.87464  0.64938                       0.48357   \n",
      "3                     0.88521  0.66973                       0.36503   \n",
      "4                     0.90563  0.63297                       0.32957   \n",
      "...                       ...      ...                           ...   \n",
      "1224                    0,280    0,571                         0,102   \n",
      "1225                    0,462    0,621                         0,544   \n",
      "1226                    0,270    0,329                         0,105   \n",
      "1227                    0,631    0,103                         0,034   \n",
      "1228                    0,289    0,000                         0,005   \n",
      "\n",
      "     Generosity  Year  \n",
      "0       0.29678  2015  \n",
      "1        0.4363  2015  \n",
      "2       0.34139  2015  \n",
      "3       0.34699  2015  \n",
      "4       0.45811  2015  \n",
      "...         ...   ...  \n",
      "1224      0,012  2022  \n",
      "1225      0,187  2022  \n",
      "1226      0,106  2022  \n",
      "1227      0,082  2022  \n",
      "1228      0,089  2022  \n",
      "\n",
      "[1229 rows x 12 columns]\n"
     ]
    }
   ],
   "source": [
    "import numpy as np\n",
    "import pandas as pd\n",
    "import seaborn as sns\n",
    "\n",
    "df1 = pd.read_csv('../data/raw/world_happiness_report.csv')\n",
    "\n",
    "print(df1)\n"
   ]
  },
  {
   "cell_type": "code",
   "execution_count": 5,
   "metadata": {
    "tags": []
   },
   "outputs": [
    {
     "name": "stdout",
     "output_type": "stream",
     "text": [
      "(1229, 12)\n",
      "   Unnamed: 0  Happiness Rank      Country          Region Happiness Score  \\\n",
      "0           0               1  Switzerland  Western Europe           7.587   \n",
      "1           1               2      Iceland  Western Europe           7.561   \n",
      "2           2               3      Denmark  Western Europe           7.527   \n",
      "3           3               4       Norway  Western Europe           7.522   \n",
      "4           4               5       Canada   North America           7.427   \n",
      "\n",
      "  Economy (GDP per Capita) Family (Social Support) Health (Life Expectancy)  \\\n",
      "0                  1.39651                 1.34951                  0.94143   \n",
      "1                  1.30232                 1.40223                  0.94784   \n",
      "2                  1.32548                 1.36058                  0.87464   \n",
      "3                    1.459                 1.33095                  0.88521   \n",
      "4                  1.32629                 1.32261                  0.90563   \n",
      "\n",
      "   Freedom Trust (Government Corruption) Generosity  Year  \n",
      "0  0.66557                       0.41978    0.29678  2015  \n",
      "1  0.62877                       0.14145     0.4363  2015  \n",
      "2  0.64938                       0.48357    0.34139  2015  \n",
      "3  0.66973                       0.36503    0.34699  2015  \n",
      "4  0.63297                       0.32957    0.45811  2015  \n",
      "Index(['Unnamed: 0', 'Happiness Rank', 'Country', 'Region', 'Happiness Score',\n",
      "       'Economy (GDP per Capita)', 'Family (Social Support)',\n",
      "       'Health (Life Expectancy)', 'Freedom', 'Trust (Government Corruption)',\n",
      "       'Generosity', 'Year'],\n",
      "      dtype='object')\n"
     ]
    }
   ],
   "source": [
    "import matplotlib.pylab as plt\n",
    "import seaborn as sns\n",
    "\n",
    "#for my question, I will be looking at only 2 datasets, df3 & df2\n",
    "number_of_rows_and_columns = df1.shape\n",
    "first_five_rows = df1.head()\n",
    "column_names = df1.columns\n",
    "\n",
    "\n",
    "print(number_of_rows_and_columns)\n",
    "print(first_five_rows)\n",
    "print(column_names)\n"
   ]
  },
  {
   "cell_type": "code",
   "execution_count": 42,
   "metadata": {},
   "outputs": [
    {
     "name": "stdout",
     "output_type": "stream",
     "text": [
      "Unnamed: 0                        158\n",
      "Happiness Rank                    158\n",
      "Country                           195\n",
      "Region                             17\n",
      "Happiness Score                  1131\n",
      "Economy (GDP per Capita)         1150\n",
      "Family (Social Support)          1133\n",
      "Health (Life Expectancy)         1080\n",
      "Freedom                          1053\n",
      "Trust (Government Corruption)     952\n",
      "Generosity                        979\n",
      "Year                                8\n",
      "dtype: int64\n"
     ]
    },
    {
     "data": {
      "text/plain": [
       "\"this output showcases that the survey includes data for all countries (158 unique values\\nunder 'Countries') in the international arena over a span of 8 years\""
      ]
     },
     "execution_count": 42,
     "metadata": {},
     "output_type": "execute_result"
    }
   ],
   "source": [
    "unique_values = df1.nunique(axis=0)\n",
    "print(unique_values)\n",
    "\n",
    "'''this output showcases that the survey includes data for all countries (158 unique values\n",
    "under 'Countries') in the international arena over a span of 8 years'''"
   ]
  },
  {
   "cell_type": "code",
   "execution_count": 6,
   "metadata": {},
   "outputs": [
    {
     "name": "stdout",
     "output_type": "stream",
     "text": [
      "['Switzerland' 'Iceland' 'Denmark' 'Norway' 'Canada' 'Finland'\n",
      " 'Netherlands' 'Sweden' 'New Zealand' 'Australia' 'Israel' 'Costa Rica'\n",
      " 'Austria' 'Mexico' 'United States' 'Brazil' 'Luxembourg' 'Ireland'\n",
      " 'Belgium' 'United Arab Emirates' 'United Kingdom' 'Oman' 'Venezuela'\n",
      " 'Singapore' 'Panama' 'Germany' 'Chile' 'Qatar' 'France' 'Argentina'\n",
      " 'Czech Republic' 'Uruguay' 'Colombia' 'Thailand' 'Saudi Arabia' 'Spain'\n",
      " 'Malta' 'Taiwan' 'Kuwait' 'Suriname' 'Trinidad and Tobago' 'El Salvador'\n",
      " 'Guatemala' 'Uzbekistan' 'Slovakia' 'Japan' 'South Korea' 'Ecuador'\n",
      " 'Bahrain' 'Italy' 'Bolivia' 'Moldova' 'Paraguay' 'Kazakhstan' 'Slovenia'\n",
      " 'Lithuania' 'Nicaragua' 'Peru' 'Belarus' 'Poland' 'Malaysia' 'Croatia'\n",
      " 'Libya' 'Russia' 'Jamaica' 'North Cyprus' 'Cyprus' 'Algeria' 'Kosovo'\n",
      " 'Turkmenistan' 'Mauritius' 'Hong Kong' 'Estonia' 'Indonesia' 'Vietnam'\n",
      " 'Turkey' 'Kyrgyzstan' 'Nigeria' 'Bhutan' 'Azerbaijan' 'Pakistan' 'Jordan'\n",
      " 'Montenegro' 'China' 'Zambia' 'Romania' 'Serbia' 'Portugal' 'Latvia'\n",
      " 'Philippines' 'Somaliland region' 'Morocco' 'Macedonia' 'Mozambique'\n",
      " 'Albania' 'Bosnia and Herzegovina' 'Lesotho' 'Dominican Republic' 'Laos'\n",
      " 'Mongolia' 'Swaziland' 'Greece' 'Lebanon' 'Hungary' 'Honduras'\n",
      " 'Tajikistan' 'Tunisia' 'Palestinian Territories' 'Bangladesh' 'Iran'\n",
      " 'Ukraine' 'Iraq' 'South Africa' 'Ghana' 'Zimbabwe' 'Liberia' 'India'\n",
      " 'Sudan' 'Haiti' 'Congo (Kinshasa)' 'Nepal' 'Ethiopia' 'Sierra Leone'\n",
      " 'Mauritania' 'Kenya' 'Djibouti' 'Armenia' 'Botswana' 'Myanmar' 'Georgia'\n",
      " 'Malawi' 'Sri Lanka' 'Cameroon' 'Bulgaria' 'Egypt' 'Yemen' 'Angola'\n",
      " 'Mali' 'Congo (Brazzaville)' 'Comoros' 'Uganda' 'Senegal' 'Gabon' 'Niger'\n",
      " 'Cambodia' 'Tanzania' 'Madagascar' 'Central African Republic' 'Chad'\n",
      " 'Guinea' 'Ivory Coast' 'Burkina Faso' 'Afghanistan' 'Rwanda' 'Benin'\n",
      " 'Syria' 'Burundi' 'Togo' 'Puerto Rico' 'Belize' 'Somalia'\n",
      " 'Somaliland Region' 'Namibia' 'South Sudan' 'Taiwan Province of China'\n",
      " 'Hong Kong S.A.R., China' 'Trinidad & Tobago' 'Northern Cyprus'\n",
      " 'North Macedonia' 'Gambia' 'Hong Kong S.A.R. of China' 'Maldives'\n",
      " 'Luxembourg*' 'Czechia' 'Guatemala*' 'Kuwait*' 'Belarus*' 'Turkmenistan*'\n",
      " 'North Cyprus*' 'Libya*' 'Azerbaijan*' 'Gambia*' 'Liberia*' 'Congo'\n",
      " 'Niger*' 'Comoros*' 'Palestinian Territories*' 'Eswatini, Kingdom of*'\n",
      " 'Madagascar*' 'Chad*' 'Yemen*' 'Mauritania*' 'Lesotho*' 'Botswana*'\n",
      " 'Rwanda*']\n",
      "['Western Europe' 'North America' 'Australia and New Zealand'\n",
      " 'Middle East and Northern Africa' 'Latin America and Caribbean'\n",
      " 'Southeastern Asia' 'Central and Eastern Europe' 'Eastern Asia'\n",
      " 'Sub-Saharan Africa' 'Southern Asia' '-' 'North America and ANZ'\n",
      " 'Middle East and North Africa' 'East Asia' 'Southeast Asia'\n",
      " 'Commonwealth of Independent States' 'South Asia']\n"
     ]
    },
    {
     "data": {
      "text/plain": [
       "\" to show which countries and regions are being analyzed. \\nThis showcases that there are some countries that are assigned a '*', and some \\nregions are null: '-'\\n\\n\""
      ]
     },
     "execution_count": 6,
     "metadata": {},
     "output_type": "execute_result"
    }
   ],
   "source": [
    "print(df1['Country'].unique())\n",
    "\n",
    "print(df1['Region'].unique())\n",
    "\n",
    "''' to show which countries and regions are being analyzed. \n",
    "This showcases that there are some countries that are assigned a '*', and some \n",
    "regions are null: '-'\n",
    "\n",
    "'''"
   ]
  },
  {
   "cell_type": "code",
   "execution_count": 9,
   "metadata": {},
   "outputs": [
    {
     "name": "stdout",
     "output_type": "stream",
     "text": [
      "      Unnamed: 0  Happiness Rank       Country  \\\n",
      "0              0               1   Switzerland   \n",
      "1              1               2       Iceland   \n",
      "2              2               3       Denmark   \n",
      "3              3               4        Norway   \n",
      "4              4               5        Canada   \n",
      "...          ...             ...           ...   \n",
      "1221         138             139      Tanzania   \n",
      "1222         139             140  Sierra Leone   \n",
      "1226         143             144      Zimbabwe   \n",
      "1227         144             145       Lebanon   \n",
      "1228         145             146   Afghanistan   \n",
      "\n",
      "                               Region Happiness Score  \\\n",
      "0                      Western Europe           7.587   \n",
      "1                      Western Europe           7.561   \n",
      "2                      Western Europe           7.527   \n",
      "3                      Western Europe           7.522   \n",
      "4                       North America           7.427   \n",
      "...                               ...             ...   \n",
      "1221               Sub-Saharan Africa           3,702   \n",
      "1222               Sub-Saharan Africa           3,574   \n",
      "1226               Sub-Saharan Africa           2,995   \n",
      "1227  Middle East and Northern Africa           2,955   \n",
      "1228                    Southern Asia           2,404   \n",
      "\n",
      "     Economy (GDP per Capita) Family (Social Support)  \\\n",
      "0                     1.39651                 1.34951   \n",
      "1                     1.30232                 1.40223   \n",
      "2                     1.32548                 1.36058   \n",
      "3                       1.459                 1.33095   \n",
      "4                     1.32629                 1.32261   \n",
      "...                       ...                     ...   \n",
      "1221                    0,848                   0,597   \n",
      "1222                    0,686                   0,416   \n",
      "1226                    0,947                   0,690   \n",
      "1227                    1,392                   0,498   \n",
      "1228                    0,758                   0,000   \n",
      "\n",
      "     Health (Life Expectancy)  Freedom Trust (Government Corruption)  \\\n",
      "0                     0.94143  0.66557                       0.41978   \n",
      "1                     0.94784  0.62877                       0.14145   \n",
      "2                     0.87464  0.64938                       0.48357   \n",
      "3                     0.88521  0.66973                       0.36503   \n",
      "4                     0.90563  0.63297                       0.32957   \n",
      "...                       ...      ...                           ...   \n",
      "1221                    0,425    0,578                         0,270   \n",
      "1222                    0,273    0,387                         0,055   \n",
      "1226                    0,270    0,329                         0,105   \n",
      "1227                    0,631    0,103                         0,034   \n",
      "1228                    0,289    0,000                         0,005   \n",
      "\n",
      "     Generosity  Year  \n",
      "0       0.29678  2015  \n",
      "1        0.4363  2015  \n",
      "2       0.34139  2015  \n",
      "3       0.34699  2015  \n",
      "4       0.45811  2015  \n",
      "...         ...   ...  \n",
      "1221      0,248  2022  \n",
      "1222      0,202  2022  \n",
      "1226      0,106  2022  \n",
      "1227      0,082  2022  \n",
      "1228      0,089  2022  \n",
      "\n",
      "[1183 rows x 12 columns]\n"
     ]
    },
    {
     "data": {
      "text/plain": [
       "'to delete all instances where region is null'"
      ]
     },
     "execution_count": 9,
     "metadata": {},
     "output_type": "execute_result"
    }
   ],
   "source": [
    "df2 = df1[df1.Region != '-']\n",
    "print(df2)\n",
    "\n",
    "'''to delete all instances where region is null'''"
   ]
  },
  {
   "cell_type": "code",
   "execution_count": 46,
   "metadata": {},
   "outputs": [
    {
     "name": "stdout",
     "output_type": "stream",
     "text": [
      "[2015 2016 2017 2018 2019 2020 2021 2022]\n"
     ]
    },
    {
     "data": {
      "text/plain": [
       "'This analysis showcases the timespan for which we can analyze trends'"
      ]
     },
     "execution_count": 46,
     "metadata": {},
     "output_type": "execute_result"
    }
   ],
   "source": [
    "print(df1['Year'].unique())\n",
    "\n",
    "'''This analysis showcases the timespan for which we can analyze trends'''"
   ]
  },
  {
   "cell_type": "code",
   "execution_count": 47,
   "metadata": {},
   "outputs": [
    {
     "name": "stdout",
     "output_type": "stream",
     "text": [
      "False\n"
     ]
    },
    {
     "data": {
      "text/plain": [
       "' to ensure there are no NaN values in our dataset to be cleaned'"
      ]
     },
     "execution_count": 47,
     "metadata": {},
     "output_type": "execute_result"
    }
   ],
   "source": [
    "check_nan = df1.isnull().values.any()\n",
    "print(check_nan)\n",
    "\n",
    "''' to ensure there are no NaN values in our dataset to be cleaned'''"
   ]
  },
  {
   "cell_type": "code",
   "execution_count": 10,
   "metadata": {},
   "outputs": [
    {
     "name": "stdout",
     "output_type": "stream",
     "text": [
      "(1183, 12)\n"
     ]
    },
    {
     "data": {
      "text/plain": [
       "'to drop Unnamed column and ensure the column has been deleted'"
      ]
     },
     "execution_count": 10,
     "metadata": {},
     "output_type": "execute_result"
    }
   ],
   "source": [
    "df3= df2.drop(df1.columns[0], axis=1)\n",
    "print(df2.shape)\n",
    "\n",
    "'''to drop Unnamed column and ensure the column has been deleted'''"
   ]
  },
  {
   "cell_type": "code",
   "execution_count": 21,
   "metadata": {},
   "outputs": [
    {
     "name": "stdout",
     "output_type": "stream",
     "text": [
      "      Happiness Rank      Country              Region Happiness Score  \\\n",
      "0                  1  Switzerland      Western Europe           7.587   \n",
      "1                  2      Iceland      Western Europe           7.561   \n",
      "2                  3      Denmark      Western Europe           7.527   \n",
      "3                  4       Norway      Western Europe           7.522   \n",
      "4                  5       Canada       North America           7.427   \n",
      "...              ...          ...                 ...             ...   \n",
      "1078             145      Lesotho  Sub-Saharan Africa           3.512   \n",
      "1079             146     Botswana  Sub-Saharan Africa           3.467   \n",
      "1080             147       Rwanda  Sub-Saharan Africa           3.415   \n",
      "1081             148     Zimbabwe  Sub-Saharan Africa           3.145   \n",
      "1082             149  Afghanistan          South Asia           2.523   \n",
      "\n",
      "     Economy (GDP per Capita) Family (Social Support)  \\\n",
      "0                     1.39651                 1.34951   \n",
      "1                     1.30232                 1.40223   \n",
      "2                     1.32548                 1.36058   \n",
      "3                       1.459                 1.33095   \n",
      "4                     1.32629                 1.32261   \n",
      "...                       ...                     ...   \n",
      "1078                    0.451                   0.731   \n",
      "1079                    1.099                   0.724   \n",
      "1080                    0.364                   0.202   \n",
      "1081                    0.457                   0.649   \n",
      "1082                     0.37                     0.0   \n",
      "\n",
      "     Health (Life Expectancy)  Freedom Trust (Government Corruption)  \\\n",
      "0                     0.94143  0.66557                       0.41978   \n",
      "1                     0.94784  0.62877                       0.14145   \n",
      "2                     0.87464  0.64938                       0.48357   \n",
      "3                     0.88521  0.66973                       0.36503   \n",
      "4                     0.90563  0.63297                       0.32957   \n",
      "...                       ...      ...                           ...   \n",
      "1078                    0.007    0.405                         0.015   \n",
      "1079                     0.34    0.539                         0.088   \n",
      "1080                    0.407    0.627                         0.493   \n",
      "1081                    0.243    0.359                         0.075   \n",
      "1082                    0.126      0.0                          0.01   \n",
      "\n",
      "     Generosity  Year  \n",
      "0       0.29678  2015  \n",
      "1        0.4363  2015  \n",
      "2       0.34139  2015  \n",
      "3       0.34699  2015  \n",
      "4       0.45811  2015  \n",
      "...         ...   ...  \n",
      "1078      0.103  2021  \n",
      "1079      0.027  2021  \n",
      "1080      0.227  2021  \n",
      "1081      0.157  2021  \n",
      "1082      0.122  2021  \n",
      "\n",
      "[1064 rows x 11 columns]\n"
     ]
    }
   ],
   "source": [
    "df4 = df3[df3.Year != 2022]\n",
    "print(df4)"
   ]
  },
  {
   "cell_type": "code",
   "execution_count": 12,
   "metadata": {},
   "outputs": [
    {
     "data": {
      "text/html": [
       "<div>\n",
       "<style scoped>\n",
       "    .dataframe tbody tr th:only-of-type {\n",
       "        vertical-align: middle;\n",
       "    }\n",
       "\n",
       "    .dataframe tbody tr th {\n",
       "        vertical-align: top;\n",
       "    }\n",
       "\n",
       "    .dataframe thead th {\n",
       "        text-align: right;\n",
       "    }\n",
       "</style>\n",
       "<table border=\"1\" class=\"dataframe\">\n",
       "  <thead>\n",
       "    <tr style=\"text-align: right;\">\n",
       "      <th></th>\n",
       "      <th>Happiness Rank</th>\n",
       "      <th>Country</th>\n",
       "      <th>Region</th>\n",
       "      <th>Happiness Score</th>\n",
       "      <th>Economy (GDP per Capita)</th>\n",
       "      <th>Family (Social Support)</th>\n",
       "      <th>Health (Life Expectancy)</th>\n",
       "      <th>Freedom</th>\n",
       "      <th>Trust (Government Corruption)</th>\n",
       "      <th>Generosity</th>\n",
       "      <th>Year</th>\n",
       "    </tr>\n",
       "  </thead>\n",
       "  <tbody>\n",
       "    <tr>\n",
       "      <th>count</th>\n",
       "      <td>1064.000000</td>\n",
       "      <td>0.0</td>\n",
       "      <td>0.0</td>\n",
       "      <td>1064.000000</td>\n",
       "      <td>1064.000000</td>\n",
       "      <td>1064.000000</td>\n",
       "      <td>1064.000000</td>\n",
       "      <td>1064.000000</td>\n",
       "      <td>1064.000000</td>\n",
       "      <td>1064.000000</td>\n",
       "      <td>1064.000000</td>\n",
       "    </tr>\n",
       "    <tr>\n",
       "      <th>mean</th>\n",
       "      <td>77.790414</td>\n",
       "      <td>NaN</td>\n",
       "      <td>NaN</td>\n",
       "      <td>5.418920</td>\n",
       "      <td>0.919224</td>\n",
       "      <td>1.050222</td>\n",
       "      <td>0.613049</td>\n",
       "      <td>0.430625</td>\n",
       "      <td>0.127485</td>\n",
       "      <td>0.208952</td>\n",
       "      <td>2017.967105</td>\n",
       "    </tr>\n",
       "    <tr>\n",
       "      <th>std</th>\n",
       "      <td>44.819322</td>\n",
       "      <td>NaN</td>\n",
       "      <td>NaN</td>\n",
       "      <td>1.119277</td>\n",
       "      <td>0.399295</td>\n",
       "      <td>0.332545</td>\n",
       "      <td>0.247509</td>\n",
       "      <td>0.152321</td>\n",
       "      <td>0.108336</td>\n",
       "      <td>0.118013</td>\n",
       "      <td>2.011222</td>\n",
       "    </tr>\n",
       "    <tr>\n",
       "      <th>min</th>\n",
       "      <td>1.000000</td>\n",
       "      <td>NaN</td>\n",
       "      <td>NaN</td>\n",
       "      <td>2.523000</td>\n",
       "      <td>0.000000</td>\n",
       "      <td>0.000000</td>\n",
       "      <td>0.000000</td>\n",
       "      <td>0.000000</td>\n",
       "      <td>0.000000</td>\n",
       "      <td>0.000000</td>\n",
       "      <td>2015.000000</td>\n",
       "    </tr>\n",
       "    <tr>\n",
       "      <th>25%</th>\n",
       "      <td>39.000000</td>\n",
       "      <td>NaN</td>\n",
       "      <td>NaN</td>\n",
       "      <td>4.571000</td>\n",
       "      <td>0.618450</td>\n",
       "      <td>0.840197</td>\n",
       "      <td>0.439750</td>\n",
       "      <td>0.329094</td>\n",
       "      <td>0.055000</td>\n",
       "      <td>0.121900</td>\n",
       "      <td>2016.000000</td>\n",
       "    </tr>\n",
       "    <tr>\n",
       "      <th>50%</th>\n",
       "      <td>78.000000</td>\n",
       "      <td>NaN</td>\n",
       "      <td>NaN</td>\n",
       "      <td>5.387500</td>\n",
       "      <td>0.983096</td>\n",
       "      <td>1.081475</td>\n",
       "      <td>0.644974</td>\n",
       "      <td>0.448440</td>\n",
       "      <td>0.092850</td>\n",
       "      <td>0.195977</td>\n",
       "      <td>2018.000000</td>\n",
       "    </tr>\n",
       "    <tr>\n",
       "      <th>75%</th>\n",
       "      <td>117.000000</td>\n",
       "      <td>NaN</td>\n",
       "      <td>NaN</td>\n",
       "      <td>6.224075</td>\n",
       "      <td>1.241105</td>\n",
       "      <td>1.311449</td>\n",
       "      <td>0.800467</td>\n",
       "      <td>0.552335</td>\n",
       "      <td>0.160568</td>\n",
       "      <td>0.266000</td>\n",
       "      <td>2020.000000</td>\n",
       "    </tr>\n",
       "    <tr>\n",
       "      <th>max</th>\n",
       "      <td>158.000000</td>\n",
       "      <td>NaN</td>\n",
       "      <td>NaN</td>\n",
       "      <td>7.842000</td>\n",
       "      <td>1.870766</td>\n",
       "      <td>1.644000</td>\n",
       "      <td>1.141000</td>\n",
       "      <td>0.724000</td>\n",
       "      <td>0.551910</td>\n",
       "      <td>0.838075</td>\n",
       "      <td>2021.000000</td>\n",
       "    </tr>\n",
       "  </tbody>\n",
       "</table>\n",
       "</div>"
      ],
      "text/plain": [
       "       Happiness Rank  Country  Region  Happiness Score  \\\n",
       "count     1064.000000      0.0     0.0      1064.000000   \n",
       "mean        77.790414      NaN     NaN         5.418920   \n",
       "std         44.819322      NaN     NaN         1.119277   \n",
       "min          1.000000      NaN     NaN         2.523000   \n",
       "25%         39.000000      NaN     NaN         4.571000   \n",
       "50%         78.000000      NaN     NaN         5.387500   \n",
       "75%        117.000000      NaN     NaN         6.224075   \n",
       "max        158.000000      NaN     NaN         7.842000   \n",
       "\n",
       "       Economy (GDP per Capita)  Family (Social Support)  \\\n",
       "count               1064.000000              1064.000000   \n",
       "mean                   0.919224                 1.050222   \n",
       "std                    0.399295                 0.332545   \n",
       "min                    0.000000                 0.000000   \n",
       "25%                    0.618450                 0.840197   \n",
       "50%                    0.983096                 1.081475   \n",
       "75%                    1.241105                 1.311449   \n",
       "max                    1.870766                 1.644000   \n",
       "\n",
       "       Health (Life Expectancy)      Freedom  Trust (Government Corruption)  \\\n",
       "count               1064.000000  1064.000000                    1064.000000   \n",
       "mean                   0.613049     0.430625                       0.127485   \n",
       "std                    0.247509     0.152321                       0.108336   \n",
       "min                    0.000000     0.000000                       0.000000   \n",
       "25%                    0.439750     0.329094                       0.055000   \n",
       "50%                    0.644974     0.448440                       0.092850   \n",
       "75%                    0.800467     0.552335                       0.160568   \n",
       "max                    1.141000     0.724000                       0.551910   \n",
       "\n",
       "        Generosity         Year  \n",
       "count  1064.000000  1064.000000  \n",
       "mean      0.208952  2017.967105  \n",
       "std       0.118013     2.011222  \n",
       "min       0.000000  2015.000000  \n",
       "25%       0.121900  2016.000000  \n",
       "50%       0.195977  2018.000000  \n",
       "75%       0.266000  2020.000000  \n",
       "max       0.838075  2021.000000  "
      ]
     },
     "execution_count": 12,
     "metadata": {},
     "output_type": "execute_result"
    }
   ],
   "source": [
    "df5 = df4.transform(pd.to_numeric, errors='coerce')\n",
    "\n",
    "'''to transform variables in dataframe to numeric'''\n",
    "df5.describe()"
   ]
  },
  {
   "cell_type": "code",
   "execution_count": null,
   "metadata": {},
   "outputs": [],
   "source": []
  },
  {
   "cell_type": "code",
   "execution_count": 68,
   "metadata": {},
   "outputs": [
    {
     "data": {
      "text/plain": [
       "count    1064.000000\n",
       "mean        5.418920\n",
       "std         1.119277\n",
       "min         2.523000\n",
       "25%         4.571000\n",
       "50%         5.387500\n",
       "75%         6.224075\n",
       "max         7.842000\n",
       "Name: Happiness Score, dtype: float64"
      ]
     },
     "execution_count": 68,
     "metadata": {},
     "output_type": "execute_result"
    }
   ],
   "source": [
    "df6 = df4['Happiness Score'].transform(pd.to_numeric, errors='coerce')\n",
    "df6.describe()"
   ]
  },
  {
   "cell_type": "code",
   "execution_count": 69,
   "metadata": {},
   "outputs": [
    {
     "data": {
      "text/plain": [
       "count    1064.000000\n",
       "mean        0.919224\n",
       "std         0.399295\n",
       "min         0.000000\n",
       "25%         0.618450\n",
       "50%         0.983096\n",
       "75%         1.241105\n",
       "max         1.870766\n",
       "Name: Economy (GDP per Capita), dtype: float64"
      ]
     },
     "execution_count": 69,
     "metadata": {},
     "output_type": "execute_result"
    }
   ],
   "source": [
    "df7 = df4['Economy (GDP per Capita)'].transform(pd.to_numeric, errors='coerce')\n",
    "df7.describe()"
   ]
  },
  {
   "cell_type": "code",
   "execution_count": 13,
   "metadata": {},
   "outputs": [
    {
     "ename": "TypeError",
     "evalue": "DataFrame.__init__() got an unexpected keyword argument 'column1'",
     "output_type": "error",
     "traceback": [
      "\u001b[0;31m---------------------------------------------------------------------------\u001b[0m",
      "\u001b[0;31mTypeError\u001b[0m                                 Traceback (most recent call last)",
      "Input \u001b[0;32mIn [13]\u001b[0m, in \u001b[0;36m<cell line: 1>\u001b[0;34m()\u001b[0m\n\u001b[0;32m----> 1\u001b[0m dataframe \u001b[38;5;241m=\u001b[39m \u001b[43mpd\u001b[49m\u001b[38;5;241;43m.\u001b[39;49m\u001b[43mDataFrame\u001b[49m\u001b[43m(\u001b[49m\u001b[43mdf5\u001b[49m\u001b[43m,\u001b[49m\u001b[43m \u001b[49m\u001b[43mcolumn1\u001b[49m\u001b[38;5;241;43m=\u001b[39;49m\u001b[43m[\u001b[49m\u001b[38;5;124;43m'\u001b[39;49m\u001b[38;5;124;43mEconomy (GDP per Capita)\u001b[39;49m\u001b[38;5;124;43m'\u001b[39;49m\u001b[43m]\u001b[49m\u001b[43m,\u001b[49m\u001b[43mcolumn2\u001b[49m\u001b[38;5;241;43m=\u001b[39;49m\u001b[43m[\u001b[49m\u001b[38;5;124;43m'\u001b[39;49m\u001b[38;5;124;43mHappiness Score\u001b[39;49m\u001b[38;5;124;43m'\u001b[39;49m\u001b[43m]\u001b[49m\u001b[43m)\u001b[49m\n\u001b[1;32m      2\u001b[0m matrix \u001b[38;5;241m=\u001b[39m dataframe\u001b[38;5;241m.\u001b[39mcorr()\n\u001b[1;32m      3\u001b[0m \u001b[38;5;28mprint\u001b[39m(matrix)\n",
      "\u001b[0;31mTypeError\u001b[0m: DataFrame.__init__() got an unexpected keyword argument 'column1'"
     ]
    }
   ],
   "source": [
    "dataframe = pd.DataFrame(df5, column1=['Economy (GDP per Capita)'],column2=['Happiness Score'])\n",
    "matrix = dataframe.corr()\n",
    "print(matrix)\n",
    "\n",
    "sns.heatmap(matrix, xticklabels=matrix.column1, yticklabels=matrix.column2, annot=True, cmap=sns.diverging_palette(220, 20, as_cmap=True))"
   ]
  },
  {
   "cell_type": "code",
   "execution_count": 23,
   "metadata": {},
   "outputs": [
    {
     "data": {
      "text/html": [
       "<div>\n",
       "<style scoped>\n",
       "    .dataframe tbody tr th:only-of-type {\n",
       "        vertical-align: middle;\n",
       "    }\n",
       "\n",
       "    .dataframe tbody tr th {\n",
       "        vertical-align: top;\n",
       "    }\n",
       "\n",
       "    .dataframe thead th {\n",
       "        text-align: right;\n",
       "    }\n",
       "</style>\n",
       "<table border=\"1\" class=\"dataframe\">\n",
       "  <thead>\n",
       "    <tr style=\"text-align: right;\">\n",
       "      <th></th>\n",
       "      <th>Happiness Rank</th>\n",
       "      <th>Happiness Score</th>\n",
       "      <th>Economy (GDP per Capita)</th>\n",
       "      <th>Family (Social Support)</th>\n",
       "      <th>Health (Life Expectancy)</th>\n",
       "      <th>Freedom</th>\n",
       "      <th>Trust (Government Corruption)</th>\n",
       "      <th>Generosity</th>\n",
       "      <th>Year</th>\n",
       "    </tr>\n",
       "  </thead>\n",
       "  <tbody>\n",
       "    <tr>\n",
       "      <th>0</th>\n",
       "      <td>1</td>\n",
       "      <td>7.587</td>\n",
       "      <td>1.39651</td>\n",
       "      <td>1.34951</td>\n",
       "      <td>0.94143</td>\n",
       "      <td>0.66557</td>\n",
       "      <td>0.41978</td>\n",
       "      <td>0.29678</td>\n",
       "      <td>2015</td>\n",
       "    </tr>\n",
       "    <tr>\n",
       "      <th>1</th>\n",
       "      <td>2</td>\n",
       "      <td>7.561</td>\n",
       "      <td>1.30232</td>\n",
       "      <td>1.40223</td>\n",
       "      <td>0.94784</td>\n",
       "      <td>0.62877</td>\n",
       "      <td>0.14145</td>\n",
       "      <td>0.43630</td>\n",
       "      <td>2015</td>\n",
       "    </tr>\n",
       "    <tr>\n",
       "      <th>2</th>\n",
       "      <td>3</td>\n",
       "      <td>7.527</td>\n",
       "      <td>1.32548</td>\n",
       "      <td>1.36058</td>\n",
       "      <td>0.87464</td>\n",
       "      <td>0.64938</td>\n",
       "      <td>0.48357</td>\n",
       "      <td>0.34139</td>\n",
       "      <td>2015</td>\n",
       "    </tr>\n",
       "    <tr>\n",
       "      <th>3</th>\n",
       "      <td>4</td>\n",
       "      <td>7.522</td>\n",
       "      <td>1.45900</td>\n",
       "      <td>1.33095</td>\n",
       "      <td>0.88521</td>\n",
       "      <td>0.66973</td>\n",
       "      <td>0.36503</td>\n",
       "      <td>0.34699</td>\n",
       "      <td>2015</td>\n",
       "    </tr>\n",
       "    <tr>\n",
       "      <th>4</th>\n",
       "      <td>5</td>\n",
       "      <td>7.427</td>\n",
       "      <td>1.32629</td>\n",
       "      <td>1.32261</td>\n",
       "      <td>0.90563</td>\n",
       "      <td>0.63297</td>\n",
       "      <td>0.32957</td>\n",
       "      <td>0.45811</td>\n",
       "      <td>2015</td>\n",
       "    </tr>\n",
       "  </tbody>\n",
       "</table>\n",
       "</div>"
      ],
      "text/plain": [
       "   Happiness Rank  Happiness Score  Economy (GDP per Capita)  \\\n",
       "0               1            7.587                   1.39651   \n",
       "1               2            7.561                   1.30232   \n",
       "2               3            7.527                   1.32548   \n",
       "3               4            7.522                   1.45900   \n",
       "4               5            7.427                   1.32629   \n",
       "\n",
       "   Family (Social Support)  Health (Life Expectancy)  Freedom  \\\n",
       "0                  1.34951                   0.94143  0.66557   \n",
       "1                  1.40223                   0.94784  0.62877   \n",
       "2                  1.36058                   0.87464  0.64938   \n",
       "3                  1.33095                   0.88521  0.66973   \n",
       "4                  1.32261                   0.90563  0.63297   \n",
       "\n",
       "   Trust (Government Corruption)  Generosity  Year  \n",
       "0                        0.41978     0.29678  2015  \n",
       "1                        0.14145     0.43630  2015  \n",
       "2                        0.48357     0.34139  2015  \n",
       "3                        0.36503     0.34699  2015  \n",
       "4                        0.32957     0.45811  2015  "
      ]
     },
     "execution_count": 23,
     "metadata": {},
     "output_type": "execute_result"
    }
   ],
   "source": [
    "df6 = df5.drop(['Country', 'Region'], axis=1)\n",
    "df6.head()"
   ]
  },
  {
   "cell_type": "code",
   "execution_count": 26,
   "metadata": {},
   "outputs": [
    {
     "data": {
      "text/plain": [
       "' this visulization does a great job at pinpointing some of the strongest correlations in our dataset. \\nOne of the strongest corelations, at 0.79, is between GDP per capita and happiness score'"
      ]
     },
     "execution_count": 26,
     "metadata": {},
     "output_type": "execute_result"
    },
    {
     "data": {
      "image/png": "[encoded data removed]",
      "text/plain": [
       "<Figure size 640x480 with 2 Axes>"
      ]
     },
     "metadata": {},
     "output_type": "display_data"
    }
   ],
   "source": [
    "dr = df6.copy()\n",
    "data_raw_mx = df6.corr()\n",
    "sns.heatmap(data_raw_mx, annot=True, cmap='YlOrBr')\n",
    "plt.title(\"Correlation between numeric variables in dataset\")\n",
    "\n",
    "''' this visulization does a great job at pinpointing some of the strongest correlations in our dataset. \n",
    "One of the strongest corelations, at 0.79, is between GDP per capita and happiness score'''"
   ]
  },
  {
   "cell_type": "code",
   "execution_count": null,
   "metadata": {},
   "outputs": [],
   "source": []
  },
  {
   "cell_type": "code",
   "execution_count": 60,
   "metadata": {},
   "outputs": [
    {
     "ename": "KeyError",
     "evalue": "'Economy (GDP per Capita)'",
     "output_type": "error",
     "traceback": [
      "\u001b[0;31m---------------------------------------------------------------------------\u001b[0m",
      "\u001b[0;31mKeyError\u001b[0m                                  Traceback (most recent call last)",
      "File \u001b[0;32m/opt/conda/lib/python3.10/site-packages/pandas/core/indexes/base.py:3629\u001b[0m, in \u001b[0;36mIndex.get_loc\u001b[0;34m(self, key, method, tolerance)\u001b[0m\n\u001b[1;32m   3628\u001b[0m \u001b[38;5;28;01mtry\u001b[39;00m:\n\u001b[0;32m-> 3629\u001b[0m     \u001b[38;5;28;01mreturn\u001b[39;00m \u001b[38;5;28;43mself\u001b[39;49m\u001b[38;5;241;43m.\u001b[39;49m\u001b[43m_engine\u001b[49m\u001b[38;5;241;43m.\u001b[39;49m\u001b[43mget_loc\u001b[49m\u001b[43m(\u001b[49m\u001b[43mcasted_key\u001b[49m\u001b[43m)\u001b[49m\n\u001b[1;32m   3630\u001b[0m \u001b[38;5;28;01mexcept\u001b[39;00m \u001b[38;5;167;01mKeyError\u001b[39;00m \u001b[38;5;28;01mas\u001b[39;00m err:\n",
      "File \u001b[0;32m/opt/conda/lib/python3.10/site-packages/pandas/_libs/index.pyx:136\u001b[0m, in \u001b[0;36mpandas._libs.index.IndexEngine.get_loc\u001b[0;34m()\u001b[0m\n",
      "File \u001b[0;32m/opt/conda/lib/python3.10/site-packages/pandas/_libs/index.pyx:144\u001b[0m, in \u001b[0;36mpandas._libs.index.IndexEngine.get_loc\u001b[0;34m()\u001b[0m\n",
      "File \u001b[0;32mpandas/_libs/index_class_helper.pxi:41\u001b[0m, in \u001b[0;36mpandas._libs.index.Int64Engine._check_type\u001b[0;34m()\u001b[0m\n",
      "\u001b[0;31mKeyError\u001b[0m: 'Economy (GDP per Capita)'",
      "\nThe above exception was the direct cause of the following exception:\n",
      "\u001b[0;31mKeyError\u001b[0m                                  Traceback (most recent call last)",
      "Input \u001b[0;32mIn [60]\u001b[0m, in \u001b[0;36m<cell line: 1>\u001b[0;34m()\u001b[0m\n\u001b[0;32m----> 1\u001b[0m gdp_and_happiness\u001b[38;5;241m=\u001b[39m\u001b[43mdf5\u001b[49m\u001b[43m[\u001b[49m\u001b[38;5;124;43m'\u001b[39;49m\u001b[38;5;124;43mEconomy (GDP per Capita)\u001b[39;49m\u001b[38;5;124;43m'\u001b[39;49m\u001b[43m]\u001b[49m\n",
      "File \u001b[0;32m/opt/conda/lib/python3.10/site-packages/pandas/core/series.py:958\u001b[0m, in \u001b[0;36mSeries.__getitem__\u001b[0;34m(self, key)\u001b[0m\n\u001b[1;32m    955\u001b[0m     \u001b[38;5;28;01mreturn\u001b[39;00m \u001b[38;5;28mself\u001b[39m\u001b[38;5;241m.\u001b[39m_values[key]\n\u001b[1;32m    957\u001b[0m \u001b[38;5;28;01melif\u001b[39;00m key_is_scalar:\n\u001b[0;32m--> 958\u001b[0m     \u001b[38;5;28;01mreturn\u001b[39;00m \u001b[38;5;28;43mself\u001b[39;49m\u001b[38;5;241;43m.\u001b[39;49m\u001b[43m_get_value\u001b[49m\u001b[43m(\u001b[49m\u001b[43mkey\u001b[49m\u001b[43m)\u001b[49m\n\u001b[1;32m    960\u001b[0m \u001b[38;5;28;01mif\u001b[39;00m is_hashable(key):\n\u001b[1;32m    961\u001b[0m     \u001b[38;5;66;03m# Otherwise index.get_value will raise InvalidIndexError\u001b[39;00m\n\u001b[1;32m    962\u001b[0m     \u001b[38;5;28;01mtry\u001b[39;00m:\n\u001b[1;32m    963\u001b[0m         \u001b[38;5;66;03m# For labels that don't resolve as scalars like tuples and frozensets\u001b[39;00m\n",
      "File \u001b[0;32m/opt/conda/lib/python3.10/site-packages/pandas/core/series.py:1069\u001b[0m, in \u001b[0;36mSeries._get_value\u001b[0;34m(self, label, takeable)\u001b[0m\n\u001b[1;32m   1066\u001b[0m     \u001b[38;5;28;01mreturn\u001b[39;00m \u001b[38;5;28mself\u001b[39m\u001b[38;5;241m.\u001b[39m_values[label]\n\u001b[1;32m   1068\u001b[0m \u001b[38;5;66;03m# Similar to Index.get_value, but we do not fall back to positional\u001b[39;00m\n\u001b[0;32m-> 1069\u001b[0m loc \u001b[38;5;241m=\u001b[39m \u001b[38;5;28;43mself\u001b[39;49m\u001b[38;5;241;43m.\u001b[39;49m\u001b[43mindex\u001b[49m\u001b[38;5;241;43m.\u001b[39;49m\u001b[43mget_loc\u001b[49m\u001b[43m(\u001b[49m\u001b[43mlabel\u001b[49m\u001b[43m)\u001b[49m\n\u001b[1;32m   1070\u001b[0m \u001b[38;5;28;01mreturn\u001b[39;00m \u001b[38;5;28mself\u001b[39m\u001b[38;5;241m.\u001b[39mindex\u001b[38;5;241m.\u001b[39m_get_values_for_loc(\u001b[38;5;28mself\u001b[39m, loc, label)\n",
      "File \u001b[0;32m/opt/conda/lib/python3.10/site-packages/pandas/core/indexes/base.py:3631\u001b[0m, in \u001b[0;36mIndex.get_loc\u001b[0;34m(self, key, method, tolerance)\u001b[0m\n\u001b[1;32m   3629\u001b[0m     \u001b[38;5;28;01mreturn\u001b[39;00m \u001b[38;5;28mself\u001b[39m\u001b[38;5;241m.\u001b[39m_engine\u001b[38;5;241m.\u001b[39mget_loc(casted_key)\n\u001b[1;32m   3630\u001b[0m \u001b[38;5;28;01mexcept\u001b[39;00m \u001b[38;5;167;01mKeyError\u001b[39;00m \u001b[38;5;28;01mas\u001b[39;00m err:\n\u001b[0;32m-> 3631\u001b[0m     \u001b[38;5;28;01mraise\u001b[39;00m \u001b[38;5;167;01mKeyError\u001b[39;00m(key) \u001b[38;5;28;01mfrom\u001b[39;00m \u001b[38;5;21;01merr\u001b[39;00m\n\u001b[1;32m   3632\u001b[0m \u001b[38;5;28;01mexcept\u001b[39;00m \u001b[38;5;167;01mTypeError\u001b[39;00m:\n\u001b[1;32m   3633\u001b[0m     \u001b[38;5;66;03m# If we have a listlike key, _check_indexing_error will raise\u001b[39;00m\n\u001b[1;32m   3634\u001b[0m     \u001b[38;5;66;03m#  InvalidIndexError. Otherwise we fall through and re-raise\u001b[39;00m\n\u001b[1;32m   3635\u001b[0m     \u001b[38;5;66;03m#  the TypeError.\u001b[39;00m\n\u001b[1;32m   3636\u001b[0m     \u001b[38;5;28mself\u001b[39m\u001b[38;5;241m.\u001b[39m_check_indexing_error(key)\n",
      "\u001b[0;31mKeyError\u001b[0m: 'Economy (GDP per Capita)'"
     ]
    }
   ],
   "source": [
    "gdp_and_happiness=df5['Economy (GDP per Capita)']"
   ]
  },
  {
   "cell_type": "code",
   "execution_count": null,
   "metadata": {},
   "outputs": [],
   "source": []
  }
 ],
 "metadata": {
  "kernelspec": {
   "display_name": "Python 3 (ipykernel)",
   "language": "python",
   "name": "python3"
  },
  "language_info": {
   "codemirror_mode": {
    "name": "ipython",
    "version": 3
   },
   "file_extension": ".py",
   "mimetype": "text/x-python",
   "name": "python",
   "nbconvert_exporter": "python",
   "pygments_lexer": "ipython3",
   "version": "3.10.6"
  }
 },
 "nbformat": 4,
 "nbformat_minor": 4
}
