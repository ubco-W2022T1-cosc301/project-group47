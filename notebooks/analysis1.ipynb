{
 "cells": [
  {
   "cell_type": "markdown",
   "metadata": {},
   "source": [
    "Anna Clara de Andrada"
   ]
  },
  {
   "cell_type": "markdown",
   "metadata": {},
   "source": [
    "## Is there a relationship between the decrease in forest coverage and the increase in threatened species?",
    "\r\n",
    "It is my personal interest to explore this question further as it is imperative to understand factors that contribute to climate change and biodiversity loss"
   ]
  }
 ],
 "metadata": {},
 "nbformat": 4,
 "nbformat_minor": 2
}
