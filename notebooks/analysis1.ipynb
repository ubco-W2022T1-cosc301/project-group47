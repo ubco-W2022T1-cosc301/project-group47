{
 "cells": [
  {
   "cell_type": "markdown",
   "metadata": {},
   "source": [
    "# Anna Clara de Andrada"
   ]
  },
  {
   "cell_type": "markdown",
   "metadata": {},
   "source": [
    "## Is there a relationship between the decrease in forest coverage and the increase in threatened species?\n",
    "It is my personal interest to explore this question further as it is imperative to understand the factors that contribute to climate change and biodiversity loss if we want to foster a sustainable future."
   ]
  },
  {
   "cell_type": "code",
   "execution_count": null,
   "metadata": {},
   "outputs": [
    {
     "name": "stdout",
     "output_type": "stream",
     "text": [
      "     CO2 emission estimates  Year  \\\n",
      "0                   Albania  1975   \n",
      "1                   Albania  1985   \n",
      "2                   Albania  1995   \n",
      "3                   Albania  2005   \n",
      "4                   Albania  2010   \n",
      "...                     ...   ...   \n",
      "2127               Zimbabwe  2005   \n",
      "2128               Zimbabwe  2010   \n",
      "2129               Zimbabwe  2015   \n",
      "2130               Zimbabwe  2016   \n",
      "2131               Zimbabwe  2017   \n",
      "\n",
      "                                                 Series     Value  \n",
      "0     Emissions (thousand metric tons of carbon diox...  4338.334  \n",
      "1     Emissions (thousand metric tons of carbon diox...  6929.926  \n",
      "2     Emissions (thousand metric tons of carbon diox...  1848.549  \n",
      "3     Emissions (thousand metric tons of carbon diox...  3825.184  \n",
      "4     Emissions (thousand metric tons of carbon diox...  3930.295  \n",
      "...                                                 ...       ...  \n",
      "2127  Emissions per capita (metric tons of carbon di...     0.794  \n",
      "2128  Emissions per capita (metric tons of carbon di...     0.672  \n",
      "2129  Emissions per capita (metric tons of carbon di...     0.749  \n",
      "2130  Emissions per capita (metric tons of carbon di...     0.642  \n",
      "2131  Emissions per capita (metric tons of carbon di...     0.588  \n",
      "\n",
      "[2132 rows x 4 columns]\n",
      "     Threatened species  Year                                    Series  Value\n",
      "0           Afghanistan  2004  Threatened Species: Vertebrates (number)     31\n",
      "1           Afghanistan  2010  Threatened Species: Vertebrates (number)     31\n",
      "2           Afghanistan  2016  Threatened Species: Vertebrates (number)     35\n",
      "3           Afghanistan  2017  Threatened Species: Vertebrates (number)     35\n",
      "4           Afghanistan  2018  Threatened Species: Vertebrates (number)     34\n",
      "...                 ...   ...                                       ...    ...\n",
      "6913           Zimbabwe  2016        Threatened Species: Total (number)     61\n",
      "6914           Zimbabwe  2017        Threatened Species: Total (number)     89\n",
      "6915           Zimbabwe  2018        Threatened Species: Total (number)     95\n",
      "6916           Zimbabwe  2019        Threatened Species: Total (number)    103\n",
      "6917           Zimbabwe  2020        Threatened Species: Total (number)    122\n",
      "\n",
      "[6918 rows x 4 columns]\n",
      "                               Land  Year  \\\n",
      "0     Total, all countries or areas  2005   \n",
      "1     Total, all countries or areas  2005   \n",
      "2     Total, all countries or areas  2005   \n",
      "3     Total, all countries or areas  2005   \n",
      "4     Total, all countries or areas  2005   \n",
      "...                             ...   ...   \n",
      "6154                       Zimbabwe  2017   \n",
      "6155                       Zimbabwe  2017   \n",
      "6156                       Zimbabwe  2017   \n",
      "6157                       Zimbabwe  2017   \n",
      "6158                       Zimbabwe  2019   \n",
      "\n",
      "                                                 Series         Value  \n",
      "0                         Land area (thousand hectares)  1.299769e+07  \n",
      "1                       Arable land (thousand hectares)  1.356869e+06  \n",
      "2                   Permanent crops (thousand hectares)  1.456805e+05  \n",
      "3                      Forest cover (thousand hectares)  4.032743e+06  \n",
      "4                    Arable land (% of total land area)  1.043930e+01  \n",
      "...                                                 ...           ...  \n",
      "6154                 Arable land (% of total land area)  1.033990e+01  \n",
      "6155             Permanent crops (% of total land area)  2.585000e-01  \n",
      "6156                Forest cover (% of total land area)  3.635000e+01  \n",
      "6157  Important sites for terrestrial biodiversity p...  8.121760e+01  \n",
      "6158  Important sites for terrestrial biodiversity p...  8.121760e+01  \n",
      "\n",
      "[6159 rows x 4 columns]\n",
      "     Water supply and sanitation services  Year  \\\n",
      "0           Total, all countries or areas  2005   \n",
      "1           Total, all countries or areas  2005   \n",
      "2           Total, all countries or areas  2005   \n",
      "3           Total, all countries or areas  2005   \n",
      "4           Total, all countries or areas  2005   \n",
      "...                                   ...   ...   \n",
      "1517                               Zambia  2010   \n",
      "1518                               Zambia  2017   \n",
      "1519                             Zimbabwe  2005   \n",
      "1520                             Zimbabwe  2010   \n",
      "1521                             Zimbabwe  2017   \n",
      "\n",
      "                                                 Series    Value  \n",
      "0     Safely managed drinking water sources, urban (...  86.1804  \n",
      "1     Safely managed drinking water sources, rural (...  43.0323  \n",
      "2     Safely managed drinking water sources, total (...  64.2425  \n",
      "3     Safely managed sanitation facilities, urban (P...  37.0176  \n",
      "4     Safely managed sanitation facilities, rural (P...  26.0720  \n",
      "...                                                 ...      ...  \n",
      "1517  Safely managed drinking water sources, urban (...  47.0679  \n",
      "1518  Safely managed drinking water sources, urban (...  46.2452  \n",
      "1519  Safely managed sanitation facilities, urban (P...  22.3062  \n",
      "1520  Safely managed sanitation facilities, urban (P...  19.7990  \n",
      "1521  Safely managed sanitation facilities, urban (P...  16.2922  \n",
      "\n",
      "[1522 rows x 4 columns]\n"
     ]
    }
   ],
   "source": [
    "import numpy as np\n",
    "import pandas as pd\n",
    "\n",
    "df1 = pd.read_csv('Carbon Dioxide Emission Estimates.csv')\n",
    "df2 = pd.read_csv('Threatened Species.csv')\n",
    "df3 = pd.read_csv('Land.csv')\n",
    "df4 = pd.read_csv('Water and Sanitation Services.csv')\n",
    "\n",
    "print(df1)\n",
    "print(df2)\n",
    "print(df3)\n",
    "print(df4)"
   ]
  },
  {
   "cell_type": "code",
   "execution_count": null,
   "metadata": {},
   "outputs": [
    {
     "name": "stdout",
     "output_type": "stream",
     "text": [
      "(6918, 4)\n",
      "  Threatened species  Year                                    Series  Value\n",
      "0        Afghanistan  2004  Threatened Species: Vertebrates (number)     31\n",
      "1        Afghanistan  2010  Threatened Species: Vertebrates (number)     31\n",
      "2        Afghanistan  2016  Threatened Species: Vertebrates (number)     35\n",
      "3        Afghanistan  2017  Threatened Species: Vertebrates (number)     35\n",
      "4        Afghanistan  2018  Threatened Species: Vertebrates (number)     34\n",
      "Index(['Threatened species', 'Year', 'Series', 'Value'], dtype='object')\n",
      "(6159, 4)\n",
      "                            Land  Year                               Series  \\\n",
      "0  Total, all countries or areas  2005        Land area (thousand hectares)   \n",
      "1  Total, all countries or areas  2005      Arable land (thousand hectares)   \n",
      "2  Total, all countries or areas  2005  Permanent crops (thousand hectares)   \n",
      "3  Total, all countries or areas  2005     Forest cover (thousand hectares)   \n",
      "4  Total, all countries or areas  2005   Arable land (% of total land area)   \n",
      "\n",
      "          Value  \n",
      "0  1.299769e+07  \n",
      "1  1.356869e+06  \n",
      "2  1.456805e+05  \n",
      "3  4.032743e+06  \n",
      "4  1.043930e+01  \n",
      "Index(['Land', 'Year', 'Series', 'Value'], dtype='object')\n"
     ]
    }
   ],
   "source": [
    "import matplotlib.pylab as plt\n",
    "import seaborn as sns\n",
    "\n",
    "#for my question, I will be looking at only 2 datasets, df3 & df2\n",
    "number_of_rows_and_columns = df2.shape\n",
    "first_five_rows = df2.head()\n",
    "column_names = df2.columns\n",
    "\n",
    "number_of_rows_and_columns2 = df3.shape\n",
    "first_five_rows2 = df3.head()\n",
    "column_names2 = df3.columns\n",
    "\n",
    "\n",
    "print(number_of_rows_and_columns)\n",
    "print(first_five_rows)\n",
    "print(column_names)\n",
    "\n",
    "print(number_of_rows_and_columns2)\n",
    "print(first_five_rows2)\n",
    "print(column_names2)\n",
    "\n",
    "'''running this analysis helped me understand that the # of rows are similar in both datasets, \n",
    "and they are organized in the same manner when we look at the column names as well as the first 5 rows of data. \n",
    "this analysis also shed light onto the fact that the columns labeled 'land' and 'threatened species' both contain \n",
    "\"country\" data. This means that these columns will have to be renamed to the same name when the \n",
    "datasets are merged. \n",
    "\n",
    "Furthermore, by looking at the first few rows, I noticed that the Land Dataset contains different series, for which \n",
    "I will only use one (Land area) to answer my research question, so I will have to \"drop\" the other rows.\n",
    "\n",
    "'''\n"
   ]
  },
  {
   "cell_type": "code",
   "execution_count": null,
   "metadata": {},
   "outputs": [
    {
     "name": "stdout",
     "output_type": "stream",
     "text": [
      "Threatened species    253\n",
      "Year                    7\n",
      "Series                  4\n",
      "Value                 613\n",
      "dtype: int64\n"
     ]
    },
    {
     "data": {
      "text/plain": [
       "'this analysis showcased that simililarly to the \"Land\" dataset, \"Threatened Species\" also \\ncontains different variable under the \"series\" column, so we will have to be mindful of that when \\nanalyzing and interpreting the data'"
      ]
     },
     "execution_count": null,
     "metadata": {},
     "output_type": "execute_result"
    }
   ],
   "source": [
    "unique_values = df2.nunique(axis=0)\n",
    "print(unique_values)\n",
    "\n",
    "'''this analysis showcased that simililarly to the \"Land\" dataset, \"Threatened Species\" also \n",
    "contains different variable under the \"series\" column, so we will have to be mindful of that when \n",
    "analyzing and interpreting the data''' "
   ]
  },
  {
   "cell_type": "code",
   "execution_count": null,
   "metadata": {},
   "outputs": [
    {
     "name": "stdout",
     "output_type": "stream",
     "text": [
      "['Threatened Species: Vertebrates (number)'\n",
      " 'Threatened Species: Invertebrates (number)'\n",
      " 'Threatened Species: Plants (number)'\n",
      " 'Threatened Species: Total (number)']\n"
     ]
    },
    {
     "data": {
      "text/plain": [
       "\" to show the unique values under the 'series' column \""
      ]
     },
     "execution_count": null,
     "metadata": {},
     "output_type": "execute_result"
    }
   ],
   "source": [
    "print(df2['Series'].unique())\n",
    "\n",
    "''' to show the unique values under the 'series' column '''"
   ]
  },
  {
   "cell_type": "code",
   "execution_count": null,
   "metadata": {},
   "outputs": [
    {
     "name": "stdout",
     "output_type": "stream",
     "text": [
      "[2004 2010 2016 2017 2018 2019 2020]\n",
      "[1975 1985 1995 2005 2010 2015 2016 2017]\n",
      "[2005 2010 2017 2019]\n",
      "[2005 2010 2017 2000]\n"
     ]
    }
   ],
   "source": [
    "print(df2['Year'].unique())\n",
    "print(df1['Year'].unique())\n",
    "print(df3['Year'].unique())\n",
    "print(df4['Year'].unique())"
   ]
  },
  {
   "cell_type": "code",
   "execution_count": null,
   "metadata": {},
   "outputs": [],
   "source": []
  }
 ],
 "metadata": {
  "kernelspec": {
   "display_name": "Python 3 (ipykernel)",
   "language": "python",
   "name": "python3"
  }
 },
 "nbformat": 4,
 "nbformat_minor": 4
}
