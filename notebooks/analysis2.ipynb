{
 "cells": [
  {
   "cell_type": "markdown",
   "metadata": {},
   "source": [
    "# Yahia Kamel Hussein"
   ]
  },
  {
   "cell_type": "markdown",
   "metadata": {},
   "source": [
    "## What are the countries that have contributed the most and the least to climate change relief?\n",
    "\n",
    "Based on the carbon dioxide emissions, forest coverage, and land for different countries over the past years. I will analyze which countries have contributed the most and least to aid the climate change crisis."
   ]
  },
  {
   "cell_type": "code",
   "execution_count": null,
   "metadata": {},
   "outputs": [
    {
     "name": "stdout",
     "output_type": "stream",
     "text": [
      "     CO2 emission estimates  Year  \\\n",
      "0                   Albania  1975   \n",
      "1                   Albania  1985   \n",
      "2                   Albania  1995   \n",
      "3                   Albania  2005   \n",
      "4                   Albania  2010   \n",
      "...                     ...   ...   \n",
      "2127               Zimbabwe  2005   \n",
      "2128               Zimbabwe  2010   \n",
      "2129               Zimbabwe  2015   \n",
      "2130               Zimbabwe  2016   \n",
      "2131               Zimbabwe  2017   \n",
      "\n",
      "                                                 Series     Value  \n",
      "0     Emissions (thousand metric tons of carbon diox...  4338.334  \n",
      "1     Emissions (thousand metric tons of carbon diox...  6929.926  \n",
      "2     Emissions (thousand metric tons of carbon diox...  1848.549  \n",
      "3     Emissions (thousand metric tons of carbon diox...  3825.184  \n",
      "4     Emissions (thousand metric tons of carbon diox...  3930.295  \n",
      "...                                                 ...       ...  \n",
      "2127  Emissions per capita (metric tons of carbon di...     0.794  \n",
      "2128  Emissions per capita (metric tons of carbon di...     0.672  \n",
      "2129  Emissions per capita (metric tons of carbon di...     0.749  \n",
      "2130  Emissions per capita (metric tons of carbon di...     0.642  \n",
      "2131  Emissions per capita (metric tons of carbon di...     0.588  \n",
      "\n",
      "[2132 rows x 4 columns]\n",
      "     Threatened species  Year                                    Series  Value\n",
      "0           Afghanistan  2004  Threatened Species: Vertebrates (number)     31\n",
      "1           Afghanistan  2010  Threatened Species: Vertebrates (number)     31\n",
      "2           Afghanistan  2016  Threatened Species: Vertebrates (number)     35\n",
      "3           Afghanistan  2017  Threatened Species: Vertebrates (number)     35\n",
      "4           Afghanistan  2018  Threatened Species: Vertebrates (number)     34\n",
      "...                 ...   ...                                       ...    ...\n",
      "6913           Zimbabwe  2016        Threatened Species: Total (number)     61\n",
      "6914           Zimbabwe  2017        Threatened Species: Total (number)     89\n",
      "6915           Zimbabwe  2018        Threatened Species: Total (number)     95\n",
      "6916           Zimbabwe  2019        Threatened Species: Total (number)    103\n",
      "6917           Zimbabwe  2020        Threatened Species: Total (number)    122\n",
      "\n",
      "[6918 rows x 4 columns]\n",
      "                               Land  Year  \\\n",
      "0     Total, all countries or areas  2005   \n",
      "1     Total, all countries or areas  2005   \n",
      "2     Total, all countries or areas  2005   \n",
      "3     Total, all countries or areas  2005   \n",
      "4     Total, all countries or areas  2005   \n",
      "...                             ...   ...   \n",
      "6154                       Zimbabwe  2017   \n",
      "6155                       Zimbabwe  2017   \n",
      "6156                       Zimbabwe  2017   \n",
      "6157                       Zimbabwe  2017   \n",
      "6158                       Zimbabwe  2019   \n",
      "\n",
      "                                                 Series         Value  \n",
      "0                         Land area (thousand hectares)  1.299769e+07  \n",
      "1                       Arable land (thousand hectares)  1.356869e+06  \n",
      "2                   Permanent crops (thousand hectares)  1.456805e+05  \n",
      "3                      Forest cover (thousand hectares)  4.032743e+06  \n",
      "4                    Arable land (% of total land area)  1.043930e+01  \n",
      "...                                                 ...           ...  \n",
      "6154                 Arable land (% of total land area)  1.033990e+01  \n",
      "6155             Permanent crops (% of total land area)  2.585000e-01  \n",
      "6156                Forest cover (% of total land area)  3.635000e+01  \n",
      "6157  Important sites for terrestrial biodiversity p...  8.121760e+01  \n",
      "6158  Important sites for terrestrial biodiversity p...  8.121760e+01  \n",
      "\n",
      "[6159 rows x 4 columns]\n",
      "     Water supply and sanitation services  Year  \\\n",
      "0           Total, all countries or areas  2005   \n",
      "1           Total, all countries or areas  2005   \n",
      "2           Total, all countries or areas  2005   \n",
      "3           Total, all countries or areas  2005   \n",
      "4           Total, all countries or areas  2005   \n",
      "...                                   ...   ...   \n",
      "1517                               Zambia  2010   \n",
      "1518                               Zambia  2017   \n",
      "1519                             Zimbabwe  2005   \n",
      "1520                             Zimbabwe  2010   \n",
      "1521                             Zimbabwe  2017   \n",
      "\n",
      "                                                 Series    Value  \n",
      "0     Safely managed drinking water sources, urban (...  86.1804  \n",
      "1     Safely managed drinking water sources, rural (...  43.0323  \n",
      "2     Safely managed drinking water sources, total (...  64.2425  \n",
      "3     Safely managed sanitation facilities, urban (P...  37.0176  \n",
      "4     Safely managed sanitation facilities, rural (P...  26.0720  \n",
      "...                                                 ...      ...  \n",
      "1517  Safely managed drinking water sources, urban (...  47.0679  \n",
      "1518  Safely managed drinking water sources, urban (...  46.2452  \n",
      "1519  Safely managed sanitation facilities, urban (P...  22.3062  \n",
      "1520  Safely managed sanitation facilities, urban (P...  19.7990  \n",
      "1521  Safely managed sanitation facilities, urban (P...  16.2922  \n",
      "\n",
      "[1522 rows x 4 columns]\n"
     ]
    }
   ],
   "source": [
    "import numpy as np\n",
    "import pandas as pd\n",
    "\n",
    "df1 = pd.read_csv('Carbon Dioxide Emission Estimates.csv')\n",
    "df2 = pd.read_csv('Threatened Species.csv')\n",
    "df3 = pd.read_csv('Land.csv')\n",
    "df4 = pd.read_csv('Water and Sanitation Services.csv')\n",
    "\n",
    "print(df1)\n",
    "print(df2)\n",
    "print(df3)\n",
    "print(df4)"
   ]
  },
  {
   "cell_type": "code",
   "execution_count": null,
   "metadata": {},
   "outputs": [
    {
     "ename": "KeyError",
     "evalue": "\"['Albania'] not found in axis\"",
     "output_type": "error",
     "traceback": [
      "\u001b[0;31m---------------------------------------------------------------------------\u001b[0m",
      "\u001b[0;31mKeyError\u001b[0m                                  Traceback (most recent call last)",
      "Cell \u001b[0;32mIn [5], line 8\u001b[0m\n\u001b[1;32m      5\u001b[0m df1\u001b[38;5;241m.\u001b[39mrename(columns \u001b[38;5;241m=\u001b[39m {\u001b[38;5;124m'\u001b[39m\u001b[38;5;124mCO2 emission estimates\u001b[39m\u001b[38;5;124m'\u001b[39m : \u001b[38;5;124m'\u001b[39m\u001b[38;5;124mCountries\u001b[39m\u001b[38;5;124m'\u001b[39m}, inplace \u001b[38;5;241m=\u001b[39m \u001b[38;5;28;01mTrue\u001b[39;00m)\n\u001b[1;32m      6\u001b[0m df2\u001b[38;5;241m.\u001b[39mrename(columns \u001b[38;5;241m=\u001b[39m {\u001b[38;5;124m'\u001b[39m\u001b[38;5;124mThreatened species\u001b[39m\u001b[38;5;124m'\u001b[39m : \u001b[38;5;124m'\u001b[39m\u001b[38;5;124mCountries\u001b[39m\u001b[38;5;124m'\u001b[39m}, inplace \u001b[38;5;241m=\u001b[39m \u001b[38;5;28;01mTrue\u001b[39;00m)\n\u001b[0;32m----> 8\u001b[0m \u001b[43mdf1\u001b[49m\u001b[38;5;241;43m.\u001b[39;49m\u001b[43mdrop\u001b[49m\u001b[43m(\u001b[49m\u001b[43m[\u001b[49m\u001b[38;5;124;43m\"\u001b[39;49m\u001b[38;5;124;43mAlbania\u001b[39;49m\u001b[38;5;124;43m\"\u001b[39;49m\u001b[43m]\u001b[49m\u001b[43m,\u001b[49m\u001b[43m \u001b[49m\u001b[43minplace\u001b[49m\u001b[38;5;241;43m=\u001b[39;49m\u001b[43m \u001b[49m\u001b[38;5;28;43;01mTrue\u001b[39;49;00m\u001b[43m)\u001b[49m\n\u001b[1;32m     11\u001b[0m carbon_threatened \u001b[38;5;241m=\u001b[39m pd\u001b[38;5;241m.\u001b[39mmerge(df1, df2, how \u001b[38;5;241m=\u001b[39m \u001b[38;5;124m\"\u001b[39m\u001b[38;5;124mouter\u001b[39m\u001b[38;5;124m\"\u001b[39m)\n\u001b[1;32m     12\u001b[0m carbon_threatened\n",
      "File \u001b[0;32m~/opt/miniconda3/lib/python3.9/site-packages/pandas/util/_decorators.py:311\u001b[0m, in \u001b[0;36mdeprecate_nonkeyword_arguments.<locals>.decorate.<locals>.wrapper\u001b[0;34m(*args, **kwargs)\u001b[0m\n\u001b[1;32m    305\u001b[0m \u001b[38;5;28;01mif\u001b[39;00m \u001b[38;5;28mlen\u001b[39m(args) \u001b[38;5;241m>\u001b[39m num_allow_args:\n\u001b[1;32m    306\u001b[0m     warnings\u001b[38;5;241m.\u001b[39mwarn(\n\u001b[1;32m    307\u001b[0m         msg\u001b[38;5;241m.\u001b[39mformat(arguments\u001b[38;5;241m=\u001b[39marguments),\n\u001b[1;32m    308\u001b[0m         \u001b[38;5;167;01mFutureWarning\u001b[39;00m,\n\u001b[1;32m    309\u001b[0m         stacklevel\u001b[38;5;241m=\u001b[39mstacklevel,\n\u001b[1;32m    310\u001b[0m     )\n\u001b[0;32m--> 311\u001b[0m \u001b[38;5;28;01mreturn\u001b[39;00m \u001b[43mfunc\u001b[49m\u001b[43m(\u001b[49m\u001b[38;5;241;43m*\u001b[39;49m\u001b[43margs\u001b[49m\u001b[43m,\u001b[49m\u001b[43m \u001b[49m\u001b[38;5;241;43m*\u001b[39;49m\u001b[38;5;241;43m*\u001b[39;49m\u001b[43mkwargs\u001b[49m\u001b[43m)\u001b[49m\n",
      "File \u001b[0;32m~/opt/miniconda3/lib/python3.9/site-packages/pandas/core/frame.py:4954\u001b[0m, in \u001b[0;36mDataFrame.drop\u001b[0;34m(self, labels, axis, index, columns, level, inplace, errors)\u001b[0m\n\u001b[1;32m   4806\u001b[0m \u001b[38;5;129m@deprecate_nonkeyword_arguments\u001b[39m(version\u001b[38;5;241m=\u001b[39m\u001b[38;5;28;01mNone\u001b[39;00m, allowed_args\u001b[38;5;241m=\u001b[39m[\u001b[38;5;124m\"\u001b[39m\u001b[38;5;124mself\u001b[39m\u001b[38;5;124m\"\u001b[39m, \u001b[38;5;124m\"\u001b[39m\u001b[38;5;124mlabels\u001b[39m\u001b[38;5;124m\"\u001b[39m])\n\u001b[1;32m   4807\u001b[0m \u001b[38;5;28;01mdef\u001b[39;00m \u001b[38;5;21mdrop\u001b[39m(\n\u001b[1;32m   4808\u001b[0m     \u001b[38;5;28mself\u001b[39m,\n\u001b[0;32m   (...)\u001b[0m\n\u001b[1;32m   4815\u001b[0m     errors: \u001b[38;5;28mstr\u001b[39m \u001b[38;5;241m=\u001b[39m \u001b[38;5;124m\"\u001b[39m\u001b[38;5;124mraise\u001b[39m\u001b[38;5;124m\"\u001b[39m,\n\u001b[1;32m   4816\u001b[0m ):\n\u001b[1;32m   4817\u001b[0m     \u001b[38;5;124;03m\"\"\"\u001b[39;00m\n\u001b[1;32m   4818\u001b[0m \u001b[38;5;124;03m    Drop specified labels from rows or columns.\u001b[39;00m\n\u001b[1;32m   4819\u001b[0m \n\u001b[0;32m   (...)\u001b[0m\n\u001b[1;32m   4952\u001b[0m \u001b[38;5;124;03m            weight  1.0     0.8\u001b[39;00m\n\u001b[1;32m   4953\u001b[0m \u001b[38;5;124;03m    \"\"\"\u001b[39;00m\n\u001b[0;32m-> 4954\u001b[0m     \u001b[38;5;28;01mreturn\u001b[39;00m \u001b[38;5;28;43msuper\u001b[39;49m\u001b[43m(\u001b[49m\u001b[43m)\u001b[49m\u001b[38;5;241;43m.\u001b[39;49m\u001b[43mdrop\u001b[49m\u001b[43m(\u001b[49m\n\u001b[1;32m   4955\u001b[0m \u001b[43m        \u001b[49m\u001b[43mlabels\u001b[49m\u001b[38;5;241;43m=\u001b[39;49m\u001b[43mlabels\u001b[49m\u001b[43m,\u001b[49m\n\u001b[1;32m   4956\u001b[0m \u001b[43m        \u001b[49m\u001b[43maxis\u001b[49m\u001b[38;5;241;43m=\u001b[39;49m\u001b[43maxis\u001b[49m\u001b[43m,\u001b[49m\n\u001b[1;32m   4957\u001b[0m \u001b[43m        \u001b[49m\u001b[43mindex\u001b[49m\u001b[38;5;241;43m=\u001b[39;49m\u001b[43mindex\u001b[49m\u001b[43m,\u001b[49m\n\u001b[1;32m   4958\u001b[0m \u001b[43m        \u001b[49m\u001b[43mcolumns\u001b[49m\u001b[38;5;241;43m=\u001b[39;49m\u001b[43mcolumns\u001b[49m\u001b[43m,\u001b[49m\n\u001b[1;32m   4959\u001b[0m \u001b[43m        \u001b[49m\u001b[43mlevel\u001b[49m\u001b[38;5;241;43m=\u001b[39;49m\u001b[43mlevel\u001b[49m\u001b[43m,\u001b[49m\n\u001b[1;32m   4960\u001b[0m \u001b[43m        \u001b[49m\u001b[43minplace\u001b[49m\u001b[38;5;241;43m=\u001b[39;49m\u001b[43minplace\u001b[49m\u001b[43m,\u001b[49m\n\u001b[1;32m   4961\u001b[0m \u001b[43m        \u001b[49m\u001b[43merrors\u001b[49m\u001b[38;5;241;43m=\u001b[39;49m\u001b[43merrors\u001b[49m\u001b[43m,\u001b[49m\n\u001b[1;32m   4962\u001b[0m \u001b[43m    \u001b[49m\u001b[43m)\u001b[49m\n",
      "File \u001b[0;32m~/opt/miniconda3/lib/python3.9/site-packages/pandas/core/generic.py:4267\u001b[0m, in \u001b[0;36mNDFrame.drop\u001b[0;34m(self, labels, axis, index, columns, level, inplace, errors)\u001b[0m\n\u001b[1;32m   4265\u001b[0m \u001b[38;5;28;01mfor\u001b[39;00m axis, labels \u001b[38;5;129;01min\u001b[39;00m axes\u001b[38;5;241m.\u001b[39mitems():\n\u001b[1;32m   4266\u001b[0m     \u001b[38;5;28;01mif\u001b[39;00m labels \u001b[38;5;129;01mis\u001b[39;00m \u001b[38;5;129;01mnot\u001b[39;00m \u001b[38;5;28;01mNone\u001b[39;00m:\n\u001b[0;32m-> 4267\u001b[0m         obj \u001b[38;5;241m=\u001b[39m \u001b[43mobj\u001b[49m\u001b[38;5;241;43m.\u001b[39;49m\u001b[43m_drop_axis\u001b[49m\u001b[43m(\u001b[49m\u001b[43mlabels\u001b[49m\u001b[43m,\u001b[49m\u001b[43m \u001b[49m\u001b[43maxis\u001b[49m\u001b[43m,\u001b[49m\u001b[43m \u001b[49m\u001b[43mlevel\u001b[49m\u001b[38;5;241;43m=\u001b[39;49m\u001b[43mlevel\u001b[49m\u001b[43m,\u001b[49m\u001b[43m \u001b[49m\u001b[43merrors\u001b[49m\u001b[38;5;241;43m=\u001b[39;49m\u001b[43merrors\u001b[49m\u001b[43m)\u001b[49m\n\u001b[1;32m   4269\u001b[0m \u001b[38;5;28;01mif\u001b[39;00m inplace:\n\u001b[1;32m   4270\u001b[0m     \u001b[38;5;28mself\u001b[39m\u001b[38;5;241m.\u001b[39m_update_inplace(obj)\n",
      "File \u001b[0;32m~/opt/miniconda3/lib/python3.9/site-packages/pandas/core/generic.py:4311\u001b[0m, in \u001b[0;36mNDFrame._drop_axis\u001b[0;34m(self, labels, axis, level, errors, consolidate, only_slice)\u001b[0m\n\u001b[1;32m   4309\u001b[0m         new_axis \u001b[38;5;241m=\u001b[39m axis\u001b[38;5;241m.\u001b[39mdrop(labels, level\u001b[38;5;241m=\u001b[39mlevel, errors\u001b[38;5;241m=\u001b[39merrors)\n\u001b[1;32m   4310\u001b[0m     \u001b[38;5;28;01melse\u001b[39;00m:\n\u001b[0;32m-> 4311\u001b[0m         new_axis \u001b[38;5;241m=\u001b[39m \u001b[43maxis\u001b[49m\u001b[38;5;241;43m.\u001b[39;49m\u001b[43mdrop\u001b[49m\u001b[43m(\u001b[49m\u001b[43mlabels\u001b[49m\u001b[43m,\u001b[49m\u001b[43m \u001b[49m\u001b[43merrors\u001b[49m\u001b[38;5;241;43m=\u001b[39;49m\u001b[43merrors\u001b[49m\u001b[43m)\u001b[49m\n\u001b[1;32m   4312\u001b[0m     indexer \u001b[38;5;241m=\u001b[39m axis\u001b[38;5;241m.\u001b[39mget_indexer(new_axis)\n\u001b[1;32m   4314\u001b[0m \u001b[38;5;66;03m# Case for non-unique axis\u001b[39;00m\n\u001b[1;32m   4315\u001b[0m \u001b[38;5;28;01melse\u001b[39;00m:\n",
      "File \u001b[0;32m~/opt/miniconda3/lib/python3.9/site-packages/pandas/core/indexes/base.py:6644\u001b[0m, in \u001b[0;36mIndex.drop\u001b[0;34m(self, labels, errors)\u001b[0m\n\u001b[1;32m   6642\u001b[0m \u001b[38;5;28;01mif\u001b[39;00m mask\u001b[38;5;241m.\u001b[39many():\n\u001b[1;32m   6643\u001b[0m     \u001b[38;5;28;01mif\u001b[39;00m errors \u001b[38;5;241m!=\u001b[39m \u001b[38;5;124m\"\u001b[39m\u001b[38;5;124mignore\u001b[39m\u001b[38;5;124m\"\u001b[39m:\n\u001b[0;32m-> 6644\u001b[0m         \u001b[38;5;28;01mraise\u001b[39;00m \u001b[38;5;167;01mKeyError\u001b[39;00m(\u001b[38;5;124mf\u001b[39m\u001b[38;5;124m\"\u001b[39m\u001b[38;5;132;01m{\u001b[39;00m\u001b[38;5;28mlist\u001b[39m(labels[mask])\u001b[38;5;132;01m}\u001b[39;00m\u001b[38;5;124m not found in axis\u001b[39m\u001b[38;5;124m\"\u001b[39m)\n\u001b[1;32m   6645\u001b[0m     indexer \u001b[38;5;241m=\u001b[39m indexer[\u001b[38;5;241m~\u001b[39mmask]\n\u001b[1;32m   6646\u001b[0m \u001b[38;5;28;01mreturn\u001b[39;00m \u001b[38;5;28mself\u001b[39m\u001b[38;5;241m.\u001b[39mdelete(indexer)\n",
      "\u001b[0;31mKeyError\u001b[0m: \"['Albania'] not found in axis\""
     ]
    }
   ],
   "source": [
    "#merging datasets 1 and 2 + renaming colums\n",
    "\n",
    "df1.rename(columns = {'Value' : 'Emissions'}, inplace = True)\n",
    "df2.rename(columns = {'Value' : 'Number of Species'}, inplace = True)\n",
    "df1.rename(columns = {'CO2 emission estimates' : 'Countries'}, inplace = True)\n",
    "df2.rename(columns = {'Threatened species' : 'Countries'}, inplace = True)\n",
    "\n",
    "df1.drop([\"Albania\"], inplace= True)\n",
    "\n",
    "\n",
    "carbon_threatened = pd.merge(df1, df2, how = \"outer\")\n",
    "carbon_threatened"
   ]
  },
  {
   "cell_type": "code",
   "execution_count": null,
   "metadata": {},
   "outputs": [
    {
     "name": "stderr",
     "output_type": "stream",
     "text": [
      "C:\\Anaconda\\lib\\site-packages\\pandas\\core\\reshape\\merge.py:1205: UserWarning: You are merging on int and float columns where the float values are not equal to their int representation.\n",
      "  warnings.warn(\n"
     ]
    }
   ],
   "source": [
    "#Merge dataframes and keep only overlapping rows\n",
    "\n",
    "overlapping_carbon_threatened = df1.merge(df2, left_on = 'Emissions', right_on = 'Number of Species', how = 'inner')"
   ]
  },
  {
   "cell_type": "code",
   "execution_count": null,
   "metadata": {},
   "outputs": [],
   "source": []
  }
 ],
 "metadata": {
  "kernelspec": {
   "display_name": "Python 3",
   "language": "python",
   "name": "python3"
  }
 },
 "nbformat": 4,
 "nbformat_minor": 4
}
