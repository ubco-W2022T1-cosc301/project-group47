{
 "cells": [
  {
   "cell_type": "markdown",
   "metadata": {},
   "source": [
    "# Yahia Kamel Hussein"
   ]
  },
  {
   "cell_type": "markdown",
   "metadata": {},
   "source": [
    "## What are the countries that have contributed the most and the least to climate change relief?\n",
    "\n",
    "Based on the carbon dioxide emissions, forest coverage, and land for different countries over the past years. I will analyze which countries have contributed the most and least to aid the climate change crisis."
   ]
  },
  {
   "cell_type": "code",
   "execution_count": null,
   "metadata": {},
   "outputs": [
    {
     "name": "stdout",
     "output_type": "stream",
     "text": [
      "     CO2 emission estimates  Year  \\\n",
      "0                   Albania  1975   \n",
      "1                   Albania  1985   \n",
      "2                   Albania  1995   \n",
      "3                   Albania  2005   \n",
      "4                   Albania  2010   \n",
      "...                     ...   ...   \n",
      "2127               Zimbabwe  2005   \n",
      "2128               Zimbabwe  2010   \n",
      "2129               Zimbabwe  2015   \n",
      "2130               Zimbabwe  2016   \n",
      "2131               Zimbabwe  2017   \n",
      "\n",
      "                                                 Series     Value  \n",
      "0     Emissions (thousand metric tons of carbon diox...  4338.334  \n",
      "1     Emissions (thousand metric tons of carbon diox...  6929.926  \n",
      "2     Emissions (thousand metric tons of carbon diox...  1848.549  \n",
      "3     Emissions (thousand metric tons of carbon diox...  3825.184  \n",
      "4     Emissions (thousand metric tons of carbon diox...  3930.295  \n",
      "...                                                 ...       ...  \n",
      "2127  Emissions per capita (metric tons of carbon di...     0.794  \n",
      "2128  Emissions per capita (metric tons of carbon di...     0.672  \n",
      "2129  Emissions per capita (metric tons of carbon di...     0.749  \n",
      "2130  Emissions per capita (metric tons of carbon di...     0.642  \n",
      "2131  Emissions per capita (metric tons of carbon di...     0.588  \n",
      "\n",
      "[2132 rows x 4 columns]\n",
      "     Threatened species  Year                                    Series  Value\n",
      "0           Afghanistan  2004  Threatened Species: Vertebrates (number)     31\n",
      "1           Afghanistan  2010  Threatened Species: Vertebrates (number)     31\n",
      "2           Afghanistan  2016  Threatened Species: Vertebrates (number)     35\n",
      "3           Afghanistan  2017  Threatened Species: Vertebrates (number)     35\n",
      "4           Afghanistan  2018  Threatened Species: Vertebrates (number)     34\n",
      "...                 ...   ...                                       ...    ...\n",
      "6913           Zimbabwe  2016        Threatened Species: Total (number)     61\n",
      "6914           Zimbabwe  2017        Threatened Species: Total (number)     89\n",
      "6915           Zimbabwe  2018        Threatened Species: Total (number)     95\n",
      "6916           Zimbabwe  2019        Threatened Species: Total (number)    103\n",
      "6917           Zimbabwe  2020        Threatened Species: Total (number)    122\n",
      "\n",
      "[6918 rows x 4 columns]\n",
      "                               Land  Year  \\\n",
      "0     Total, all countries or areas  2005   \n",
      "1     Total, all countries or areas  2005   \n",
      "2     Total, all countries or areas  2005   \n",
      "3     Total, all countries or areas  2005   \n",
      "4     Total, all countries or areas  2005   \n",
      "...                             ...   ...   \n",
      "6154                       Zimbabwe  2017   \n",
      "6155                       Zimbabwe  2017   \n",
      "6156                       Zimbabwe  2017   \n",
      "6157                       Zimbabwe  2017   \n",
      "6158                       Zimbabwe  2019   \n",
      "\n",
      "                                                 Series         Value  \n",
      "0                         Land area (thousand hectares)  1.299769e+07  \n",
      "1                       Arable land (thousand hectares)  1.356869e+06  \n",
      "2                   Permanent crops (thousand hectares)  1.456805e+05  \n",
      "3                      Forest cover (thousand hectares)  4.032743e+06  \n",
      "4                    Arable land (% of total land area)  1.043930e+01  \n",
      "...                                                 ...           ...  \n",
      "6154                 Arable land (% of total land area)  1.033990e+01  \n",
      "6155             Permanent crops (% of total land area)  2.585000e-01  \n",
      "6156                Forest cover (% of total land area)  3.635000e+01  \n",
      "6157  Important sites for terrestrial biodiversity p...  8.121760e+01  \n",
      "6158  Important sites for terrestrial biodiversity p...  8.121760e+01  \n",
      "\n",
      "[6159 rows x 4 columns]\n",
      "     Water supply and sanitation services  Year  \\\n",
      "0           Total, all countries or areas  2005   \n",
      "1           Total, all countries or areas  2005   \n",
      "2           Total, all countries or areas  2005   \n",
      "3           Total, all countries or areas  2005   \n",
      "4           Total, all countries or areas  2005   \n",
      "...                                   ...   ...   \n",
      "1517                               Zambia  2010   \n",
      "1518                               Zambia  2017   \n",
      "1519                             Zimbabwe  2005   \n",
      "1520                             Zimbabwe  2010   \n",
      "1521                             Zimbabwe  2017   \n",
      "\n",
      "                                                 Series    Value  \n",
      "0     Safely managed drinking water sources, urban (...  86.1804  \n",
      "1     Safely managed drinking water sources, rural (...  43.0323  \n",
      "2     Safely managed drinking water sources, total (...  64.2425  \n",
      "3     Safely managed sanitation facilities, urban (P...  37.0176  \n",
      "4     Safely managed sanitation facilities, rural (P...  26.0720  \n",
      "...                                                 ...      ...  \n",
      "1517  Safely managed drinking water sources, urban (...  47.0679  \n",
      "1518  Safely managed drinking water sources, urban (...  46.2452  \n",
      "1519  Safely managed sanitation facilities, urban (P...  22.3062  \n",
      "1520  Safely managed sanitation facilities, urban (P...  19.7990  \n",
      "1521  Safely managed sanitation facilities, urban (P...  16.2922  \n",
      "\n",
      "[1522 rows x 4 columns]\n"
     ]
    }
   ],
   "source": [
    "import numpy as np\n",
    "import pandas as pd\n",
    "import matplotlib.pylab as plt\n",
    "#Understanding my variables\n",
    "import seaborn as sns\n",
    "\n",
    "df1 = pd.read_csv('Carbon Dioxide Emission Estimates.csv')\n",
    "df2 = pd.read_csv('Threatened Species.csv')\n",
    "df3 = pd.read_csv('Land.csv')\n",
    "df4 = pd.read_csv('Water and Sanitation Services.csv')\n",
    "\n",
    "print(df1)\n",
    "print(df2)\n",
    "print(df3)\n",
    "print(df4)"
   ]
  },
  {
   "cell_type": "code",
   "execution_count": null,
   "metadata": {},
   "outputs": [
    {
     "name": "stdout",
     "output_type": "stream",
     "text": [
      "Carbon Dioxide Emissions dataset shape:  (2132, 4)\n",
      "Head:    Countries  Year                                             Series  \\\n",
      "0   Albania  1975  Emissions (thousand metric tons of carbon diox...   \n",
      "1   Albania  1985  Emissions (thousand metric tons of carbon diox...   \n",
      "2   Albania  1995  Emissions (thousand metric tons of carbon diox...   \n",
      "3   Albania  2005  Emissions (thousand metric tons of carbon diox...   \n",
      "4   Albania  2010  Emissions (thousand metric tons of carbon diox...   \n",
      "\n",
      "   Emissions  \n",
      "0   4338.334  \n",
      "1   6929.926  \n",
      "2   1848.549  \n",
      "3   3825.184  \n",
      "4   3930.295  \n",
      "Columns:  Index(['Countries', 'Year', 'Series', 'Emissions'], dtype='object')\n"
     ]
    }
   ],
   "source": [
    "#Understanding my Carbon Dioxide Dataset\n",
    "#df1.shape\n",
    "#df1.head()\n",
    "#df1.columns\n",
    "print(\"Carbon Dioxide Emissions dataset shape: \",df1.shape)\n",
    "print(\"Head: \", df1.head())\n",
    "print(\"Columns: \", df1.columns)"
   ]
  },
  {
   "cell_type": "code",
   "execution_count": null,
   "metadata": {},
   "outputs": [
    {
     "name": "stdout",
     "output_type": "stream",
     "text": [
      "Threatened dataset shape:  (6918, 4)\n",
      "Head:       Countries  Year                                    Series  \\\n",
      "0  Afghanistan  2004  Threatened Species: Vertebrates (number)   \n",
      "1  Afghanistan  2010  Threatened Species: Vertebrates (number)   \n",
      "2  Afghanistan  2016  Threatened Species: Vertebrates (number)   \n",
      "3  Afghanistan  2017  Threatened Species: Vertebrates (number)   \n",
      "4  Afghanistan  2018  Threatened Species: Vertebrates (number)   \n",
      "\n",
      "   Number of Species  \n",
      "0                 31  \n",
      "1                 31  \n",
      "2                 35  \n",
      "3                 35  \n",
      "4                 34  \n",
      "Columns:  Index(['Countries', 'Year', 'Series', 'Number of Species'], dtype='object')\n"
     ]
    }
   ],
   "source": [
    "#Understanding my Threatened Species Dataset\n",
    "\n",
    "print(\"Threatened Species dataset shape: \",df2.shape)\n",
    "print(\"Head: \", df2.head())\n",
    "print(\"Columns: \", df2.columns)"
   ]
  },
  {
   "cell_type": "code",
   "execution_count": null,
   "metadata": {},
   "outputs": [
    {
     "name": "stdout",
     "output_type": "stream",
     "text": [
      "Land dataset shape:  (6159, 4)\n",
      "Head:                              Land  Year                               Series  \\\n",
      "0  Total, all countries or areas  2005        Land area (thousand hectares)   \n",
      "1  Total, all countries or areas  2005      Arable land (thousand hectares)   \n",
      "2  Total, all countries or areas  2005  Permanent crops (thousand hectares)   \n",
      "3  Total, all countries or areas  2005     Forest cover (thousand hectares)   \n",
      "4  Total, all countries or areas  2005   Arable land (% of total land area)   \n",
      "\n",
      "          Value  \n",
      "0  1.299769e+07  \n",
      "1  1.356869e+06  \n",
      "2  1.456805e+05  \n",
      "3  4.032743e+06  \n",
      "4  1.043930e+01  \n",
      "Columns:  Index(['Land', 'Year', 'Series', 'Value'], dtype='object')\n"
     ]
    }
   ],
   "source": [
    "#Understanding my Land Dataset\n",
    "\n",
    "print(\"Land dataset shape: \",df3.shape)\n",
    "print(\"Head: \", df3.head())\n",
    "print(\"Columns: \", df3.columns)"
   ]
  },
  {
   "cell_type": "code",
   "execution_count": null,
   "metadata": {},
   "outputs": [
    {
     "name": "stdout",
     "output_type": "stream",
     "text": [
      "Water and Sanitation Services dataset shape:  (1522, 4)\n",
      "Head:    Water supply and sanitation services  Year  \\\n",
      "0        Total, all countries or areas  2005   \n",
      "1        Total, all countries or areas  2005   \n",
      "2        Total, all countries or areas  2005   \n",
      "3        Total, all countries or areas  2005   \n",
      "4        Total, all countries or areas  2005   \n",
      "\n",
      "                                              Series    Value  \n",
      "0  Safely managed drinking water sources, urban (...  86.1804  \n",
      "1  Safely managed drinking water sources, rural (...  43.0323  \n",
      "2  Safely managed drinking water sources, total (...  64.2425  \n",
      "3  Safely managed sanitation facilities, urban (P...  37.0176  \n",
      "4  Safely managed sanitation facilities, rural (P...  26.0720  \n",
      "Columns:  Index(['Water supply and sanitation services', 'Year', 'Series', 'Value'], dtype='object')\n"
     ]
    }
   ],
   "source": [
    "#Understanding my Water and Sanitation Services Dataset\n",
    "\n",
    "print(\"Water and Sanitation Services dataset shape: \",df4.shape)\n",
    "print(\"Head: \", df4.head())\n",
    "print(\"Columns: \", df4.columns)"
   ]
  },
  {
   "cell_type": "code",
   "execution_count": null,
   "metadata": {},
   "outputs": [
    {
     "name": "stderr",
     "output_type": "stream",
     "text": [
      "C:\\Anaconda\\lib\\site-packages\\pandas\\core\\reshape\\merge.py:1205: UserWarning: You are merging on int and float columns where the float values are not equal to their int representation.\n",
      "  warnings.warn(\n"
     ]
    }
   ],
   "source": [
    "#merging datasets 1 and 2 + renaming columns\n",
    "\n",
    "df1.rename(columns = {'Value' : 'Emissions'}, inplace = True)\n",
    "df2.rename(columns = {'Value' : 'Number of Species'}, inplace = True)\n",
    "df1.rename(columns = {'CO2 emission estimates' : 'Countries'}, inplace = True)\n",
    "df2.rename(columns = {'Threatened species' : 'Countries'}, inplace = True)\n",
    "\n",
    "\n",
    "\n",
    "carbon_threatened = pd.merge(df1, df2, how = \"outer\")\n",
    "carbon_threatened\n",
    "#Merge dataframes and keep only overlapping rows\n",
    "\n",
    "overlapping_carbon_threatened = df1.merge(df2, left_on = 'Emissions', right_on = 'Number of Species', how = 'inner')\n"
   ]
  },
  {
   "cell_type": "code",
   "execution_count": null,
   "metadata": {},
   "outputs": [],
   "source": []
  }
 ],
 "metadata": {
  "kernelspec": {
   "display_name": "Python 3 (ipykernel)",
   "language": "python",
   "name": "python3"
  }
 },
 "nbformat": 4,
 "nbformat_minor": 4
}
