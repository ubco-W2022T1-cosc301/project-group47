{
 "cells": [
  {
   "cell_type": "markdown",
   "metadata": {},
   "source": [
    "# Yahia Kamel Hussein"
   ]
  },
  {
   "cell_type": "markdown",
   "metadata": {},
   "source": [
    "## What are the countries that offer their citizens the best living standards as observed by happiness score, social support, economy, freedom, and government corruption\n",
    "\n",
    "Based on "
   ]
  },
  {
   "cell_type": "code",
   "execution_count": null,
   "metadata": {},
   "outputs": [
    {
     "name": "stdout",
     "output_type": "stream",
     "text": [
      "      Unnamed: 0  Happiness Rank      Country  \\\n",
      "0              0               1  Switzerland   \n",
      "1              1               2      Iceland   \n",
      "2              2               3      Denmark   \n",
      "3              3               4       Norway   \n",
      "4              4               5       Canada   \n",
      "...          ...             ...          ...   \n",
      "1224         141             142    Botswana*   \n",
      "1225         142             143      Rwanda*   \n",
      "1226         143             144     Zimbabwe   \n",
      "1227         144             145      Lebanon   \n",
      "1228         145             146  Afghanistan   \n",
      "\n",
      "                               Region Happiness Score  \\\n",
      "0                      Western Europe           7.587   \n",
      "1                      Western Europe           7.561   \n",
      "2                      Western Europe           7.527   \n",
      "3                      Western Europe           7.522   \n",
      "4                       North America           7.427   \n",
      "...                               ...             ...   \n",
      "1224                                -           3,471   \n",
      "1225                                -           3,268   \n",
      "1226               Sub-Saharan Africa           2,995   \n",
      "1227  Middle East and Northern Africa           2,955   \n",
      "1228                    Southern Asia           2,404   \n",
      "\n",
      "     Economy (GDP per Capita) Family (Social Support)  \\\n",
      "0                     1.39651                 1.34951   \n",
      "1                     1.30232                 1.40223   \n",
      "2                     1.32548                 1.36058   \n",
      "3                       1.459                 1.33095   \n",
      "4                     1.32629                 1.32261   \n",
      "...                       ...                     ...   \n",
      "1224                    1,503                   0,815   \n",
      "1225                    0,785                   0,133   \n",
      "1226                    0,947                   0,690   \n",
      "1227                    1,392                   0,498   \n",
      "1228                    0,758                   0,000   \n",
      "\n",
      "     Health (Life Expectancy)  Freedom Trust (Government Corruption)  \\\n",
      "0                     0.94143  0.66557                       0.41978   \n",
      "1                     0.94784  0.62877                       0.14145   \n",
      "2                     0.87464  0.64938                       0.48357   \n",
      "3                     0.88521  0.66973                       0.36503   \n",
      "4                     0.90563  0.63297                       0.32957   \n",
      "...                       ...      ...                           ...   \n",
      "1224                    0,280    0,571                         0,102   \n",
      "1225                    0,462    0,621                         0,544   \n",
      "1226                    0,270    0,329                         0,105   \n",
      "1227                    0,631    0,103                         0,034   \n",
      "1228                    0,289    0,000                         0,005   \n",
      "\n",
      "     Generosity  Year  \n",
      "0       0.29678  2015  \n",
      "1        0.4363  2015  \n",
      "2       0.34139  2015  \n",
      "3       0.34699  2015  \n",
      "4       0.45811  2015  \n",
      "...         ...   ...  \n",
      "1224      0,012  2022  \n",
      "1225      0,187  2022  \n",
      "1226      0,106  2022  \n",
      "1227      0,082  2022  \n",
      "1228      0,089  2022  \n",
      "\n",
      "[1229 rows x 12 columns]\n"
     ]
    }
   ],
   "source": [
    "import numpy as np\n",
    "import pandas as pd\n",
    "import matplotlib.pylab as plt\n",
    "#Understanding my variables\n",
    "import seaborn as sns\n",
    "\n",
    "df = pd.read_csv(\"world_happiness_report.csv\")\n",
    "print(df)"
   ]
  },
  {
   "cell_type": "code",
   "execution_count": null,
   "metadata": {},
   "outputs": [
    {
     "name": "stdout",
     "output_type": "stream",
     "text": [
      "First Five Rows and Columns:  (1229, 12)\n",
      "Head:     Unnamed: 0  Happiness Rank      Country          Region Happiness Score  \\\n",
      "0           0               1  Switzerland  Western Europe           7.587   \n",
      "1           1               2      Iceland  Western Europe           7.561   \n",
      "2           2               3      Denmark  Western Europe           7.527   \n",
      "3           3               4       Norway  Western Europe           7.522   \n",
      "4           4               5       Canada   North America           7.427   \n",
      "\n",
      "  Economy (GDP per Capita) Family (Social Support) Health (Life Expectancy)  \\\n",
      "0                  1.39651                 1.34951                  0.94143   \n",
      "1                  1.30232                 1.40223                  0.94784   \n",
      "2                  1.32548                 1.36058                  0.87464   \n",
      "3                    1.459                 1.33095                  0.88521   \n",
      "4                  1.32629                 1.32261                  0.90563   \n",
      "\n",
      "   Freedom Trust (Government Corruption) Generosity  Year  \n",
      "0  0.66557                       0.41978    0.29678  2015  \n",
      "1  0.62877                       0.14145     0.4363  2015  \n",
      "2  0.64938                       0.48357    0.34139  2015  \n",
      "3  0.66973                       0.36503    0.34699  2015  \n",
      "4  0.63297                       0.32957    0.45811  2015  \n",
      "Columns:  Index(['Unnamed: 0', 'Happiness Rank', 'Country', 'Region', 'Happiness Score',\n",
      "       'Economy (GDP per Capita)', 'Family (Social Support)',\n",
      "       'Health (Life Expectancy)', 'Freedom', 'Trust (Government Corruption)',\n",
      "       'Generosity', 'Year'],\n",
      "      dtype='object')\n"
     ]
    }
   ],
   "source": [
    "#Understanding my Happiness Dataset\n",
    "\n",
    "print(\"First Five Rows and Columns: \",df.shape)\n",
    "print(\"Head: \", df.head())\n",
    "print(\"Columns: \", df.columns)\n",
    "\n",
    "#df1.nunique(axis=0)\n",
    "#df1.describe().apply(lambda s: s.apply(lambda x: format(x, 'f')))\n",
    "\n"
   ]
  },
  {
   "cell_type": "code",
   "execution_count": null,
   "metadata": {},
   "outputs": [
    {
     "name": "stdout",
     "output_type": "stream",
     "text": [
      "<class 'pandas.core.frame.DataFrame'>\n",
      "RangeIndex: 1229 entries, 0 to 1228\n",
      "Data columns (total 12 columns):\n",
      " #   Column                         Non-Null Count  Dtype \n",
      "---  ------                         --------------  ----- \n",
      " 0   Unnamed: 0                     1229 non-null   int64 \n",
      " 1   Happiness Rank                 1229 non-null   int64 \n",
      " 2   Country                        1229 non-null   object\n",
      " 3   Region                         1229 non-null   object\n",
      " 4   Happiness Score                1229 non-null   object\n",
      " 5   Economy (GDP per Capita)       1229 non-null   object\n",
      " 6   Family (Social Support)        1229 non-null   object\n",
      " 7   Health (Life Expectancy)       1229 non-null   object\n",
      " 8   Freedom                        1229 non-null   object\n",
      " 9   Trust (Government Corruption)  1229 non-null   object\n",
      " 10  Generosity                     1229 non-null   object\n",
      " 11  Year                           1229 non-null   int64 \n",
      "dtypes: int64(3), object(9)\n",
      "memory usage: 115.3+ KB\n"
     ]
    }
   ],
   "source": [
    "#preview dataset\n",
    "df.info()"
   ]
  },
  {
   "cell_type": "code",
   "execution_count": null,
   "metadata": {},
   "outputs": [
    {
     "name": "stdout",
     "output_type": "stream",
     "text": [
      "Unnamed: 0                        158\n",
      "Happiness Rank                    158\n",
      "Country                           195\n",
      "Region                             17\n",
      "Happiness Score                  1131\n",
      "Economy (GDP per Capita)         1150\n",
      "Family (Social Support)          1133\n",
      "Health (Life Expectancy)         1080\n",
      "Freedom                          1053\n",
      "Trust (Government Corruption)     952\n",
      "Generosity                        979\n",
      "Year                                8\n",
      "dtype: int64\n"
     ]
    },
    {
     "data": {
      "text/plain": [
       "\"This output shows that the survey includes data for all countries (158 unique values under 'Countries') in the international area over a span of 8 years\""
      ]
     },
     "execution_count": null,
     "metadata": {},
     "output_type": "execute_result"
    }
   ],
   "source": [
    "unique_values = df.nunique(axis=0)\n",
    "print(unique_values)\n",
    "\n",
    "'''This output shows that the survey includes data for all countries (158 unique values under 'Countries') in the international area over a span of 8 years'''"
   ]
  },
  {
   "cell_type": "code",
   "execution_count": null,
   "metadata": {},
   "outputs": [
    {
     "name": "stdout",
     "output_type": "stream",
     "text": [
      "Countries:  ['Switzerland' 'Iceland' 'Denmark' 'Norway' 'Canada' 'Finland'\n",
      " 'Netherlands' 'Sweden' 'New Zealand' 'Australia' 'Israel' 'Costa Rica'\n",
      " 'Austria' 'Mexico' 'United States' 'Brazil' 'Luxembourg' 'Ireland'\n",
      " 'Belgium' 'United Arab Emirates' 'United Kingdom' 'Oman' 'Venezuela'\n",
      " 'Singapore' 'Panama' 'Germany' 'Chile' 'Qatar' 'France' 'Argentina'\n",
      " 'Czech Republic' 'Uruguay' 'Colombia' 'Thailand' 'Saudi Arabia' 'Spain'\n",
      " 'Malta' 'Taiwan' 'Kuwait' 'Suriname' 'Trinidad and Tobago' 'El Salvador'\n",
      " 'Guatemala' 'Uzbekistan' 'Slovakia' 'Japan' 'South Korea' 'Ecuador'\n",
      " 'Bahrain' 'Italy' 'Bolivia' 'Moldova' 'Paraguay' 'Kazakhstan' 'Slovenia'\n",
      " 'Lithuania' 'Nicaragua' 'Peru' 'Belarus' 'Poland' 'Malaysia' 'Croatia'\n",
      " 'Libya' 'Russia' 'Jamaica' 'North Cyprus' 'Cyprus' 'Algeria' 'Kosovo'\n",
      " 'Turkmenistan' 'Mauritius' 'Hong Kong' 'Estonia' 'Indonesia' 'Vietnam'\n",
      " 'Turkey' 'Kyrgyzstan' 'Nigeria' 'Bhutan' 'Azerbaijan' 'Pakistan' 'Jordan'\n",
      " 'Montenegro' 'China' 'Zambia' 'Romania' 'Serbia' 'Portugal' 'Latvia'\n",
      " 'Philippines' 'Somaliland region' 'Morocco' 'Macedonia' 'Mozambique'\n",
      " 'Albania' 'Bosnia and Herzegovina' 'Lesotho' 'Dominican Republic' 'Laos'\n",
      " 'Mongolia' 'Swaziland' 'Greece' 'Lebanon' 'Hungary' 'Honduras'\n",
      " 'Tajikistan' 'Tunisia' 'Palestinian Territories' 'Bangladesh' 'Iran'\n",
      " 'Ukraine' 'Iraq' 'South Africa' 'Ghana' 'Zimbabwe' 'Liberia' 'India'\n",
      " 'Sudan' 'Haiti' 'Congo (Kinshasa)' 'Nepal' 'Ethiopia' 'Sierra Leone'\n",
      " 'Mauritania' 'Kenya' 'Djibouti' 'Armenia' 'Botswana' 'Myanmar' 'Georgia'\n",
      " 'Malawi' 'Sri Lanka' 'Cameroon' 'Bulgaria' 'Egypt' 'Yemen' 'Angola'\n",
      " 'Mali' 'Congo (Brazzaville)' 'Comoros' 'Uganda' 'Senegal' 'Gabon' 'Niger'\n",
      " 'Cambodia' 'Tanzania' 'Madagascar' 'Central African Republic' 'Chad'\n",
      " 'Guinea' 'Ivory Coast' 'Burkina Faso' 'Afghanistan' 'Rwanda' 'Benin'\n",
      " 'Syria' 'Burundi' 'Togo' 'Puerto Rico' 'Belize' 'Somalia'\n",
      " 'Somaliland Region' 'Namibia' 'South Sudan' 'Taiwan Province of China'\n",
      " 'Hong Kong S.A.R., China' 'Trinidad & Tobago' 'Northern Cyprus'\n",
      " 'North Macedonia' 'Gambia' 'Hong Kong S.A.R. of China' 'Maldives'\n",
      " 'Luxembourg*' 'Czechia' 'Guatemala*' 'Kuwait*' 'Belarus*' 'Turkmenistan*'\n",
      " 'North Cyprus*' 'Libya*' 'Azerbaijan*' 'Gambia*' 'Liberia*' 'Congo'\n",
      " 'Niger*' 'Comoros*' 'Palestinian Territories*' 'Eswatini, Kingdom of*'\n",
      " 'Madagascar*' 'Chad*' 'Yemen*' 'Mauritania*' 'Lesotho*' 'Botswana*'\n",
      " 'Rwanda*']\n",
      "Regions:  ['Western Europe' 'North America' 'Australia and New Zealand'\n",
      " 'Middle East and Northern Africa' 'Latin America and Caribbean'\n",
      " 'Southeastern Asia' 'Central and Eastern Europe' 'Eastern Asia'\n",
      " 'Sub-Saharan Africa' 'Southern Asia' '-' 'North America and ANZ'\n",
      " 'Middle East and North Africa' 'East Asia' 'Southeast Asia'\n",
      " 'Commonwealth of Independent States' 'South Asia']\n"
     ]
    },
    {
     "data": {
      "text/plain": [
       "\" To show which countries and regions are being analyzed. This showcases that there are some countries that are assigned a '*', and some regions are null: '-'\\n\""
      ]
     },
     "execution_count": null,
     "metadata": {},
     "output_type": "execute_result"
    }
   ],
   "source": [
    "print(\"Countries: \", df['Country'].unique())\n",
    "\n",
    "print(\"Regions: \", df['Region'].unique())\n",
    "\n",
    "\n",
    "''' To show which countries and regions are being analyzed. This showcases that there are some countries that are assigned a '*', and some regions are null: '-'\n",
    "'''\n"
   ]
  },
  {
   "cell_type": "code",
   "execution_count": null,
   "metadata": {},
   "outputs": [
    {
     "name": "stdout",
     "output_type": "stream",
     "text": [
      "      Unnamed: 0  Happiness Rank       Country  \\\n",
      "0              0               1   Switzerland   \n",
      "1              1               2       Iceland   \n",
      "2              2               3       Denmark   \n",
      "3              3               4        Norway   \n",
      "4              4               5        Canada   \n",
      "...          ...             ...           ...   \n",
      "1221         138             139      Tanzania   \n",
      "1222         139             140  Sierra Leone   \n",
      "1226         143             144      Zimbabwe   \n",
      "1227         144             145       Lebanon   \n",
      "1228         145             146   Afghanistan   \n",
      "\n",
      "                               Region Happiness Score  \\\n",
      "0                      Western Europe           7.587   \n",
      "1                      Western Europe           7.561   \n",
      "2                      Western Europe           7.527   \n",
      "3                      Western Europe           7.522   \n",
      "4                       North America           7.427   \n",
      "...                               ...             ...   \n",
      "1221               Sub-Saharan Africa           3,702   \n",
      "1222               Sub-Saharan Africa           3,574   \n",
      "1226               Sub-Saharan Africa           2,995   \n",
      "1227  Middle East and Northern Africa           2,955   \n",
      "1228                    Southern Asia           2,404   \n",
      "\n",
      "     Economy (GDP per Capita) Family (Social Support)  \\\n",
      "0                     1.39651                 1.34951   \n",
      "1                     1.30232                 1.40223   \n",
      "2                     1.32548                 1.36058   \n",
      "3                       1.459                 1.33095   \n",
      "4                     1.32629                 1.32261   \n",
      "...                       ...                     ...   \n",
      "1221                    0,848                   0,597   \n",
      "1222                    0,686                   0,416   \n",
      "1226                    0,947                   0,690   \n",
      "1227                    1,392                   0,498   \n",
      "1228                    0,758                   0,000   \n",
      "\n",
      "     Health (Life Expectancy)  Freedom Trust (Government Corruption)  \\\n",
      "0                     0.94143  0.66557                       0.41978   \n",
      "1                     0.94784  0.62877                       0.14145   \n",
      "2                     0.87464  0.64938                       0.48357   \n",
      "3                     0.88521  0.66973                       0.36503   \n",
      "4                     0.90563  0.63297                       0.32957   \n",
      "...                       ...      ...                           ...   \n",
      "1221                    0,425    0,578                         0,270   \n",
      "1222                    0,273    0,387                         0,055   \n",
      "1226                    0,270    0,329                         0,105   \n",
      "1227                    0,631    0,103                         0,034   \n",
      "1228                    0,289    0,000                         0,005   \n",
      "\n",
      "     Generosity  Year  \n",
      "0       0.29678  2015  \n",
      "1        0.4363  2015  \n",
      "2       0.34139  2015  \n",
      "3       0.34699  2015  \n",
      "4       0.45811  2015  \n",
      "...         ...   ...  \n",
      "1221      0,248  2022  \n",
      "1222      0,202  2022  \n",
      "1226      0,106  2022  \n",
      "1227      0,082  2022  \n",
      "1228      0,089  2022  \n",
      "\n",
      "[1183 rows x 12 columns]\n"
     ]
    },
    {
     "data": {
      "text/plain": [
       "'To delete all instances where region is null'"
      ]
     },
     "execution_count": null,
     "metadata": {},
     "output_type": "execute_result"
    }
   ],
   "source": [
    "#Dropping rows with null values\n",
    "\n",
    "df_cleaned = df[df.Region != '-']\n",
    "print(df_cleaned)\n",
    "\n",
    "'''To delete all instances where region is null'''"
   ]
  },
  {
   "cell_type": "code",
   "execution_count": null,
   "metadata": {},
   "outputs": [
    {
     "name": "stdout",
     "output_type": "stream",
     "text": [
      "[2015 2016 2017 2018 2019 2020 2021 2022]\n"
     ]
    },
    {
     "data": {
      "text/plain": [
       "'This analysis showcases the timespan for which we can analyze trends'"
      ]
     },
     "execution_count": null,
     "metadata": {},
     "output_type": "execute_result"
    }
   ],
   "source": [
    "print(df['Year'].unique())\n",
    "\n",
    "'''This analysis showcases the timespan for which we can analyze trends'''"
   ]
  },
  {
   "cell_type": "code",
   "execution_count": null,
   "metadata": {},
   "outputs": [
    {
     "name": "stdout",
     "output_type": "stream",
     "text": [
      "False\n"
     ]
    },
    {
     "data": {
      "text/plain": [
       "' To ensure there are no null values in our dataset to be cleaned'"
      ]
     },
     "execution_count": null,
     "metadata": {},
     "output_type": "execute_result"
    }
   ],
   "source": [
    "check_null_values = df.isnull().values.any()\n",
    "print(check_null_values)\n",
    "\n",
    "''' To ensure there are no null values in our dataset to be cleaned'''"
   ]
  },
  {
   "cell_type": "code",
   "execution_count": null,
   "metadata": {},
   "outputs": [
    {
     "name": "stdout",
     "output_type": "stream",
     "text": [
      "(1183, 11)\n"
     ]
    },
    {
     "data": {
      "text/plain": [
       "'To drop Unnamed column and ensure the column has been deleted'"
      ]
     },
     "execution_count": null,
     "metadata": {},
     "output_type": "execute_result"
    }
   ],
   "source": [
    "df_cleaned_2= df_cleaned.drop(df_cleaned.columns[0], axis=1)\n",
    "print(df_cleaned_2.shape)\n",
    "\n",
    "'''To drop Unnamed column and ensure the column has been deleted'''"
   ]
  },
  {
   "cell_type": "code",
   "execution_count": null,
   "metadata": {},
   "outputs": [
    {
     "name": "stdout",
     "output_type": "stream",
     "text": [
      "      Happiness Rank      Country              Region Happiness Score  \\\n",
      "0                  1  Switzerland      Western Europe           7.587   \n",
      "1                  2      Iceland      Western Europe           7.561   \n",
      "2                  3      Denmark      Western Europe           7.527   \n",
      "3                  4       Norway      Western Europe           7.522   \n",
      "4                  5       Canada       North America           7.427   \n",
      "...              ...          ...                 ...             ...   \n",
      "1078             145      Lesotho  Sub-Saharan Africa           3.512   \n",
      "1079             146     Botswana  Sub-Saharan Africa           3.467   \n",
      "1080             147       Rwanda  Sub-Saharan Africa           3.415   \n",
      "1081             148     Zimbabwe  Sub-Saharan Africa           3.145   \n",
      "1082             149  Afghanistan          South Asia           2.523   \n",
      "\n",
      "     Economy (GDP per Capita) Family (Social Support)  \\\n",
      "0                     1.39651                 1.34951   \n",
      "1                     1.30232                 1.40223   \n",
      "2                     1.32548                 1.36058   \n",
      "3                       1.459                 1.33095   \n",
      "4                     1.32629                 1.32261   \n",
      "...                       ...                     ...   \n",
      "1078                    0.451                   0.731   \n",
      "1079                    1.099                   0.724   \n",
      "1080                    0.364                   0.202   \n",
      "1081                    0.457                   0.649   \n",
      "1082                     0.37                     0.0   \n",
      "\n",
      "     Health (Life Expectancy)  Freedom Trust (Government Corruption)  \\\n",
      "0                     0.94143  0.66557                       0.41978   \n",
      "1                     0.94784  0.62877                       0.14145   \n",
      "2                     0.87464  0.64938                       0.48357   \n",
      "3                     0.88521  0.66973                       0.36503   \n",
      "4                     0.90563  0.63297                       0.32957   \n",
      "...                       ...      ...                           ...   \n",
      "1078                    0.007    0.405                         0.015   \n",
      "1079                     0.34    0.539                         0.088   \n",
      "1080                    0.407    0.627                         0.493   \n",
      "1081                    0.243    0.359                         0.075   \n",
      "1082                    0.126      0.0                          0.01   \n",
      "\n",
      "     Generosity  Year  \n",
      "0       0.29678  2015  \n",
      "1        0.4363  2015  \n",
      "2       0.34139  2015  \n",
      "3       0.34699  2015  \n",
      "4       0.45811  2015  \n",
      "...         ...   ...  \n",
      "1078      0.103  2021  \n",
      "1079      0.027  2021  \n",
      "1080      0.227  2021  \n",
      "1081      0.157  2021  \n",
      "1082      0.122  2021  \n",
      "\n",
      "[1064 rows x 11 columns]\n"
     ]
    }
   ],
   "source": [
    "df_cleaned_3 = df_cleaned_2[df_cleaned_2.Year != 2022]\n",
    "print(df_cleaned_3)\n",
    "#df_cleaned_3.describe()"
   ]
  },
  {
   "cell_type": "code",
   "execution_count": null,
   "metadata": {},
   "outputs": [
    {
     "name": "stderr",
     "output_type": "stream",
     "text": [
      "C:\\Users\\Dell\\AppData\\Local\\Temp\\ipykernel_1532\\3880534377.py:6: SettingWithCopyWarning: \n",
      "A value is trying to be set on a copy of a slice from a DataFrame.\n",
      "Try using .loc[row_indexer,col_indexer] = value instead\n",
      "\n",
      "See the caveats in the documentation: https://pandas.pydata.org/pandas-docs/stable/user_guide/indexing.html#returning-a-view-versus-a-copy\n",
      "  df_cleaned_3[\"Happiness Score\"]=df_cleaned_3[\"Happiness Score\"].astype(float)\n",
      "C:\\Users\\Dell\\AppData\\Local\\Temp\\ipykernel_1532\\3880534377.py:7: SettingWithCopyWarning: \n",
      "A value is trying to be set on a copy of a slice from a DataFrame.\n",
      "Try using .loc[row_indexer,col_indexer] = value instead\n",
      "\n",
      "See the caveats in the documentation: https://pandas.pydata.org/pandas-docs/stable/user_guide/indexing.html#returning-a-view-versus-a-copy\n",
      "  df_cleaned_3[\"Economy (GDP per Capita)\"]=df_cleaned_3[\"Economy (GDP per Capita)\"].astype(float)\n",
      "C:\\Users\\Dell\\AppData\\Local\\Temp\\ipykernel_1532\\3880534377.py:8: SettingWithCopyWarning: \n",
      "A value is trying to be set on a copy of a slice from a DataFrame.\n",
      "Try using .loc[row_indexer,col_indexer] = value instead\n",
      "\n",
      "See the caveats in the documentation: https://pandas.pydata.org/pandas-docs/stable/user_guide/indexing.html#returning-a-view-versus-a-copy\n",
      "  df_cleaned_3[\"Family (Social Support)\"]=df_cleaned_3[\"Family (Social Support)\"].astype(float)\n",
      "C:\\Users\\Dell\\AppData\\Local\\Temp\\ipykernel_1532\\3880534377.py:9: SettingWithCopyWarning: \n",
      "A value is trying to be set on a copy of a slice from a DataFrame.\n",
      "Try using .loc[row_indexer,col_indexer] = value instead\n",
      "\n",
      "See the caveats in the documentation: https://pandas.pydata.org/pandas-docs/stable/user_guide/indexing.html#returning-a-view-versus-a-copy\n",
      "  df_cleaned_3[\"Health (Life Expectancy)\"]=df_cleaned_3[\"Health (Life Expectancy)\"].astype(float)\n",
      "C:\\Users\\Dell\\AppData\\Local\\Temp\\ipykernel_1532\\3880534377.py:10: SettingWithCopyWarning: \n",
      "A value is trying to be set on a copy of a slice from a DataFrame.\n",
      "Try using .loc[row_indexer,col_indexer] = value instead\n",
      "\n",
      "See the caveats in the documentation: https://pandas.pydata.org/pandas-docs/stable/user_guide/indexing.html#returning-a-view-versus-a-copy\n",
      "  df_cleaned_3[\"Freedom\"]=df_cleaned_3[\"Freedom\"].astype(float)\n",
      "C:\\Users\\Dell\\AppData\\Local\\Temp\\ipykernel_1532\\3880534377.py:11: SettingWithCopyWarning: \n",
      "A value is trying to be set on a copy of a slice from a DataFrame.\n",
      "Try using .loc[row_indexer,col_indexer] = value instead\n",
      "\n",
      "See the caveats in the documentation: https://pandas.pydata.org/pandas-docs/stable/user_guide/indexing.html#returning-a-view-versus-a-copy\n",
      "  df_cleaned_3[\"Trust (Government Corruption)\"]=df_cleaned_3[\"Trust (Government Corruption)\"].astype(float)\n"
     ]
    }
   ],
   "source": [
    "\n",
    "#region_drop = df_cleaned_3.columns.drop('Region')\n",
    "#country_drop = df_cleaned_3.columns.drop('Country')\n",
    "#df_cleaned_3[region_drop] = df_cleaned_3[region_drop].apply(pd.to_numeric, errors='coerce')\n",
    "#df_cleaned_3[country_drop] = df_cleaned_3[country_drop].apply(pd.to_numeric, errors='coerce')\n",
    "#df_cleaned_3.info()\n",
    "df_cleaned_3[\"Happiness Score\"]=df_cleaned_3[\"Happiness Score\"].astype(float)\n",
    "df_cleaned_3[\"Economy (GDP per Capita)\"]=df_cleaned_3[\"Economy (GDP per Capita)\"].astype(float)\n",
    "df_cleaned_3[\"Family (Social Support)\"]=df_cleaned_3[\"Family (Social Support)\"].astype(float)\n",
    "df_cleaned_3[\"Health (Life Expectancy)\"]=df_cleaned_3[\"Health (Life Expectancy)\"].astype(float)\n",
    "df_cleaned_3[\"Freedom\"]=df_cleaned_3[\"Freedom\"].astype(float)\n",
    "df_cleaned_3[\"Trust (Government Corruption)\"]=df_cleaned_3[\"Trust (Government Corruption)\"].astype(float)\n",
    "\n",
    "\n",
    "#df_cleaned_4 = df_cleaned_3.loc[:, ~df_cleaned_3.columns.isin(['Region', 'Country'])].apply(pd.to_numeric, errors = 'coerce')\n"
   ]
  },
  {
   "cell_type": "code",
   "execution_count": null,
   "metadata": {},
   "outputs": [
    {
     "name": "stdout",
     "output_type": "stream",
     "text": [
      "<class 'pandas.core.frame.DataFrame'>\n",
      "Int64Index: 1064 entries, 0 to 1082\n",
      "Data columns (total 11 columns):\n",
      " #   Column                         Non-Null Count  Dtype  \n",
      "---  ------                         --------------  -----  \n",
      " 0   Happiness Rank                 1064 non-null   int64  \n",
      " 1   Country                        1064 non-null   object \n",
      " 2   Region                         1064 non-null   object \n",
      " 3   Happiness Score                1064 non-null   float64\n",
      " 4   Economy (GDP per Capita)       1064 non-null   float64\n",
      " 5   Family (Social Support)        1064 non-null   float64\n",
      " 6   Health (Life Expectancy)       1064 non-null   float64\n",
      " 7   Freedom                        1064 non-null   float64\n",
      " 8   Trust (Government Corruption)  1064 non-null   float64\n",
      " 9   Generosity                     1064 non-null   object \n",
      " 10  Year                           1064 non-null   int64  \n",
      "dtypes: float64(6), int64(2), object(3)\n",
      "memory usage: 99.8+ KB\n"
     ]
    }
   ],
   "source": [
    "df_cleaned_3.info()"
   ]
  },
  {
   "cell_type": "code",
   "execution_count": null,
   "metadata": {},
   "outputs": [
    {
     "data": {
      "text/plain": [
       "' I have dropped Year and Generosity columns as I am not going to need it for my analysis'"
      ]
     },
     "execution_count": null,
     "metadata": {},
     "output_type": "execute_result"
    }
   ],
   "source": [
    "\n",
    "dropped_df = df_cleaned_3.drop(['Year', 'Generosity', 'Happiness Rank'], axis=1)\n",
    "''' I have dropped Year and Generosity columns as I am not going to need it for my analysis'''"
   ]
  },
  {
   "cell_type": "code",
   "execution_count": null,
   "metadata": {},
   "outputs": [
    {
     "name": "stdout",
     "output_type": "stream",
     "text": [
      "<class 'pandas.core.frame.DataFrame'>\n",
      "Int64Index: 1064 entries, 0 to 1082\n",
      "Data columns (total 8 columns):\n",
      " #   Column                         Non-Null Count  Dtype  \n",
      "---  ------                         --------------  -----  \n",
      " 0   Country                        1064 non-null   object \n",
      " 1   Region                         1064 non-null   object \n",
      " 2   Happiness Score                1064 non-null   float64\n",
      " 3   Economy (GDP per Capita)       1064 non-null   float64\n",
      " 4   Family (Social Support)        1064 non-null   float64\n",
      " 5   Health (Life Expectancy)       1064 non-null   float64\n",
      " 6   Freedom                        1064 non-null   float64\n",
      " 7   Trust (Government Corruption)  1064 non-null   float64\n",
      "dtypes: float64(6), object(2)\n",
      "memory usage: 107.1+ KB\n"
     ]
    }
   ],
   "source": [
    "dropped_df.info()"
   ]
  },
  {
   "cell_type": "code",
   "execution_count": null,
   "metadata": {},
   "outputs": [
    {
     "data": {
      "text/html": [
       "<div>\n",
       "<style scoped>\n",
       "    .dataframe tbody tr th:only-of-type {\n",
       "        vertical-align: middle;\n",
       "    }\n",
       "\n",
       "    .dataframe tbody tr th {\n",
       "        vertical-align: top;\n",
       "    }\n",
       "\n",
       "    .dataframe thead th {\n",
       "        text-align: right;\n",
       "    }\n",
       "</style>\n",
       "<table border=\"1\" class=\"dataframe\">\n",
       "  <thead>\n",
       "    <tr style=\"text-align: right;\">\n",
       "      <th></th>\n",
       "      <th>Happiness Score</th>\n",
       "      <th>Economy (GDP per Capita)</th>\n",
       "      <th>Family (Social Support)</th>\n",
       "      <th>Health (Life Expectancy)</th>\n",
       "      <th>Freedom</th>\n",
       "      <th>Trust (Government Corruption)</th>\n",
       "    </tr>\n",
       "  </thead>\n",
       "  <tbody>\n",
       "    <tr>\n",
       "      <th>count</th>\n",
       "      <td>1064.000000</td>\n",
       "      <td>1064.000000</td>\n",
       "      <td>1064.000000</td>\n",
       "      <td>1064.000000</td>\n",
       "      <td>1064.000000</td>\n",
       "      <td>1064.000000</td>\n",
       "    </tr>\n",
       "    <tr>\n",
       "      <th>mean</th>\n",
       "      <td>5.418920</td>\n",
       "      <td>0.919224</td>\n",
       "      <td>1.050222</td>\n",
       "      <td>0.613049</td>\n",
       "      <td>0.430625</td>\n",
       "      <td>0.127485</td>\n",
       "    </tr>\n",
       "    <tr>\n",
       "      <th>std</th>\n",
       "      <td>1.119277</td>\n",
       "      <td>0.399295</td>\n",
       "      <td>0.332545</td>\n",
       "      <td>0.247509</td>\n",
       "      <td>0.152321</td>\n",
       "      <td>0.108336</td>\n",
       "    </tr>\n",
       "    <tr>\n",
       "      <th>min</th>\n",
       "      <td>2.523000</td>\n",
       "      <td>0.000000</td>\n",
       "      <td>0.000000</td>\n",
       "      <td>0.000000</td>\n",
       "      <td>0.000000</td>\n",
       "      <td>0.000000</td>\n",
       "    </tr>\n",
       "    <tr>\n",
       "      <th>25%</th>\n",
       "      <td>4.571000</td>\n",
       "      <td>0.618450</td>\n",
       "      <td>0.840197</td>\n",
       "      <td>0.439750</td>\n",
       "      <td>0.329094</td>\n",
       "      <td>0.055000</td>\n",
       "    </tr>\n",
       "    <tr>\n",
       "      <th>50%</th>\n",
       "      <td>5.387500</td>\n",
       "      <td>0.983096</td>\n",
       "      <td>1.081475</td>\n",
       "      <td>0.644974</td>\n",
       "      <td>0.448440</td>\n",
       "      <td>0.092850</td>\n",
       "    </tr>\n",
       "    <tr>\n",
       "      <th>75%</th>\n",
       "      <td>6.224075</td>\n",
       "      <td>1.241105</td>\n",
       "      <td>1.311449</td>\n",
       "      <td>0.800467</td>\n",
       "      <td>0.552335</td>\n",
       "      <td>0.160568</td>\n",
       "    </tr>\n",
       "    <tr>\n",
       "      <th>max</th>\n",
       "      <td>7.842000</td>\n",
       "      <td>1.870766</td>\n",
       "      <td>1.644000</td>\n",
       "      <td>1.141000</td>\n",
       "      <td>0.724000</td>\n",
       "      <td>0.551910</td>\n",
       "    </tr>\n",
       "  </tbody>\n",
       "</table>\n",
       "</div>"
      ],
      "text/plain": [
       "       Happiness Score  Economy (GDP per Capita)  Family (Social Support)  \\\n",
       "count      1064.000000               1064.000000              1064.000000   \n",
       "mean          5.418920                  0.919224                 1.050222   \n",
       "std           1.119277                  0.399295                 0.332545   \n",
       "min           2.523000                  0.000000                 0.000000   \n",
       "25%           4.571000                  0.618450                 0.840197   \n",
       "50%           5.387500                  0.983096                 1.081475   \n",
       "75%           6.224075                  1.241105                 1.311449   \n",
       "max           7.842000                  1.870766                 1.644000   \n",
       "\n",
       "       Health (Life Expectancy)      Freedom  Trust (Government Corruption)  \n",
       "count               1064.000000  1064.000000                    1064.000000  \n",
       "mean                   0.613049     0.430625                       0.127485  \n",
       "std                    0.247509     0.152321                       0.108336  \n",
       "min                    0.000000     0.000000                       0.000000  \n",
       "25%                    0.439750     0.329094                       0.055000  \n",
       "50%                    0.644974     0.448440                       0.092850  \n",
       "75%                    0.800467     0.552335                       0.160568  \n",
       "max                    1.141000     0.724000                       0.551910  "
      ]
     },
     "execution_count": null,
     "metadata": {},
     "output_type": "execute_result"
    }
   ],
   "source": [
    "dropped_df.describe()"
   ]
  },
  {
   "cell_type": "code",
   "execution_count": null,
   "metadata": {},
   "outputs": [],
   "source": [
    "#ordered = dropped_df.groupby(\"Region\")[\"Happiness Score\"].mean().sort_values(ascending = False)\n",
    "#sns.barplot(x = \"Region\", y = \"Happiness Score\", data = dropped_df, order = ordered.index)\n",
    "#plt.xticks(rotation = 90)\n",
    "#plt.show()\n",
    "#ordered1 = dropped_df.groupby(\"Region\")[\"Economy (GDP per Capita)\"].mean().sort_values(ascending = False)\n",
    "#sns.barplot(x = \"Region\", y = \"Economy (GDP per Capita)\", data = dropped_df, order = ordered1.index)\n",
    "#plt.xticks(rotation = 90)\n",
    "#plt.show()\n",
    "#ordered2 = dropped_df.groupby(\"Region\")[\"Family (Social Support)\"].mean().sort_values(ascending = False)\n",
    "#sns.barplot(x = \"Region\", y = \"Family (Social Support)\", data = dropped_df, order = ordered2.index)\n",
    "#plt.xticks(rotation = 90)\n",
    "#plt.show()"
   ]
  },
  {
   "cell_type": "code",
   "execution_count": null,
   "metadata": {},
   "outputs": [],
   "source": [
    "def normalize(df):\n",
    "    result = df.copy()\n",
    "    for feature_name in df.columns:\n",
    "        max_value = df[feature_name].max()\n",
    "        min_value = df[feature_name].min()\n",
    "        result[feature_name] = (df[feature_name] - min_value) / (max_value - min_value)\n",
    "    return result"
   ]
  },
  {
   "cell_type": "code",
   "execution_count": null,
   "metadata": {},
   "outputs": [
    {
     "name": "stdout",
     "output_type": "stream",
     "text": [
      "      Happiness Score  Economy (GDP per Capita)  Family (Social Support)  \\\n",
      "0            0.952059                  0.746491                 0.820870   \n",
      "1            0.947171                  0.696143                 0.852938   \n",
      "2            0.940778                  0.708523                 0.827603   \n",
      "3            0.939838                  0.779895                 0.809580   \n",
      "4            0.921978                  0.708956                 0.804507   \n",
      "...               ...                       ...                      ...   \n",
      "1078         0.185937                  0.241078                 0.444647   \n",
      "1079         0.177477                  0.587460                 0.440389   \n",
      "1080         0.167701                  0.194573                 0.122871   \n",
      "1081         0.116939                  0.244285                 0.394769   \n",
      "1082         0.000000                  0.197780                 0.000000   \n",
      "\n",
      "      Health (Life Expectancy)   Freedom  Trust (Government Corruption)  \\\n",
      "0                     0.825092  0.919296                       0.760595   \n",
      "1                     0.830710  0.868467                       0.256292   \n",
      "2                     0.766556  0.896934                       0.876175   \n",
      "3                     0.775819  0.925041                       0.661394   \n",
      "4                     0.793716  0.874268                       0.597144   \n",
      "...                        ...       ...                            ...   \n",
      "1078                  0.006135  0.559392                       0.027178   \n",
      "1079                  0.297984  0.744475                       0.159446   \n",
      "1080                  0.356705  0.866022                       0.893262   \n",
      "1081                  0.212971  0.495856                       0.135892   \n",
      "1082                  0.110429  0.000000                       0.018119   \n",
      "\n",
      "          Country              Region  \n",
      "0     Switzerland      Western Europe  \n",
      "1         Iceland      Western Europe  \n",
      "2         Denmark      Western Europe  \n",
      "3          Norway      Western Europe  \n",
      "4          Canada       North America  \n",
      "...           ...                 ...  \n",
      "1078      Lesotho  Sub-Saharan Africa  \n",
      "1079     Botswana  Sub-Saharan Africa  \n",
      "1080       Rwanda  Sub-Saharan Africa  \n",
      "1081     Zimbabwe  Sub-Saharan Africa  \n",
      "1082  Afghanistan          South Asia  \n",
      "\n",
      "[1064 rows x 8 columns]\n"
     ]
    },
    {
     "data": {
      "text/plain": [
       "'Normalizing my dataset on each column to be between 0 and 1 so I can further continue my analysis'"
      ]
     },
     "execution_count": null,
     "metadata": {},
     "output_type": "execute_result"
    }
   ],
   "source": [
    "sliced_df = dropped_df.iloc[:, 2:]\n",
    "normalized_df = normalize(sliced_df)\n",
    "normalized_df[\"Country\"] = dropped_df[\"Country\"]\n",
    "normalized_df[\"Region\"] = dropped_df[\"Region\"]\n",
    "print(normalized_df)\n",
    "'''Normalizing my dataset on each column to be between 0 and 1 so I can further continue my analysis'''"
   ]
  },
  {
   "cell_type": "code",
   "execution_count": null,
   "metadata": {},
   "outputs": [
    {
     "name": "stdout",
     "output_type": "stream",
     "text": [
      "                          Happiness Score  Economy (GDP per Capita)  \\\n",
      "Country                                                               \n",
      "Finland                          0.958255                  0.726669   \n",
      "Denmark                          0.949013                  0.749318   \n",
      "Switzerland                      0.940749                  0.787882   \n",
      "Iceland                          0.938751                  0.743860   \n",
      "Norway                           0.937985                  0.806706   \n",
      "...                                   ...                       ...   \n",
      "South Sudan                      0.150649                  0.182552   \n",
      "Syria                            0.144614                  0.373702   \n",
      "Burundi                          0.141925                  0.023843   \n",
      "Afghanistan                      0.134099                  0.187568   \n",
      "Central African Republic         0.127765                  0.018129   \n",
      "\n",
      "                          Family (Social Support)  Health (Life Expectancy)  \\\n",
      "Country                                                                       \n",
      "Finland                                  0.849641                  0.760166   \n",
      "Denmark                                  0.855917                  0.759807   \n",
      "Switzerland                              0.837510                  0.813588   \n",
      "Iceland                                  0.884918                  0.796490   \n",
      "Norway                                   0.847979                  0.770845   \n",
      "...                                           ...                       ...   \n",
      "South Sudan                              0.224595                  0.160657   \n",
      "Syria                                    0.216503                  0.496302   \n",
      "Burundi                                  0.245017                  0.188839   \n",
      "Afghanistan                              0.209002                  0.208537   \n",
      "Central African Republic                 0.000000                  0.035191   \n",
      "\n",
      "                           Freedom  Trust (Government Corruption)  \n",
      "Country                                                            \n",
      "Finland                   0.880228                       0.763900  \n",
      "Denmark                   0.884143                       0.809431  \n",
      "Switzerland               0.865265                       0.703987  \n",
      "Iceland                   0.878089                       0.262793  \n",
      "Norway                    0.900443                       0.668032  \n",
      "...                            ...                            ...  \n",
      "South Sudan               0.181098                       0.218611  \n",
      "Syria                     0.112845                       0.289082  \n",
      "Burundi                   0.213102                       0.248266  \n",
      "Afghanistan               0.116342                       0.078091  \n",
      "Central African Republic  0.437140                       0.087232  \n",
      "\n",
      "[169 rows x 6 columns]\n"
     ]
    },
    {
     "name": "stderr",
     "output_type": "stream",
     "text": [
      "C:\\Users\\Dell\\AppData\\Local\\Temp\\ipykernel_1532\\3616312743.py:1: FutureWarning: Indexing with multiple keys (implicitly converted to a tuple of keys) will be deprecated, use a list instead.\n",
      "  ordered = normalized_df.groupby(\"Country\")[\"Happiness Score\", \"Economy (GDP per Capita)\",\n"
     ]
    },
    {
     "data": {
      "text/plain": [
       "'Taking the mean for all columns over all the years between 2015-2021 and ordering them descendingly based on the colum \"Happiness Score\"'"
      ]
     },
     "execution_count": null,
     "metadata": {},
     "output_type": "execute_result"
    }
   ],
   "source": [
    "ordered = normalized_df.groupby(\"Country\")[\"Happiness Score\", \"Economy (GDP per Capita)\",\n",
    "                                           \"Family (Social Support)\", \"Health (Life Expectancy)\", \n",
    "                                           \"Freedom\", \"Trust (Government Corruption)\"].mean().sort_values(by = ['Happiness Score'], ascending = False)\n",
    "# sliced_ordered = ordered.iloc[:, 2:]\n",
    "# ordered.drop(['Country'], axis = 1)\n",
    "# ordered = ordered[:10]\n",
    "print(ordered)\n",
    "'''Taking the mean for all columns over all the years between 2015-2021 and ordering them descendingly based on the colum \"Happiness Score\"'''"
   ]
  },
  {
   "cell_type": "code",
   "execution_count": null,
   "metadata": {},
   "outputs": [
    {
     "ename": "ValueError",
     "evalue": "Location based indexing can only have [integer, integer slice (START point is INCLUDED, END point is EXCLUDED), listlike of integers, boolean array] types",
     "output_type": "error",
     "traceback": [
      "\u001b[1;31m---------------------------------------------------------------------------\u001b[0m",
      "\u001b[1;31mValueError\u001b[0m                                Traceback (most recent call last)",
      "File \u001b[1;32mC:\\Anaconda\\lib\\site-packages\\pandas\\core\\indexing.py:769\u001b[0m, in \u001b[0;36m_LocationIndexer._validate_tuple_indexer\u001b[1;34m(self, key)\u001b[0m\n\u001b[0;32m    768\u001b[0m \u001b[38;5;28;01mtry\u001b[39;00m:\n\u001b[1;32m--> 769\u001b[0m     \u001b[38;5;28;43mself\u001b[39;49m\u001b[38;5;241;43m.\u001b[39;49m\u001b[43m_validate_key\u001b[49m\u001b[43m(\u001b[49m\u001b[43mk\u001b[49m\u001b[43m,\u001b[49m\u001b[43m \u001b[49m\u001b[43mi\u001b[49m\u001b[43m)\u001b[49m\n\u001b[0;32m    770\u001b[0m \u001b[38;5;28;01mexcept\u001b[39;00m \u001b[38;5;167;01mValueError\u001b[39;00m \u001b[38;5;28;01mas\u001b[39;00m err:\n",
      "File \u001b[1;32mC:\\Anaconda\\lib\\site-packages\\pandas\\core\\indexing.py:1378\u001b[0m, in \u001b[0;36m_iLocIndexer._validate_key\u001b[1;34m(self, key, axis)\u001b[0m\n\u001b[0;32m   1377\u001b[0m \u001b[38;5;28;01melse\u001b[39;00m:\n\u001b[1;32m-> 1378\u001b[0m     \u001b[38;5;28;01mraise\u001b[39;00m \u001b[38;5;167;01mValueError\u001b[39;00m(\u001b[38;5;124mf\u001b[39m\u001b[38;5;124m\"\u001b[39m\u001b[38;5;124mCan only index by location with a [\u001b[39m\u001b[38;5;132;01m{\u001b[39;00m\u001b[38;5;28mself\u001b[39m\u001b[38;5;241m.\u001b[39m_valid_types\u001b[38;5;132;01m}\u001b[39;00m\u001b[38;5;124m]\u001b[39m\u001b[38;5;124m\"\u001b[39m)\n",
      "\u001b[1;31mValueError\u001b[0m: Can only index by location with a [integer, integer slice (START point is INCLUDED, END point is EXCLUDED), listlike of integers, boolean array]",
      "\nThe above exception was the direct cause of the following exception:\n",
      "\u001b[1;31mValueError\u001b[0m                                Traceback (most recent call last)",
      "Input \u001b[1;32mIn [259]\u001b[0m, in \u001b[0;36m<cell line: 2>\u001b[1;34m()\u001b[0m\n\u001b[0;32m      1\u001b[0m vals \u001b[38;5;241m=\u001b[39m [] \u001b[38;5;66;03m# Create an empty list to hold the requested values\u001b[39;00m\n\u001b[0;32m      2\u001b[0m \u001b[38;5;28;01mfor\u001b[39;00m i \u001b[38;5;129;01min\u001b[39;00m \u001b[38;5;28mrange\u001b[39m(\u001b[38;5;241m1\u001b[39m, \u001b[38;5;28mlen\u001b[39m(ordered[\u001b[38;5;124m'\u001b[39m\u001b[38;5;124mHappiness Score\u001b[39m\u001b[38;5;124m'\u001b[39m])): \u001b[38;5;66;03m# Loop over the rows ('i')\u001b[39;00m\n\u001b[1;32m----> 3\u001b[0m         val \u001b[38;5;241m=\u001b[39m \u001b[43mordered\u001b[49m\u001b[38;5;241;43m.\u001b[39;49m\u001b[43miloc\u001b[49m\u001b[43m[\u001b[49m\u001b[43mi\u001b[49m\u001b[43m,\u001b[49m\u001b[43m \u001b[49m\u001b[43mordered\u001b[49m\u001b[43m[\u001b[49m\u001b[38;5;124;43m'\u001b[39;49m\u001b[38;5;124;43mHappiness Score\u001b[39;49m\u001b[38;5;124;43m'\u001b[39;49m\u001b[43m]\u001b[49m\u001b[43m[\u001b[49m\u001b[43mi\u001b[49m\u001b[43m]\u001b[49m\u001b[43m]\u001b[49m \u001b[38;5;66;03m# Get the requested value from row 'i'\u001b[39;00m\n\u001b[0;32m      4\u001b[0m         vals\u001b[38;5;241m.\u001b[39mappend(val) \u001b[38;5;66;03m# append value to list 'vals'\u001b[39;00m\n\u001b[0;32m      5\u001b[0m ordered[\u001b[38;5;124m'\u001b[39m\u001b[38;5;124mvalue\u001b[39m\u001b[38;5;124m'\u001b[39m] \u001b[38;5;241m=\u001b[39m vals \u001b[38;5;66;03m# Add list 'vals' as a new column to the DataFrame\u001b[39;00m\n",
      "File \u001b[1;32mC:\\Anaconda\\lib\\site-packages\\pandas\\core\\indexing.py:961\u001b[0m, in \u001b[0;36m_LocationIndexer.__getitem__\u001b[1;34m(self, key)\u001b[0m\n\u001b[0;32m    959\u001b[0m     \u001b[38;5;28;01mif\u001b[39;00m \u001b[38;5;28mself\u001b[39m\u001b[38;5;241m.\u001b[39m_is_scalar_access(key):\n\u001b[0;32m    960\u001b[0m         \u001b[38;5;28;01mreturn\u001b[39;00m \u001b[38;5;28mself\u001b[39m\u001b[38;5;241m.\u001b[39mobj\u001b[38;5;241m.\u001b[39m_get_value(\u001b[38;5;241m*\u001b[39mkey, takeable\u001b[38;5;241m=\u001b[39m\u001b[38;5;28mself\u001b[39m\u001b[38;5;241m.\u001b[39m_takeable)\n\u001b[1;32m--> 961\u001b[0m     \u001b[38;5;28;01mreturn\u001b[39;00m \u001b[38;5;28;43mself\u001b[39;49m\u001b[38;5;241;43m.\u001b[39;49m\u001b[43m_getitem_tuple\u001b[49m\u001b[43m(\u001b[49m\u001b[43mkey\u001b[49m\u001b[43m)\u001b[49m\n\u001b[0;32m    962\u001b[0m \u001b[38;5;28;01melse\u001b[39;00m:\n\u001b[0;32m    963\u001b[0m     \u001b[38;5;66;03m# we by definition only have the 0th axis\u001b[39;00m\n\u001b[0;32m    964\u001b[0m     axis \u001b[38;5;241m=\u001b[39m \u001b[38;5;28mself\u001b[39m\u001b[38;5;241m.\u001b[39maxis \u001b[38;5;129;01mor\u001b[39;00m \u001b[38;5;241m0\u001b[39m\n",
      "File \u001b[1;32mC:\\Anaconda\\lib\\site-packages\\pandas\\core\\indexing.py:1458\u001b[0m, in \u001b[0;36m_iLocIndexer._getitem_tuple\u001b[1;34m(self, tup)\u001b[0m\n\u001b[0;32m   1456\u001b[0m \u001b[38;5;28;01mdef\u001b[39;00m \u001b[38;5;21m_getitem_tuple\u001b[39m(\u001b[38;5;28mself\u001b[39m, tup: \u001b[38;5;28mtuple\u001b[39m):\n\u001b[1;32m-> 1458\u001b[0m     tup \u001b[38;5;241m=\u001b[39m \u001b[38;5;28;43mself\u001b[39;49m\u001b[38;5;241;43m.\u001b[39;49m\u001b[43m_validate_tuple_indexer\u001b[49m\u001b[43m(\u001b[49m\u001b[43mtup\u001b[49m\u001b[43m)\u001b[49m\n\u001b[0;32m   1459\u001b[0m     \u001b[38;5;28;01mwith\u001b[39;00m suppress(IndexingError):\n\u001b[0;32m   1460\u001b[0m         \u001b[38;5;28;01mreturn\u001b[39;00m \u001b[38;5;28mself\u001b[39m\u001b[38;5;241m.\u001b[39m_getitem_lowerdim(tup)\n",
      "File \u001b[1;32mC:\\Anaconda\\lib\\site-packages\\pandas\\core\\indexing.py:771\u001b[0m, in \u001b[0;36m_LocationIndexer._validate_tuple_indexer\u001b[1;34m(self, key)\u001b[0m\n\u001b[0;32m    769\u001b[0m         \u001b[38;5;28mself\u001b[39m\u001b[38;5;241m.\u001b[39m_validate_key(k, i)\n\u001b[0;32m    770\u001b[0m     \u001b[38;5;28;01mexcept\u001b[39;00m \u001b[38;5;167;01mValueError\u001b[39;00m \u001b[38;5;28;01mas\u001b[39;00m err:\n\u001b[1;32m--> 771\u001b[0m         \u001b[38;5;28;01mraise\u001b[39;00m \u001b[38;5;167;01mValueError\u001b[39;00m(\n\u001b[0;32m    772\u001b[0m             \u001b[38;5;124m\"\u001b[39m\u001b[38;5;124mLocation based indexing can only have \u001b[39m\u001b[38;5;124m\"\u001b[39m\n\u001b[0;32m    773\u001b[0m             \u001b[38;5;124mf\u001b[39m\u001b[38;5;124m\"\u001b[39m\u001b[38;5;124m[\u001b[39m\u001b[38;5;132;01m{\u001b[39;00m\u001b[38;5;28mself\u001b[39m\u001b[38;5;241m.\u001b[39m_valid_types\u001b[38;5;132;01m}\u001b[39;00m\u001b[38;5;124m] types\u001b[39m\u001b[38;5;124m\"\u001b[39m\n\u001b[0;32m    774\u001b[0m         ) \u001b[38;5;28;01mfrom\u001b[39;00m \u001b[38;5;21;01merr\u001b[39;00m\n\u001b[0;32m    775\u001b[0m \u001b[38;5;28;01mreturn\u001b[39;00m key\n",
      "\u001b[1;31mValueError\u001b[0m: Location based indexing can only have [integer, integer slice (START point is INCLUDED, END point is EXCLUDED), listlike of integers, boolean array] types"
     ]
    }
   ],
   "source": [
    "vals = [] # Create an empty list to hold the requested values\n",
    "for i in range(1, len(ordered['Happiness Score'])): # Loop over the rows ('i')\n",
    "        val = ordered.iloc[i, ordered['Happiness Score'][i]] # Get the requested value from row 'i'\n",
    "        vals.append(val) # append value to list 'vals'\n",
    "ordered['value'] = vals # Add list 'vals' as a new column to the DataFrame\n",
    "\n",
    "'''Here I am looping over the ordered dataframe and summing up all the columns for every specific country to therefore use that for visualizations'''"
   ]
  },
  {
   "cell_type": "code",
   "execution_count": null,
   "metadata": {},
   "outputs": [],
   "source": []
  }
 ],
 "metadata": {
  "kernelspec": {
   "display_name": "Python 3 (ipykernel)",
   "language": "python",
   "name": "python3"
  },
  "language_info": {
   "codemirror_mode": {
    "name": "ipython",
    "version": 3
   },
   "file_extension": ".py",
   "mimetype": "text/x-python",
   "name": "python",
   "nbconvert_exporter": "python",
   "pygments_lexer": "ipython3",
   "version": "3.10.6"
  }
 },
 "nbformat": 4,
 "nbformat_minor": 4
}
