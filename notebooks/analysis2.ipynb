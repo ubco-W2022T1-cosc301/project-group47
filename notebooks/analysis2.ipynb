{
 "cells": [
  {
   "cell_type": "markdown",
   "metadata": {},
   "source": [
    "# Yahia Kamel Hussein"
   ]
  },
  {
   "cell_type": "markdown",
   "metadata": {},
   "source": [
    "## What are the countries that have contributed the most and the least to climate change relief?\n",
    "\n",
    "Based on the carbon dioxide emissions, forest coverage, and land for different countries over the past years. I will analyze which countries have contributed the most and least to aid the climate change crisis."
   ]
  },
  {
   "cell_type": "code",
   "execution_count": null,
   "metadata": {},
   "outputs": [],
   "source": [
    "import numpy as np\n",
    "import pandas as pd\n",
    "import matplotlib.pylab as plt\n",
    "#Understanding my variables\n",
    "import seaborn as sns\n",
    "\n",
    "df1 = pd.read_csv('Carbon Dioxide Emission Estimates.csv')\n",
    "df2 = pd.read_csv('Threatened Species.csv')\n",
    "df3 = pd.read_csv('Land.csv')\n",
    "df4 = pd.read_csv('Water and Sanitation Services.csv')\n",
    "\n",
    "#print(df1)\n",
    "#print(df2)\n",
    "#print(df3)\n",
    "#print(df4)"
   ]
  },
  {
   "cell_type": "code",
   "execution_count": null,
   "metadata": {},
   "outputs": [
    {
     "name": "stdout",
     "output_type": "stream",
     "text": [
      "Carbon Dioxide Emissions dataset shape:  (2132, 4)\n",
      "Head:    Countries  Year                                             Series  \\\n",
      "0   Albania  1975  Emissions (thousand metric tons of carbon diox...   \n",
      "1   Albania  1985  Emissions (thousand metric tons of carbon diox...   \n",
      "2   Albania  1995  Emissions (thousand metric tons of carbon diox...   \n",
      "3   Albania  2005  Emissions (thousand metric tons of carbon diox...   \n",
      "4   Albania  2010  Emissions (thousand metric tons of carbon diox...   \n",
      "\n",
      "   Emissions  \n",
      "0   4338.334  \n",
      "1   6929.926  \n",
      "2   1848.549  \n",
      "3   3825.184  \n",
      "4   3930.295  \n",
      "Columns:  Index(['Countries', 'Year', 'Series', 'Emissions'], dtype='object')\n",
      "<class 'pandas.core.frame.DataFrame'>\n",
      "RangeIndex: 2132 entries, 0 to 2131\n",
      "Data columns (total 4 columns):\n",
      " #   Column     Non-Null Count  Dtype  \n",
      "---  ------     --------------  -----  \n",
      " 0   Countries  2132 non-null   object \n",
      " 1   Year       2132 non-null   int64  \n",
      " 2   Series     2132 non-null   object \n",
      " 3   Emissions  2132 non-null   float64\n",
      "dtypes: float64(1), int64(1), object(2)\n",
      "memory usage: 66.8+ KB\n"
     ]
    }
   ],
   "source": [
    "#Understanding my Carbon Dioxide Dataset\n",
    "\n",
    "print(\"Carbon Dioxide Emissions dataset shape: \",df1.shape)\n",
    "print(\"Head: \", df1.head())\n",
    "print(\"Columns: \", df1.columns)\n",
    "\n",
    "df1.nunique(axis=0)\n",
    "df1.describe().apply(lambda s: s.apply(lambda x: format(x, 'f')))\n",
    "\n",
    "#preview dataset\n",
    "df1.info()"
   ]
  },
  {
   "cell_type": "code",
   "execution_count": null,
   "metadata": {},
   "outputs": [
    {
     "name": "stdout",
     "output_type": "stream",
     "text": [
      "Threatened Species dataset shape:  (6918, 4)\n",
      "Head:       Countries  Year                                    Series  \\\n",
      "0  Afghanistan  2004  Threatened Species: Vertebrates (number)   \n",
      "1  Afghanistan  2010  Threatened Species: Vertebrates (number)   \n",
      "2  Afghanistan  2016  Threatened Species: Vertebrates (number)   \n",
      "3  Afghanistan  2017  Threatened Species: Vertebrates (number)   \n",
      "4  Afghanistan  2018  Threatened Species: Vertebrates (number)   \n",
      "\n",
      "   Number of Species  \n",
      "0                 31  \n",
      "1                 31  \n",
      "2                 35  \n",
      "3                 35  \n",
      "4                 34  \n",
      "Columns:  Index(['Countries', 'Year', 'Series', 'Number of Species'], dtype='object')\n",
      "<class 'pandas.core.frame.DataFrame'>\n",
      "RangeIndex: 6918 entries, 0 to 6917\n",
      "Data columns (total 4 columns):\n",
      " #   Column             Non-Null Count  Dtype \n",
      "---  ------             --------------  ----- \n",
      " 0   Countries          6918 non-null   object\n",
      " 1   Year               6918 non-null   int64 \n",
      " 2   Series             6918 non-null   object\n",
      " 3   Number of Species  6918 non-null   int64 \n",
      "dtypes: int64(2), object(2)\n",
      "memory usage: 216.3+ KB\n"
     ]
    }
   ],
   "source": [
    "#Understanding my Threatened Species Dataset\n",
    "print(\"Threatened Species dataset shape: \",df2.shape)\n",
    "print(\"Head: \", df2.head())\n",
    "print(\"Columns: \", df2.columns)\n",
    "\n",
    "df2.nunique(axis=0)\n",
    "df2.describe().apply(lambda s: s.apply(lambda x: format(x, 'f')))\n",
    "\n",
    "#preview dataset\n",
    "df2.info()"
   ]
  },
  {
   "cell_type": "code",
   "execution_count": null,
   "metadata": {},
   "outputs": [
    {
     "name": "stdout",
     "output_type": "stream",
     "text": [
      "Land dataset shape:  (6159, 4)\n",
      "Head:                              Land  Year                               Series  \\\n",
      "0  Total, all countries or areas  2005        Land area (thousand hectares)   \n",
      "1  Total, all countries or areas  2005      Arable land (thousand hectares)   \n",
      "2  Total, all countries or areas  2005  Permanent crops (thousand hectares)   \n",
      "3  Total, all countries or areas  2005     Forest cover (thousand hectares)   \n",
      "4  Total, all countries or areas  2005   Arable land (% of total land area)   \n",
      "\n",
      "          Value  \n",
      "0  1.299769e+07  \n",
      "1  1.356869e+06  \n",
      "2  1.456805e+05  \n",
      "3  4.032743e+06  \n",
      "4  1.043930e+01  \n",
      "Columns:  Index(['Land', 'Year', 'Series', 'Value'], dtype='object')\n",
      "<class 'pandas.core.frame.DataFrame'>\n",
      "RangeIndex: 6159 entries, 0 to 6158\n",
      "Data columns (total 4 columns):\n",
      " #   Column  Non-Null Count  Dtype  \n",
      "---  ------  --------------  -----  \n",
      " 0   Land    6159 non-null   object \n",
      " 1   Year    6159 non-null   int64  \n",
      " 2   Series  6159 non-null   object \n",
      " 3   Value   6159 non-null   float64\n",
      "dtypes: float64(1), int64(1), object(2)\n",
      "memory usage: 192.6+ KB\n"
     ]
    }
   ],
   "source": [
    "#Understanding my Land Dataset\n",
    "\n",
    "print(\"Land dataset shape: \",df3.shape)\n",
    "print(\"Head: \", df3.head())\n",
    "print(\"Columns: \", df3.columns)\n",
    "\n",
    "df3.nunique(axis=0)\n",
    "df3.describe().apply(lambda s: s.apply(lambda x: format(x, 'f')))\n",
    "\n",
    "#preview dataset\n",
    "df3.info()"
   ]
  },
  {
   "cell_type": "code",
   "execution_count": null,
   "metadata": {},
   "outputs": [
    {
     "name": "stdout",
     "output_type": "stream",
     "text": [
      "Water and Sanitation Services dataset shape:  (1522, 4)\n",
      "Head:    Water supply and sanitation services  Year  \\\n",
      "0        Total, all countries or areas  2005   \n",
      "1        Total, all countries or areas  2005   \n",
      "2        Total, all countries or areas  2005   \n",
      "3        Total, all countries or areas  2005   \n",
      "4        Total, all countries or areas  2005   \n",
      "\n",
      "                                              Series    Value  \n",
      "0  Safely managed drinking water sources, urban (...  86.1804  \n",
      "1  Safely managed drinking water sources, rural (...  43.0323  \n",
      "2  Safely managed drinking water sources, total (...  64.2425  \n",
      "3  Safely managed sanitation facilities, urban (P...  37.0176  \n",
      "4  Safely managed sanitation facilities, rural (P...  26.0720  \n",
      "Columns:  Index(['Water supply and sanitation services', 'Year', 'Series', 'Value'], dtype='object')\n",
      "<class 'pandas.core.frame.DataFrame'>\n",
      "RangeIndex: 1522 entries, 0 to 1521\n",
      "Data columns (total 4 columns):\n",
      " #   Column                                Non-Null Count  Dtype  \n",
      "---  ------                                --------------  -----  \n",
      " 0   Water supply and sanitation services  1522 non-null   object \n",
      " 1   Year                                  1522 non-null   int64  \n",
      " 2   Series                                1522 non-null   object \n",
      " 3   Value                                 1522 non-null   float64\n",
      "dtypes: float64(1), int64(1), object(2)\n",
      "memory usage: 47.7+ KB\n"
     ]
    }
   ],
   "source": [
    "#Understanding my Water and Sanitation Services Dataset\n",
    "\n",
    "print(\"Water and Sanitation Services dataset shape: \",df4.shape)\n",
    "print(\"Head: \", df4.head())\n",
    "print(\"Columns: \", df4.columns)\n",
    "\n",
    "df4.nunique(axis=0)\n",
    "df4.describe().apply(lambda s: s.apply(lambda x: format(x, 'f')))\n",
    "\n",
    "#preview dataset\n",
    "df4.info()"
   ]
  },
  {
   "cell_type": "code",
   "execution_count": null,
   "metadata": {},
   "outputs": [
    {
     "name": "stdout",
     "output_type": "stream",
     "text": [
      "              Year           Value\n",
      "count  1132.000000     1132.000000\n",
      "mean   2014.515901   107810.194688\n",
      "std       2.685178   626120.089145\n",
      "min    2010.000000        0.025000\n",
      "25%    2015.000000        3.543250\n",
      "50%    2016.000000      252.739000\n",
      "75%    2017.000000    29682.650000\n",
      "max    2017.000000  9257933.900000\n",
      "              Year        Value\n",
      "count  2976.000000  2976.000000\n",
      "mean   2014.350806    86.352823\n",
      "std       3.085654   175.320911\n",
      "min    2010.000000     0.000000\n",
      "25%    2010.000000    10.000000\n",
      "50%    2016.000000    36.000000\n",
      "75%    2017.000000    86.000000\n",
      "max    2017.000000  2358.000000\n",
      "              Year            Value\n",
      "count  3954.000000      3954.000000\n",
      "mean   2013.494689     41476.545122\n",
      "std       3.500439    367642.056685\n",
      "min    2010.000000         0.000000\n",
      "25%    2010.000000         7.580425\n",
      "50%    2010.000000        40.166700\n",
      "75%    2017.000000      1391.397750\n",
      "max    2017.000000  13002855.208000\n",
      "              Year        Value\n",
      "count  1022.000000  1022.000000\n",
      "mean   2013.500000    65.179853\n",
      "std       3.501714    29.978488\n",
      "min    2010.000000     1.741700\n",
      "25%    2010.000000    39.500975\n",
      "50%    2013.500000    72.886000\n",
      "75%    2017.000000    93.348750\n",
      "max    2017.000000   100.000000\n"
     ]
    }
   ],
   "source": [
    "#Cleaning datasets for the years column to be between 2005 and 2017 and remove the outliers\n",
    "\n",
    "df1_cleaned = df1[(df1['Year'] >= 2010) & (df1['Year'] <= 2017)]\n",
    "df2_cleaned = df2[(df2['Year'] >= 2010) & (df2['Year'] <= 2017)]\n",
    "df3_cleaned = df3[(df3['Year'] >= 2010) & (df3['Year'] <= 2017)]\n",
    "df4_cleaned = df4[(df4['Year'] >= 2010) & (df4['Year'] <= 2017)]\n",
    "\n",
    "print(df1_cleaned.describe().apply(lambda s: s.apply(lambda x: format(x, 'f'))))\n",
    "print(df2_cleaned.describe().apply(lambda s: s.apply(lambda x: format(x, 'f'))))\n",
    "print(df3_cleaned.describe().apply(lambda s: s.apply(lambda x: format(x, 'f'))))\n",
    "print(df4_cleaned.describe().apply(lambda s: s.apply(lambda x: format(x, 'f'))))\n"
   ]
  },
  {
   "cell_type": "code",
   "execution_count": null,
   "metadata": {},
   "outputs": [
    {
     "name": "stdout",
     "output_type": "stream",
     "text": [
      "New Shape for Carbon Dioxide Emissions dataset:  (1132, 4)\n",
      "New Shape for Threatened Species dataset:  (2976, 4)\n",
      "New Shape for Land dataset:  (3954, 4)\n",
      "New Shape for Water and Sanitation Services dataset:  (1022, 4)\n"
     ]
    }
   ],
   "source": [
    "#Dropping rows with null values\n",
    "\n",
    "df1_cleaned = df1_cleaned.dropna(axis=0)\n",
    "print(\"New Shape for Carbon Dioxide Emissions dataset: \", df1_cleaned.shape)\n",
    "\n",
    "df2_cleaned = df2_cleaned.dropna(axis=0)\n",
    "print(\"New Shape for Threatened Species dataset: \", df2_cleaned.shape)\n",
    "\n",
    "df3_cleaned = df3_cleaned.dropna(axis=0)\n",
    "print(\"New Shape for Land dataset: \", df3_cleaned.shape)\n",
    "\n",
    "df4_cleaned = df4_cleaned.dropna(axis=0)\n",
    "print(\"New Shape for Water and Sanitation Services dataset: \", df4_cleaned.shape)"
   ]
  },
  {
   "cell_type": "code",
   "execution_count": null,
   "metadata": {},
   "outputs": [
    {
     "data": {
      "text/plain": [
       "<AxesSubplot:xlabel='Year', ylabel='Value'>"
      ]
     },
     "execution_count": null,
     "metadata": {},
     "output_type": "execute_result"
    },
    {
     "data": {
      "image/png": "[encoded data removed]",
      "text/plain": [
       "<Figure size 432x288 with 1 Axes>"
      ]
     },
     "metadata": {
      "needs_background": "light"
     },
     "output_type": "display_data"
    },
    {
     "data": {
      "image/png": "[encoded data removed]",
      "text/plain": [
       "<Figure size 432x288 with 1 Axes>"
      ]
     },
     "metadata": {
      "needs_background": "light"
     },
     "output_type": "display_data"
    },
    {
     "data": {
      "image/png": "[encoded data removed]",
      "text/plain": [
       "<Figure size 432x288 with 1 Axes>"
      ]
     },
     "metadata": {
      "needs_background": "light"
     },
     "output_type": "display_data"
    },
    {
     "data": {
      "image/png": "[encoded data removed]",
      "text/plain": [
       "<Figure size 432x288 with 1 Axes>"
      ]
     },
     "metadata": {
      "needs_background": "light"
     },
     "output_type": "display_data"
    }
   ],
   "source": [
    "#Scatter plots for each dataset\n",
    "\n",
    "df1_cleaned.plot(kind='scatter', x='Year', y='Value')\n",
    "df2_cleaned.plot(kind='scatter', x='Year', y='Value')\n",
    "df3_cleaned.plot(kind='scatter', x='Year', y='Value')\n",
    "df4_cleaned.plot(kind='scatter', x='Year', y='Value')"
   ]
  },
  {
   "cell_type": "code",
   "execution_count": null,
   "metadata": {},
   "outputs": [],
   "source": [
    "#merging datasets 1 and 2 + renaming columns\n",
    "\n",
    "df1.rename(columns = {'Value' : 'Emissions'}, inplace = True)\n",
    "df2.rename(columns = {'Value' : 'Number of Species'}, inplace = True)\n",
    "df1.rename(columns = {'CO2 emission estimates' : 'Countries'}, inplace = True)\n",
    "df2.rename(columns = {'Threatened species' : 'Countries'}, inplace = True)\n",
    "\n",
    "\n",
    "\n",
    "carbon_threatened = pd.merge(df1, df2, how = \"outer\")\n",
    "carbon_threatened\n",
    "#Merge dataframes and keep only overlapping rows\n",
    "\n",
    "overlapping_carbon_threatened = df1.merge(df2, left_on = 'Emissions', right_on = 'Number of Species', how = 'inner')\n"
   ]
  }
 ],
 "metadata": {
  "kernelspec": {
   "display_name": "Python 3 (ipykernel)",
   "language": "python",
   "name": "python3"
  }
 },
 "nbformat": 4,
 "nbformat_minor": 4
}
