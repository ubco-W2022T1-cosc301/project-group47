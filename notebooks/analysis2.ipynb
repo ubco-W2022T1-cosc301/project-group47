{
 "cells": [
  {
   "cell_type": "markdown",
   "metadata": {},
   "source": [
    "# Yahia Kamel Hussein"
   ]
  },
  {
   "cell_type": "markdown",
   "metadata": {},
   "source": [
    "## What are the countries that have contributed the most and the least to climate change relief?\n",
    "\n",
    "Based on the carbon dioxide emissions, forest coverage, and land for different countries over the past years. I will analyze which countries have contributed the most and least to aid the climate change crisis."
   ]
  },
  {
   "cell_type": "code",
   "execution_count": null,
   "metadata": {},
   "outputs": [
    {
     "name": "stdout",
     "output_type": "stream",
     "text": [
      "     CO2 emission estimates  Year  \\\n",
      "0                   Albania  1975   \n",
      "1                   Albania  1985   \n",
      "2                   Albania  1995   \n",
      "3                   Albania  2005   \n",
      "4                   Albania  2010   \n",
      "...                     ...   ...   \n",
      "2127               Zimbabwe  2005   \n",
      "2128               Zimbabwe  2010   \n",
      "2129               Zimbabwe  2015   \n",
      "2130               Zimbabwe  2016   \n",
      "2131               Zimbabwe  2017   \n",
      "\n",
      "                                                 Series     Value  \n",
      "0     Emissions (thousand metric tons of carbon diox...  4338.334  \n",
      "1     Emissions (thousand metric tons of carbon diox...  6929.926  \n",
      "2     Emissions (thousand metric tons of carbon diox...  1848.549  \n",
      "3     Emissions (thousand metric tons of carbon diox...  3825.184  \n",
      "4     Emissions (thousand metric tons of carbon diox...  3930.295  \n",
      "...                                                 ...       ...  \n",
      "2127  Emissions per capita (metric tons of carbon di...     0.794  \n",
      "2128  Emissions per capita (metric tons of carbon di...     0.672  \n",
      "2129  Emissions per capita (metric tons of carbon di...     0.749  \n",
      "2130  Emissions per capita (metric tons of carbon di...     0.642  \n",
      "2131  Emissions per capita (metric tons of carbon di...     0.588  \n",
      "\n",
      "[2132 rows x 4 columns]\n",
      "     Threatened species  Year                                    Series  Value\n",
      "0           Afghanistan  2004  Threatened Species: Vertebrates (number)     31\n",
      "1           Afghanistan  2010  Threatened Species: Vertebrates (number)     31\n",
      "2           Afghanistan  2016  Threatened Species: Vertebrates (number)     35\n",
      "3           Afghanistan  2017  Threatened Species: Vertebrates (number)     35\n",
      "4           Afghanistan  2018  Threatened Species: Vertebrates (number)     34\n",
      "...                 ...   ...                                       ...    ...\n",
      "6913           Zimbabwe  2016        Threatened Species: Total (number)     61\n",
      "6914           Zimbabwe  2017        Threatened Species: Total (number)     89\n",
      "6915           Zimbabwe  2018        Threatened Species: Total (number)     95\n",
      "6916           Zimbabwe  2019        Threatened Species: Total (number)    103\n",
      "6917           Zimbabwe  2020        Threatened Species: Total (number)    122\n",
      "\n",
      "[6918 rows x 4 columns]\n"
     ]
    }
   ],
   "source": [
    "import numpy as np\n",
    "import pandas as pd\n",
    "\n",
    "df = pd.read_csv('Carbon Dioxide Emission Estimates.csv')\n",
    "df1 = pd.read_csv('Threatened Species.csv')\n",
    "print(df)\n",
    "print(df1)"
   ]
  },
  {
   "cell_type": "code",
   "execution_count": null,
   "metadata": {},
   "outputs": [],
   "source": []
  }
 ],
 "metadata": {
  "kernelspec": {
   "display_name": "Python 3 (ipykernel)",
   "language": "python",
   "name": "python3"
  }
 },
 "nbformat": 4,
 "nbformat_minor": 2
}
