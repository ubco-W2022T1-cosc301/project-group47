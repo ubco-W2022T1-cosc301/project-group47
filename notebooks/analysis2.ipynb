{
 "cells": [
  {
   "cell_type": "markdown",
   "metadata": {},
   "source": [
    "# Yahia Kamel Hussein"
   ]
  },
  {
   "cell_type": "markdown",
   "metadata": {},
   "source": [
    "## What countries have offered their citizens the best living standards  between 2015-2021, as observed by happiness score, social support, economy, freedom, and government corruption?"
   ]
  },
  {
   "cell_type": "markdown",
   "metadata": {},
   "source": [
    "### As an international student who has lived in multiple different countries over the years, I have observed that standard of living is determined and affected by a number of factors. While it is important for citizens to feel economically and financially supported by their governments, it is equally as important to consider psychological factors such as happiness and social support. "
   ]
  },
  {
   "cell_type": "markdown",
   "metadata": {},
   "source": [
    "#### Importing the libraries"
   ]
  },
  {
   "cell_type": "code",
   "execution_count": null,
   "metadata": {},
   "outputs": [],
   "source": [
    "import numpy as np\n",
    "import pandas as pd\n",
    "import matplotlib.pylab as plt\n",
    "import seaborn as sns #Understanding my variables"
   ]
  },
  {
   "cell_type": "markdown",
   "metadata": {},
   "source": [
    "#### Reading the csv file"
   ]
  },
  {
   "cell_type": "code",
   "execution_count": null,
   "metadata": {},
   "outputs": [],
   "source": [
    "df = pd.read_csv('../data/raw/world_happiness_report.csv')\n",
    "#print(df)"
   ]
  },
  {
   "cell_type": "markdown",
   "metadata": {},
   "source": [
    "#### Understanding my Dataset"
   ]
  },
  {
   "cell_type": "code",
   "execution_count": null,
   "metadata": {},
   "outputs": [
    {
     "name": "stdout",
     "output_type": "stream",
     "text": [
      "First Five Rows and Columns:  (1229, 12)\n",
      "Head:     Unnamed: 0  Happiness Rank      Country          Region Happiness Score  \\\n",
      "0           0               1  Switzerland  Western Europe           7.587   \n",
      "1           1               2      Iceland  Western Europe           7.561   \n",
      "2           2               3      Denmark  Western Europe           7.527   \n",
      "3           3               4       Norway  Western Europe           7.522   \n",
      "4           4               5       Canada   North America           7.427   \n",
      "\n",
      "  Economy (GDP per Capita) Family (Social Support) Health (Life Expectancy)  \\\n",
      "0                  1.39651                 1.34951                  0.94143   \n",
      "1                  1.30232                 1.40223                  0.94784   \n",
      "2                  1.32548                 1.36058                  0.87464   \n",
      "3                    1.459                 1.33095                  0.88521   \n",
      "4                  1.32629                 1.32261                  0.90563   \n",
      "\n",
      "   Freedom Trust (Government Corruption) Generosity  Year  \n",
      "0  0.66557                       0.41978    0.29678  2015  \n",
      "1  0.62877                       0.14145     0.4363  2015  \n",
      "2  0.64938                       0.48357    0.34139  2015  \n",
      "3  0.66973                       0.36503    0.34699  2015  \n",
      "4  0.63297                       0.32957    0.45811  2015  \n",
      "Columns:  Index(['Unnamed: 0', 'Happiness Rank', 'Country', 'Region', 'Happiness Score',\n",
      "       'Economy (GDP per Capita)', 'Family (Social Support)',\n",
      "       'Health (Life Expectancy)', 'Freedom', 'Trust (Government Corruption)',\n",
      "       'Generosity', 'Year'],\n",
      "      dtype='object')\n"
     ]
    }
   ],
   "source": [
    "print(\"First Five Rows and Columns: \",df.shape)\n",
    "print(\"Head: \", df.head())\n",
    "print(\"Columns: \", df.columns)"
   ]
  },
  {
   "cell_type": "markdown",
   "metadata": {},
   "source": [
    "#### Preview the dataset"
   ]
  },
  {
   "cell_type": "code",
   "execution_count": null,
   "metadata": {},
   "outputs": [],
   "source": [
    "#df.info()"
   ]
  },
  {
   "cell_type": "markdown",
   "metadata": {},
   "source": [
    "#### This output shows that the survey includes data for all countries (158 unique values under 'Countries') in the international area over a span of 8 years"
   ]
  },
  {
   "cell_type": "code",
   "execution_count": null,
   "metadata": {},
   "outputs": [
    {
     "data": {
      "text/plain": [
       "\"This output shows that the survey includes data for all countries (158 unique values under 'Countries') in the international area over a span of 8 years\""
      ]
     },
     "execution_count": null,
     "metadata": {},
     "output_type": "execute_result"
    }
   ],
   "source": [
    "unique_values = df.nunique(axis=0)\n",
    "#print(unique_values)\n",
    "\n",
    "'''This output shows that the survey includes data for all countries (158 unique values under 'Countries') in the international area over a span of 8 years'''"
   ]
  },
  {
   "cell_type": "markdown",
   "metadata": {},
   "source": [
    "#### To show which countries and regions are being analyzed. This showcases that there are some countries that are assigned a '*', and some regions are null: '-'"
   ]
  },
  {
   "cell_type": "code",
   "execution_count": null,
   "metadata": {},
   "outputs": [
    {
     "data": {
      "text/plain": [
       "\" To show which countries and regions are being analyzed. This showcases that there are some countries that are assigned a '*', and some regions are null: '-'\\n\""
      ]
     },
     "execution_count": null,
     "metadata": {},
     "output_type": "execute_result"
    }
   ],
   "source": [
    "#print(\"Countries: \", df['Country'].unique())\n",
    "\n",
    "#print(\"Regions: \", df['Region'].unique())\n",
    "\n",
    "''' To show which countries and regions are being analyzed. This showcases that there are some countries that are assigned a '*', and some regions are null: '-'\n",
    "'''"
   ]
  },
  {
   "cell_type": "markdown",
   "metadata": {},
   "source": [
    "#### Dropping rows with null values"
   ]
  },
  {
   "cell_type": "code",
   "execution_count": null,
   "metadata": {},
   "outputs": [
    {
     "data": {
      "text/plain": [
       "'To delete all instances where region is null'"
      ]
     },
     "execution_count": null,
     "metadata": {},
     "output_type": "execute_result"
    }
   ],
   "source": [
    "df_cleaned = df[df.Region != '-']\n",
    "#print(df_cleaned)\n",
    "\n",
    "'''To delete all instances where region is null'''"
   ]
  },
  {
   "cell_type": "markdown",
   "metadata": {},
   "source": [
    "#### This analysis showcases the timespan for which we can analyze trends"
   ]
  },
  {
   "cell_type": "code",
   "execution_count": null,
   "metadata": {},
   "outputs": [
    {
     "name": "stdout",
     "output_type": "stream",
     "text": [
      "[2015 2016 2017 2018 2019 2020 2021 2022]\n"
     ]
    },
    {
     "data": {
      "text/plain": [
       "'This analysis showcases the timespan for which we can analyze trends'"
      ]
     },
     "execution_count": null,
     "metadata": {},
     "output_type": "execute_result"
    }
   ],
   "source": [
    "print(df['Year'].unique())\n",
    "\n",
    "'''This analysis showcases the timespan for which we can analyze trends'''"
   ]
  },
  {
   "cell_type": "markdown",
   "metadata": {},
   "source": [
    "#### To ensure there are no null values in the dataset to be cleaned"
   ]
  },
  {
   "cell_type": "code",
   "execution_count": null,
   "metadata": {},
   "outputs": [
    {
     "name": "stdout",
     "output_type": "stream",
     "text": [
      "False\n"
     ]
    },
    {
     "data": {
      "text/plain": [
       "' To ensure there are no null values in our dataset to be cleaned'"
      ]
     },
     "execution_count": null,
     "metadata": {},
     "output_type": "execute_result"
    }
   ],
   "source": [
    "check_null_values = df.isnull().values.any()\n",
    "print(check_null_values)\n",
    "\n",
    "''' To ensure there are no null values in our dataset to be cleaned'''"
   ]
  },
  {
   "cell_type": "markdown",
   "metadata": {},
   "source": [
    "#### To drop Unnamed column and ensure the column has been deleted"
   ]
  },
  {
   "cell_type": "code",
   "execution_count": null,
   "metadata": {},
   "outputs": [
    {
     "name": "stdout",
     "output_type": "stream",
     "text": [
      "(1183, 11)\n"
     ]
    },
    {
     "data": {
      "text/plain": [
       "'To drop Unnamed column and ensure the column has been deleted'"
      ]
     },
     "execution_count": null,
     "metadata": {},
     "output_type": "execute_result"
    }
   ],
   "source": [
    "df_cleaned_2= df_cleaned.drop(df_cleaned.columns[0], axis=1)\n",
    "print(df_cleaned_2.shape)\n",
    "\n",
    "'''To drop Unnamed column and ensure the column has been deleted'''"
   ]
  },
  {
   "cell_type": "markdown",
   "metadata": {},
   "source": [
    "#### 2022 had the data in the columns formatted using commas as opposed to periods to represent numerical data\n"
   ]
  },
  {
   "cell_type": "code",
   "execution_count": null,
   "metadata": {},
   "outputs": [
    {
     "data": {
      "text/plain": [
       "'2022 had the data in the columns formatted using commas as opposed to periods to represent numerical data'"
      ]
     },
     "execution_count": null,
     "metadata": {},
     "output_type": "execute_result"
    }
   ],
   "source": [
    "df_cleaned_3 = df_cleaned_2[df_cleaned_2.Year != 2022]\n",
    "#print(df_cleaned_3)\n",
    "'''2022 had the data in the columns formatted using commas as opposed to periods to represent numerical data'''"
   ]
  },
  {
   "cell_type": "markdown",
   "metadata": {},
   "source": [
    "#### Changing the columns dtype to float as they were objects and that cannot be used for analysis"
   ]
  },
  {
   "cell_type": "code",
   "execution_count": null,
   "metadata": {},
   "outputs": [
    {
     "name": "stderr",
     "output_type": "stream",
     "text": [
      "C:\\Users\\Dell\\AppData\\Local\\Temp\\ipykernel_21124\\2585888970.py:1: SettingWithCopyWarning: \n",
      "A value is trying to be set on a copy of a slice from a DataFrame.\n",
      "Try using .loc[row_indexer,col_indexer] = value instead\n",
      "\n",
      "See the caveats in the documentation: https://pandas.pydata.org/pandas-docs/stable/user_guide/indexing.html#returning-a-view-versus-a-copy\n",
      "  df_cleaned_3[\"Happiness Score\"]=df_cleaned_3[\"Happiness Score\"].astype(float)\n",
      "C:\\Users\\Dell\\AppData\\Local\\Temp\\ipykernel_21124\\2585888970.py:2: SettingWithCopyWarning: \n",
      "A value is trying to be set on a copy of a slice from a DataFrame.\n",
      "Try using .loc[row_indexer,col_indexer] = value instead\n",
      "\n",
      "See the caveats in the documentation: https://pandas.pydata.org/pandas-docs/stable/user_guide/indexing.html#returning-a-view-versus-a-copy\n",
      "  df_cleaned_3[\"Economy (GDP per Capita)\"]=df_cleaned_3[\"Economy (GDP per Capita)\"].astype(float)\n",
      "C:\\Users\\Dell\\AppData\\Local\\Temp\\ipykernel_21124\\2585888970.py:3: SettingWithCopyWarning: \n",
      "A value is trying to be set on a copy of a slice from a DataFrame.\n",
      "Try using .loc[row_indexer,col_indexer] = value instead\n",
      "\n",
      "See the caveats in the documentation: https://pandas.pydata.org/pandas-docs/stable/user_guide/indexing.html#returning-a-view-versus-a-copy\n",
      "  df_cleaned_3[\"Family (Social Support)\"]=df_cleaned_3[\"Family (Social Support)\"].astype(float)\n",
      "C:\\Users\\Dell\\AppData\\Local\\Temp\\ipykernel_21124\\2585888970.py:4: SettingWithCopyWarning: \n",
      "A value is trying to be set on a copy of a slice from a DataFrame.\n",
      "Try using .loc[row_indexer,col_indexer] = value instead\n",
      "\n",
      "See the caveats in the documentation: https://pandas.pydata.org/pandas-docs/stable/user_guide/indexing.html#returning-a-view-versus-a-copy\n",
      "  df_cleaned_3[\"Health (Life Expectancy)\"]=df_cleaned_3[\"Health (Life Expectancy)\"].astype(float)\n",
      "C:\\Users\\Dell\\AppData\\Local\\Temp\\ipykernel_21124\\2585888970.py:5: SettingWithCopyWarning: \n",
      "A value is trying to be set on a copy of a slice from a DataFrame.\n",
      "Try using .loc[row_indexer,col_indexer] = value instead\n",
      "\n",
      "See the caveats in the documentation: https://pandas.pydata.org/pandas-docs/stable/user_guide/indexing.html#returning-a-view-versus-a-copy\n",
      "  df_cleaned_3[\"Freedom\"]=df_cleaned_3[\"Freedom\"].astype(float)\n",
      "C:\\Users\\Dell\\AppData\\Local\\Temp\\ipykernel_21124\\2585888970.py:6: SettingWithCopyWarning: \n",
      "A value is trying to be set on a copy of a slice from a DataFrame.\n",
      "Try using .loc[row_indexer,col_indexer] = value instead\n",
      "\n",
      "See the caveats in the documentation: https://pandas.pydata.org/pandas-docs/stable/user_guide/indexing.html#returning-a-view-versus-a-copy\n",
      "  df_cleaned_3[\"Trust (Government Corruption)\"]=df_cleaned_3[\"Trust (Government Corruption)\"].astype(float)\n"
     ]
    }
   ],
   "source": [
    "df_cleaned_3[\"Happiness Score\"]=df_cleaned_3[\"Happiness Score\"].astype(float)\n",
    "df_cleaned_3[\"Economy (GDP per Capita)\"]=df_cleaned_3[\"Economy (GDP per Capita)\"].astype(float)\n",
    "df_cleaned_3[\"Family (Social Support)\"]=df_cleaned_3[\"Family (Social Support)\"].astype(float)\n",
    "df_cleaned_3[\"Health (Life Expectancy)\"]=df_cleaned_3[\"Health (Life Expectancy)\"].astype(float)\n",
    "df_cleaned_3[\"Freedom\"]=df_cleaned_3[\"Freedom\"].astype(float)\n",
    "df_cleaned_3[\"Trust (Government Corruption)\"]=df_cleaned_3[\"Trust (Government Corruption)\"].astype(float)"
   ]
  },
  {
   "cell_type": "markdown",
   "metadata": {},
   "source": [
    "#### Checking to see if the columns have changed + to check what columns can be dropped"
   ]
  },
  {
   "cell_type": "code",
   "execution_count": null,
   "metadata": {},
   "outputs": [
    {
     "name": "stdout",
     "output_type": "stream",
     "text": [
      "<class 'pandas.core.frame.DataFrame'>\n",
      "Int64Index: 1064 entries, 0 to 1082\n",
      "Data columns (total 11 columns):\n",
      " #   Column                         Non-Null Count  Dtype  \n",
      "---  ------                         --------------  -----  \n",
      " 0   Happiness Rank                 1064 non-null   int64  \n",
      " 1   Country                        1064 non-null   object \n",
      " 2   Region                         1064 non-null   object \n",
      " 3   Happiness Score                1064 non-null   float64\n",
      " 4   Economy (GDP per Capita)       1064 non-null   float64\n",
      " 5   Family (Social Support)        1064 non-null   float64\n",
      " 6   Health (Life Expectancy)       1064 non-null   float64\n",
      " 7   Freedom                        1064 non-null   float64\n",
      " 8   Trust (Government Corruption)  1064 non-null   float64\n",
      " 9   Generosity                     1064 non-null   object \n",
      " 10  Year                           1064 non-null   int64  \n",
      "dtypes: float64(6), int64(2), object(3)\n",
      "memory usage: 99.8+ KB\n"
     ]
    }
   ],
   "source": [
    "df_cleaned_3.info()"
   ]
  },
  {
   "cell_type": "markdown",
   "metadata": {},
   "source": [
    "#### I have dropped Year and Generosity columns as I am not going to need it for my analysis"
   ]
  },
  {
   "cell_type": "code",
   "execution_count": null,
   "metadata": {},
   "outputs": [
    {
     "data": {
      "text/plain": [
       "' I have dropped Year and Generosity columns as I am not going to need it for my analysis'"
      ]
     },
     "execution_count": null,
     "metadata": {},
     "output_type": "execute_result"
    }
   ],
   "source": [
    "dropped_df = df_cleaned_3.drop(['Year', 'Generosity'], axis=1)\n",
    "''' I have dropped Year and Generosity columns as I am not going to need it for my analysis'''"
   ]
  },
  {
   "cell_type": "code",
   "execution_count": null,
   "metadata": {},
   "outputs": [
    {
     "name": "stdout",
     "output_type": "stream",
     "text": [
      "<class 'pandas.core.frame.DataFrame'>\n",
      "Int64Index: 1064 entries, 0 to 1082\n",
      "Data columns (total 9 columns):\n",
      " #   Column                         Non-Null Count  Dtype  \n",
      "---  ------                         --------------  -----  \n",
      " 0   Happiness Rank                 1064 non-null   int64  \n",
      " 1   Country                        1064 non-null   object \n",
      " 2   Region                         1064 non-null   object \n",
      " 3   Happiness Score                1064 non-null   float64\n",
      " 4   Economy (GDP per Capita)       1064 non-null   float64\n",
      " 5   Family (Social Support)        1064 non-null   float64\n",
      " 6   Health (Life Expectancy)       1064 non-null   float64\n",
      " 7   Freedom                        1064 non-null   float64\n",
      " 8   Trust (Government Corruption)  1064 non-null   float64\n",
      "dtypes: float64(6), int64(1), object(2)\n",
      "memory usage: 83.1+ KB\n"
     ]
    }
   ],
   "source": [
    "dropped_df.info()"
   ]
  },
  {
   "cell_type": "code",
   "execution_count": null,
   "metadata": {},
   "outputs": [
    {
     "data": {
      "text/html": [
       "<div>\n",
       "<style scoped>\n",
       "    .dataframe tbody tr th:only-of-type {\n",
       "        vertical-align: middle;\n",
       "    }\n",
       "\n",
       "    .dataframe tbody tr th {\n",
       "        vertical-align: top;\n",
       "    }\n",
       "\n",
       "    .dataframe thead th {\n",
       "        text-align: right;\n",
       "    }\n",
       "</style>\n",
       "<table border=\"1\" class=\"dataframe\">\n",
       "  <thead>\n",
       "    <tr style=\"text-align: right;\">\n",
       "      <th></th>\n",
       "      <th>Happiness Rank</th>\n",
       "      <th>Happiness Score</th>\n",
       "      <th>Economy (GDP per Capita)</th>\n",
       "      <th>Family (Social Support)</th>\n",
       "      <th>Health (Life Expectancy)</th>\n",
       "      <th>Freedom</th>\n",
       "      <th>Trust (Government Corruption)</th>\n",
       "    </tr>\n",
       "  </thead>\n",
       "  <tbody>\n",
       "    <tr>\n",
       "      <th>count</th>\n",
       "      <td>1064.000000</td>\n",
       "      <td>1064.000000</td>\n",
       "      <td>1064.000000</td>\n",
       "      <td>1064.000000</td>\n",
       "      <td>1064.000000</td>\n",
       "      <td>1064.000000</td>\n",
       "      <td>1064.000000</td>\n",
       "    </tr>\n",
       "    <tr>\n",
       "      <th>mean</th>\n",
       "      <td>77.790414</td>\n",
       "      <td>5.418920</td>\n",
       "      <td>0.919224</td>\n",
       "      <td>1.050222</td>\n",
       "      <td>0.613049</td>\n",
       "      <td>0.430625</td>\n",
       "      <td>0.127485</td>\n",
       "    </tr>\n",
       "    <tr>\n",
       "      <th>std</th>\n",
       "      <td>44.819322</td>\n",
       "      <td>1.119277</td>\n",
       "      <td>0.399295</td>\n",
       "      <td>0.332545</td>\n",
       "      <td>0.247509</td>\n",
       "      <td>0.152321</td>\n",
       "      <td>0.108336</td>\n",
       "    </tr>\n",
       "    <tr>\n",
       "      <th>min</th>\n",
       "      <td>1.000000</td>\n",
       "      <td>2.523000</td>\n",
       "      <td>0.000000</td>\n",
       "      <td>0.000000</td>\n",
       "      <td>0.000000</td>\n",
       "      <td>0.000000</td>\n",
       "      <td>0.000000</td>\n",
       "    </tr>\n",
       "    <tr>\n",
       "      <th>25%</th>\n",
       "      <td>39.000000</td>\n",
       "      <td>4.571000</td>\n",
       "      <td>0.618450</td>\n",
       "      <td>0.840197</td>\n",
       "      <td>0.439750</td>\n",
       "      <td>0.329094</td>\n",
       "      <td>0.055000</td>\n",
       "    </tr>\n",
       "    <tr>\n",
       "      <th>50%</th>\n",
       "      <td>78.000000</td>\n",
       "      <td>5.387500</td>\n",
       "      <td>0.983096</td>\n",
       "      <td>1.081475</td>\n",
       "      <td>0.644974</td>\n",
       "      <td>0.448440</td>\n",
       "      <td>0.092850</td>\n",
       "    </tr>\n",
       "    <tr>\n",
       "      <th>75%</th>\n",
       "      <td>117.000000</td>\n",
       "      <td>6.224075</td>\n",
       "      <td>1.241105</td>\n",
       "      <td>1.311449</td>\n",
       "      <td>0.800467</td>\n",
       "      <td>0.552335</td>\n",
       "      <td>0.160568</td>\n",
       "    </tr>\n",
       "    <tr>\n",
       "      <th>max</th>\n",
       "      <td>158.000000</td>\n",
       "      <td>7.842000</td>\n",
       "      <td>1.870766</td>\n",
       "      <td>1.644000</td>\n",
       "      <td>1.141000</td>\n",
       "      <td>0.724000</td>\n",
       "      <td>0.551910</td>\n",
       "    </tr>\n",
       "  </tbody>\n",
       "</table>\n",
       "</div>"
      ],
      "text/plain": [
       "       Happiness Rank  Happiness Score  Economy (GDP per Capita)  \\\n",
       "count     1064.000000      1064.000000               1064.000000   \n",
       "mean        77.790414         5.418920                  0.919224   \n",
       "std         44.819322         1.119277                  0.399295   \n",
       "min          1.000000         2.523000                  0.000000   \n",
       "25%         39.000000         4.571000                  0.618450   \n",
       "50%         78.000000         5.387500                  0.983096   \n",
       "75%        117.000000         6.224075                  1.241105   \n",
       "max        158.000000         7.842000                  1.870766   \n",
       "\n",
       "       Family (Social Support)  Health (Life Expectancy)      Freedom  \\\n",
       "count              1064.000000               1064.000000  1064.000000   \n",
       "mean                  1.050222                  0.613049     0.430625   \n",
       "std                   0.332545                  0.247509     0.152321   \n",
       "min                   0.000000                  0.000000     0.000000   \n",
       "25%                   0.840197                  0.439750     0.329094   \n",
       "50%                   1.081475                  0.644974     0.448440   \n",
       "75%                   1.311449                  0.800467     0.552335   \n",
       "max                   1.644000                  1.141000     0.724000   \n",
       "\n",
       "       Trust (Government Corruption)  \n",
       "count                    1064.000000  \n",
       "mean                        0.127485  \n",
       "std                         0.108336  \n",
       "min                         0.000000  \n",
       "25%                         0.055000  \n",
       "50%                         0.092850  \n",
       "75%                         0.160568  \n",
       "max                         0.551910  "
      ]
     },
     "execution_count": null,
     "metadata": {},
     "output_type": "execute_result"
    }
   ],
   "source": [
    "dropped_df.describe()"
   ]
  },
  {
   "cell_type": "markdown",
   "metadata": {},
   "source": [
    "#### This dataset contains 11 columns: 1 is \"Unnamed\"(which has been deleted), 2 are categorical (Country, Region) and 8 are numeric. This dataset showcases a given country's GDP per capita, its social support, their citizens's average life expectancy, their freedom, their trust in the government, their generosity and the country's overall happiness score and happines rank. The dataset also contains a column for \"Year\", which indicates the years in which this data was collected: from 2015 - 2022, a total of 8 years!\n",
    "\n",
    "#### The happiness score index was taken from survey conducted by the Gallup World Poll utilizing a benchmark set by the United Nations' Sustainable Development Solutions Network. This dataset's domain is CC0: Public Domain, and it was retrieved from https://www.kaggle.com/datasets/mayzannilarthein44/world-happiness-report-2015-to-2022.\n",
    "\n",
    "#### As a group, we imagine that the purpose for this dataset is to raise awareness, hold certain countries accountable, and empower policy makers to make decisions for their citizens' well being based on trends and correlations from this data."
   ]
  },
  {
   "cell_type": "markdown",
   "metadata": {},
   "source": [
    "#### Methods to be called for when normalizing is needed"
   ]
  },
  {
   "cell_type": "code",
   "execution_count": null,
   "metadata": {},
   "outputs": [
    {
     "data": {
      "text/plain": [
       "'This method normalizes the values in each column between 0 and 1 '"
      ]
     },
     "execution_count": null,
     "metadata": {},
     "output_type": "execute_result"
    }
   ],
   "source": [
    "def normalize(df):\n",
    "    result = df.copy()\n",
    "    for feature_name in df.columns:\n",
    "        if df[feature_name].dtype==float:\n",
    "            # if dtype is float then normalize it\n",
    "            max_value = df[feature_name].max()\n",
    "            min_value = df[feature_name].min()\n",
    "            result[feature_name] = (df[feature_name] - min_value) / (max_value - min_value)\n",
    "    return result\n",
    "'''This method normalizes the values in each column between 0 and 1 '''"
   ]
  },
  {
   "cell_type": "code",
   "execution_count": null,
   "metadata": {},
   "outputs": [
    {
     "data": {
      "text/plain": [
       "'This method normalizes the values in each column between 0 and 100 (percentage)'"
      ]
     },
     "execution_count": null,
     "metadata": {},
     "output_type": "execute_result"
    }
   ],
   "source": [
    "def normalize_with_percent(df):\n",
    "    result = df.copy()\n",
    "    for feature_name in df.columns:\n",
    "        if df[feature_name].dtype==float:\n",
    "            # if dtype is float then normalize it\n",
    "            max_value = df[feature_name].max()\n",
    "            min_value = df[feature_name].min()\n",
    "            result[feature_name] = ((df[feature_name] - min_value) / (max_value - min_value))*100\n",
    "    return result\n",
    "'''This method normalizes the values in each column between 0 and 100 (percentage)'''"
   ]
  },
  {
   "cell_type": "markdown",
   "metadata": {},
   "source": [
    "#### Normalizing the dataset"
   ]
  },
  {
   "cell_type": "code",
   "execution_count": null,
   "metadata": {},
   "outputs": [
    {
     "name": "stdout",
     "output_type": "stream",
     "text": [
      "      Happiness Rank      Country              Region  Happiness Score  \\\n",
      "0                  1  Switzerland      Western Europe         0.952059   \n",
      "1                  2      Iceland      Western Europe         0.947171   \n",
      "2                  3      Denmark      Western Europe         0.940778   \n",
      "3                  4       Norway      Western Europe         0.939838   \n",
      "4                  5       Canada       North America         0.921978   \n",
      "...              ...          ...                 ...              ...   \n",
      "1078             145      Lesotho  Sub-Saharan Africa         0.185937   \n",
      "1079             146     Botswana  Sub-Saharan Africa         0.177477   \n",
      "1080             147       Rwanda  Sub-Saharan Africa         0.167701   \n",
      "1081             148     Zimbabwe  Sub-Saharan Africa         0.116939   \n",
      "1082             149  Afghanistan          South Asia         0.000000   \n",
      "\n",
      "      Economy (GDP per Capita)  Family (Social Support)  \\\n",
      "0                     0.746491                 0.820870   \n",
      "1                     0.696143                 0.852938   \n",
      "2                     0.708523                 0.827603   \n",
      "3                     0.779895                 0.809580   \n",
      "4                     0.708956                 0.804507   \n",
      "...                        ...                      ...   \n",
      "1078                  0.241078                 0.444647   \n",
      "1079                  0.587460                 0.440389   \n",
      "1080                  0.194573                 0.122871   \n",
      "1081                  0.244285                 0.394769   \n",
      "1082                  0.197780                 0.000000   \n",
      "\n",
      "      Health (Life Expectancy)   Freedom  Trust (Government Corruption)  \n",
      "0                     0.825092  0.919296                       0.760595  \n",
      "1                     0.830710  0.868467                       0.256292  \n",
      "2                     0.766556  0.896934                       0.876175  \n",
      "3                     0.775819  0.925041                       0.661394  \n",
      "4                     0.793716  0.874268                       0.597144  \n",
      "...                        ...       ...                            ...  \n",
      "1078                  0.006135  0.559392                       0.027178  \n",
      "1079                  0.297984  0.744475                       0.159446  \n",
      "1080                  0.356705  0.866022                       0.893262  \n",
      "1081                  0.212971  0.495856                       0.135892  \n",
      "1082                  0.110429  0.000000                       0.018119  \n",
      "\n",
      "[1064 rows x 9 columns]\n"
     ]
    },
    {
     "data": {
      "text/plain": [
       "'Normalizing my dataset on each column to be between 0 and 1 (0 being the lowest and 1 being the highest), so I can further continue my analysis'"
      ]
     },
     "execution_count": null,
     "metadata": {},
     "output_type": "execute_result"
    }
   ],
   "source": [
    "normalized_df = normalize(dropped_df)\n",
    "print(normalized_df)\n",
    "'''Normalizing my dataset on each column to be between 0 and 1 (0 being the lowest and 1 being the highest), so I can further continue my analysis'''"
   ]
  },
  {
   "cell_type": "markdown",
   "metadata": {},
   "source": [
    "#### Grouping the dataframe based on the country, and taking the mean for all columns over all the years between 2015-2021."
   ]
  },
  {
   "cell_type": "code",
   "execution_count": null,
   "metadata": {},
   "outputs": [
    {
     "name": "stderr",
     "output_type": "stream",
     "text": [
      "C:\\Users\\Dell\\AppData\\Local\\Temp\\ipykernel_21124\\3682247189.py:1: FutureWarning: Indexing with multiple keys (implicitly converted to a tuple of keys) will be deprecated, use a list instead.\n",
      "  ordered_by_country = normalized_df.groupby(['Country'], as_index = False, sort = False)['Happiness Score', 'Economy (GDP per Capita)',\n"
     ]
    },
    {
     "data": {
      "text/plain": [
       "'Grouping the dataframe based on the country, and taking the mean for all columns over all the years between 2015-2021.'"
      ]
     },
     "execution_count": null,
     "metadata": {},
     "output_type": "execute_result"
    }
   ],
   "source": [
    "ordered_by_country = normalized_df.groupby(['Country'], as_index = False, sort = False)['Happiness Score', 'Economy (GDP per Capita)',\n",
    "                                           'Family (Social Support)', 'Health (Life Expectancy)', \n",
    "                                           'Freedom', 'Trust (Government Corruption)'].mean()\n",
    "\n",
    "'''Grouping the dataframe based on the country, and taking the mean for all columns over all the years between 2015-2021.'''"
   ]
  },
  {
   "cell_type": "markdown",
   "metadata": {},
   "source": [
    "#### Grouping the dataframe based on the country, and taking the mean for the happiness rank column over all the years between 2015-2021."
   ]
  },
  {
   "cell_type": "code",
   "execution_count": null,
   "metadata": {},
   "outputs": [
    {
     "name": "stdout",
     "output_type": "stream",
     "text": [
      "                       Country  Happiness Rank\n",
      "0                  Switzerland               3\n",
      "1                      Iceland               3\n",
      "2                      Denmark               2\n",
      "3                       Norway               4\n",
      "4                       Canada               8\n",
      "..                         ...             ...\n",
      "164   Taiwan Province of China              24\n",
      "165  Hong Kong S.A.R. of China              78\n",
      "166                   Maldives              88\n",
      "167                     Gambia             106\n",
      "168            North Macedonia              94\n",
      "\n",
      "[169 rows x 2 columns]\n"
     ]
    }
   ],
   "source": [
    "happiness_rank_df = normalized_df.groupby(['Country'], as_index = False, sort = False)['Happiness Rank'].mean().round(0)\n",
    "happiness_rank_df[\"Happiness Rank\"] = happiness_rank_df[\"Happiness Rank\"].astype(int)\n",
    "print(happiness_rank_df)"
   ]
  },
  {
   "cell_type": "markdown",
   "metadata": {},
   "source": [
    "#### Merging the happiness rank df with the ordered by country df to have the final df for visualizations"
   ]
  },
  {
   "cell_type": "code",
   "execution_count": null,
   "metadata": {},
   "outputs": [
    {
     "name": "stdout",
     "output_type": "stream",
     "text": [
      "                       Country  Happiness Score  Economy (GDP per Capita)  \\\n",
      "0                  Switzerland         0.940749                  0.787882   \n",
      "1                      Iceland         0.938751                  0.743860   \n",
      "2                      Denmark         0.949013                  0.749318   \n",
      "3                       Norway         0.937985                  0.806706   \n",
      "4                       Canada         0.897782                  0.739903   \n",
      "..                         ...              ...                       ...   \n",
      "164   Taiwan Province of China         0.751401                  0.750353   \n",
      "165  Hong Kong S.A.R. of China         0.558507                  0.775550   \n",
      "166                   Maldives         0.502876                  0.548670   \n",
      "167                     Gambia         0.447039                  0.166774   \n",
      "168            North Macedonia         0.484678                  0.570889   \n",
      "\n",
      "     Family (Social Support)  Health (Life Expectancy)   Freedom  \\\n",
      "0                   0.837510                  0.813588  0.865265   \n",
      "1                   0.884918                  0.796490  0.878089   \n",
      "2                   0.855917                  0.759807  0.884143   \n",
      "3                   0.847979                  0.770845  0.900443   \n",
      "4                   0.818253                  0.791698  0.857695   \n",
      "..                       ...                       ...       ...   \n",
      "164                 0.711606                  0.676353  0.648760   \n",
      "165                 0.633998                  0.889409  0.599003   \n",
      "166                 0.735185                  0.706152  0.775693   \n",
      "167                 0.423868                  0.246822  0.543798   \n",
      "168                 0.469586                  0.468887  0.621547   \n",
      "\n",
      "     Trust (Government Corruption)  Happiness Rank  \n",
      "0                         0.703987               3  \n",
      "1                         0.262793               3  \n",
      "2                         0.809431               2  \n",
      "3                         0.668032               4  \n",
      "4                         0.573575               8  \n",
      "..                             ...             ...  \n",
      "164                       0.245073              24  \n",
      "165                       0.611047              78  \n",
      "166                       0.131277              88  \n",
      "167                       0.254655             106  \n",
      "168                       0.039862              94  \n",
      "\n",
      "[169 rows x 8 columns]\n"
     ]
    }
   ],
   "source": [
    "ranked_ordered_by_country = pd.merge(ordered_by_country, happiness_rank_df, how='inner', on = 'Country')\n",
    "print(ranked_ordered_by_country)"
   ]
  },
  {
   "cell_type": "markdown",
   "metadata": {},
   "source": [
    "#### Adding weights to each of the columns Economy (GDP per Capita), Family (Social Support), Health (Life Expectancy), Freedom, Trust (Government Corruption). I am putting the weights based on analysis 1, as in I multiplied the columns by their respective correlation with the happiness scores."
   ]
  },
  {
   "cell_type": "code",
   "execution_count": null,
   "metadata": {},
   "outputs": [],
   "source": [
    "ranked_ordered_by_country[\"Economy (GDP per Capita)\"] = ranked_ordered_by_country[\"Economy (GDP per Capita)\"]*0.79\n",
    "ranked_ordered_by_country[\"Family (Social Support)\"] = ranked_ordered_by_country[\"Family (Social Support)\"]*0.63\n",
    "ranked_ordered_by_country[\"Health (Life Expectancy)\"] = ranked_ordered_by_country[\"Health (Life Expectancy)\"]*0.73\n",
    "ranked_ordered_by_country[\"Freedom\"] = ranked_ordered_by_country[\"Freedom\"]*0.56\n",
    "ranked_ordered_by_country[\"Trust (Government Corruption)\"] = ranked_ordered_by_country[\"Trust (Government Corruption)\"]*0.4"
   ]
  },
  {
   "cell_type": "markdown",
   "metadata": {},
   "source": [
    "#### Then I am looping over the ordered by country dataframe and summing up all the columns for every specific country and sorting them by the \"Total Sum of Columns\" to therefore use that for visualizations."
   ]
  },
  {
   "cell_type": "code",
   "execution_count": null,
   "metadata": {},
   "outputs": [
    {
     "name": "stdout",
     "output_type": "stream",
     "text": [
      "                      Country  Happiness Score  Economy (GDP per Capita)  \\\n",
      "0                 Switzerland        97.892091                 84.529992   \n",
      "3                      Norway        97.559315                 86.549654   \n",
      "2                     Denmark        98.887186                 80.392609   \n",
      "5                     Finland       100.000000                 77.962623   \n",
      "7                      Sweden        93.444073                 80.454472   \n",
      "..                        ...              ...                       ...   \n",
      "157                      Togo        11.633083                 15.168733   \n",
      "163               South Sudan         2.755482                 19.585549   \n",
      "152               Afghanistan         0.762702                 20.123756   \n",
      "156                   Burundi         1.705084                  2.558059   \n",
      "147  Central African Republic         0.000000                  1.944978   \n",
      "\n",
      "     Family (Social Support)  Health (Life Expectancy)    Freedom  \\\n",
      "0                  94.642713                 89.770255  93.239233   \n",
      "3                  95.825797                 84.840862  97.203459   \n",
      "2                  96.722773                 83.567884  95.366601   \n",
      "5                  96.013614                 83.609340  94.925457   \n",
      "7                  91.698329                 86.107008  94.085024   \n",
      "..                       ...                       ...        ...   \n",
      "157                23.610982                 24.652431  49.347523   \n",
      "163                25.380335                 14.469656  16.138439   \n",
      "152                23.618266                 19.991576   8.840916   \n",
      "156                27.688147                 17.719766  19.745085   \n",
      "147                 0.000000                  0.000000  44.992572   \n",
      "\n",
      "     Trust (Government Corruption)  Happiness Rank  Total Sum of Columns  \\\n",
      "0                        79.521536               3            100.000000   \n",
      "3                        75.438383               4             99.685826   \n",
      "2                        91.495890               2             99.571391   \n",
      "5                        86.325351               3             98.985158   \n",
      "7                        84.160338               8             96.591809   \n",
      "..                             ...             ...                   ...   \n",
      "157                      20.935611             145             17.604165   \n",
      "163                      24.401291             148              9.236586   \n",
      "152                       8.443602             150              7.508729   \n",
      "156                      27.769047             150              6.978154   \n",
      "147                       9.481642             152              0.000000   \n",
      "\n",
      "     Analyzed Happiness Score  \n",
      "0                  100.000000  \n",
      "3                   99.685826  \n",
      "2                   99.571391  \n",
      "5                   98.985158  \n",
      "7                   96.591809  \n",
      "..                        ...  \n",
      "157                 17.604165  \n",
      "163                  9.236586  \n",
      "152                  7.508729  \n",
      "156                  6.978154  \n",
      "147                  0.000000  \n",
      "\n",
      "[169 rows x 10 columns]\n"
     ]
    },
    {
     "data": {
      "text/plain": [
       "'I have normalized by percentage my dataset so the data is more spread out and gives better visualizations'"
      ]
     },
     "execution_count": null,
     "metadata": {},
     "output_type": "execute_result"
    }
   ],
   "source": [
    "ranked_ordered_by_country['Analyzed Happiness Score']=ranked_ordered_by_country.iloc[:,1:7].sum(axis=1)\n",
    "ranked_ordered_by_country = ranked_ordered_by_country.sort_values(by = ['Analyzed Happiness Score'], ascending = False)\n",
    "ordered_by_sum_country_normalized = normalize_with_percent(ranked_ordered_by_country)\n",
    "print(ordered_by_sum_country_normalized)\n",
    "'''I have normalized by percentage my dataset so the data is more spread out and gives better visualizations'''"
   ]
  },
  {
   "cell_type": "markdown",
   "metadata": {},
   "source": [
    "#### Getting the top 10 countries with the best living standards based on my algorithm using a bar plot"
   ]
  },
  {
   "cell_type": "code",
   "execution_count": null,
   "metadata": {},
   "outputs": [
    {
     "data": {
      "image/png": "[encoded data removed]",
      "text/plain": [
       "<Figure size 432x288 with 1 Axes>"
      ]
     },
     "metadata": {
      "needs_background": "light"
     },
     "output_type": "display_data"
    }
   ],
   "source": [
    "best_10_countries = ordered_by_sum_country_normalized[:10]\n",
    "sns.barplot(data=best_10_countries, x=\"Analyzed Happiness Score\", y=\"Country\")\n",
    "#plt.xticks(rotation = 90)\n",
    "plt.xlabel('Countries')\n",
    "plt.ylabel('Living Standards')\n",
    "plt.show()\n",
    "#print(best_10_countries)"
   ]
  },
  {
   "cell_type": "markdown",
   "metadata": {},
   "source": [
    "#### This scatter plot shows that the provided Happiness Score is very low and that the analyzed Happiness Rank (out of a 100) is very high which shows that my analysis is true"
   ]
  },
  {
   "cell_type": "code",
   "execution_count": null,
   "metadata": {},
   "outputs": [
    {
     "data": {
      "image/png": "[encoded data removed]",
      "text/plain": [
       "<Figure size 432x288 with 1 Axes>"
      ]
     },
     "metadata": {
      "needs_background": "light"
     },
     "output_type": "display_data"
    }
   ],
   "source": [
    "plt.scatter(x=best_10_countries['Analyzed Happiness Score'],y=best_10_countries['Country'],marker='o',label=\"analyzed\")\n",
    "plt.scatter(x=best_10_countries['Happiness Score'],y=best_10_countries['Country'],marker='h',label=\"provided\")\n",
    " \n",
    "plt.legend(loc='best')\n",
    "#plt.xticks(rotation = 90)\n",
    "plt.tight_layout()\n",
    "plt.show()"
   ]
  },
  {
   "cell_type": "markdown",
   "metadata": {},
   "source": [
    "#### Getting the top 10 countries with the worst living standards based on my algorithm using a bar plot"
   ]
  },
  {
   "cell_type": "code",
   "execution_count": null,
   "metadata": {},
   "outputs": [
    {
     "data": {
      "image/png": "[encoded data removed]",
      "text/plain": [
       "<Figure size 432x288 with 1 Axes>"
      ]
     },
     "metadata": {
      "needs_background": "light"
     },
     "output_type": "display_data"
    }
   ],
   "source": [
    "worst_10_countries = ordered_by_sum_country_normalized[159:170]\n",
    "sns.barplot(data=worst_10_countries, x=\"Analyzed Happiness Score\", y=\"Country\")\n",
    "#plt.xticks(rotation = 90)\n",
    "plt.xlabel('Countries')\n",
    "plt.ylabel('Living Standards')\n",
    "plt.show()"
   ]
  },
  {
   "cell_type": "markdown",
   "metadata": {},
   "source": [
    "#### This scatter plot shows that the provided Happiness Score is very high and that the analyzed Happiness Rank is very low (out of a 100) which shows that my analysis is true"
   ]
  },
  {
   "cell_type": "code",
   "execution_count": null,
   "metadata": {},
   "outputs": [
    {
     "data": {
      "image/png": "[encoded data removed]",
      "text/plain": [
       "<Figure size 432x288 with 1 Axes>"
      ]
     },
     "metadata": {
      "needs_background": "light"
     },
     "output_type": "display_data"
    }
   ],
   "source": [
    "plt.scatter(x=worst_10_countries['Analyzed Happiness Score'],y=worst_10_countries['Country'],marker='o',label=\"analyzed\")\n",
    "plt.scatter(x=worst_10_countries['Happiness Score'],y=worst_10_countries['Country'],marker='h', label=\"provided\")\n",
    "\n",
    "plt.legend(loc='best')\n",
    "#plt.xticks(rotation = 90)\n",
    "plt.tight_layout()\n",
    "plt.show()"
   ]
  },
  {
   "cell_type": "markdown",
   "metadata": {},
   "source": [
    "## Conclusion"
   ]
  },
  {
   "cell_type": "markdown",
   "metadata": {},
   "source": [
    "### My analysis has shown that the countries that offer the best living standards between 2015-2021 is the average of the scores of happiness score, social support, economy, freedom, and government corruption added together. Before adding them together, I have normalized and multiplied weights based on the correlation of Analysis 1 to all of the columns to get an accurate score. Moreover, I have compared my conclusion with each of the countries' Happiness Score, and I have found that my analysis was well supported by the Happiness Score as shown in the visualizations."
   ]
  },
  {
   "cell_type": "markdown",
   "metadata": {},
   "source": [
    "#### Saving my processed dataset"
   ]
  },
  {
   "cell_type": "code",
   "execution_count": null,
   "metadata": {},
   "outputs": [
    {
     "data": {
      "text/plain": [
       "'to save cleaned dataset into processed folder'"
      ]
     },
     "execution_count": null,
     "metadata": {},
     "output_type": "execute_result"
    }
   ],
   "source": [
    "ordered_by_sum_country_normalized.to_csv('../data/processed/world_happiness_report_processed_Notebook2.csv')\n",
    "'''to save cleaned dataset into processed folder'''"
   ]
  },
  {
   "cell_type": "markdown",
   "metadata": {},
   "source": [
    "#### The method for loading and processing the dataset for the EDA\n",
    "##### There is more steps that I took however it was by grouping the countries and doing further manipulation that kept giving me a lot of errors whenever I put it into the method function"
   ]
  },
  {
   "cell_type": "code",
   "execution_count": null,
   "metadata": {},
   "outputs": [
    {
     "data": {
      "text/plain": [
       "'Method Chaining'"
      ]
     },
     "execution_count": null,
     "metadata": {},
     "output_type": "execute_result"
    }
   ],
   "source": [
    "import pandas as pd\n",
    "import numpy as np\n",
    "\n",
    "def load_and_process(url_or_path_to_csv_file):\n",
    "\n",
    "\n",
    "    df = (\n",
    "        pd.read_csv(url_or_path_to_csv_file))\n",
    "\n",
    "    df_cleaned = (df[df.Region != '-'])\n",
    "\n",
    "    df_cleaned2 = ( df_cleaned.copy().drop(['Generosity'], axis=1)\n",
    "         .copy().drop(df_cleaned.columns[0], axis=1)\n",
    "         .dropna(axis=0))\n",
    "    \n",
    "    df_cleaned_3 = (df_cleaned2[df_cleaned2.Year != 2022])\n",
    "    df_cleaned_4 = df_cleaned_3.astype({'Happiness Score':'float'})\n",
    "    df_cleaned_5 = df_cleaned_4.astype({'Economy (GDP per Capita)':'float'})\n",
    "    df_cleaned_6 = df_cleaned_5.astype({'Family (Social Support)':'float'})\n",
    "    df_cleaned_7 = df_cleaned_6.astype({'Health (Life Expectancy)':'float'})\n",
    "    df_cleaned_8 = df_cleaned_7.astype({'Freedom':'float'})\n",
    "    df_cleaned_9 = df_cleaned_8.astype({'Trust (Government Corruption)':'float'})\n",
    "    \n",
    "    \n",
    " \n",
    "    \n",
    "    # Make sure to return the latest dataframe\n",
    "    return df_cleaned_9\n",
    "\n",
    "'''Method Chaining'''"
   ]
  },
  {
   "cell_type": "markdown",
   "metadata": {},
   "source": [
    "#### Calling the dataset into the method"
   ]
  },
  {
   "cell_type": "code",
   "execution_count": null,
   "metadata": {},
   "outputs": [
    {
     "data": {
      "text/html": [
       "<div>\n",
       "<style scoped>\n",
       "    .dataframe tbody tr th:only-of-type {\n",
       "        vertical-align: middle;\n",
       "    }\n",
       "\n",
       "    .dataframe tbody tr th {\n",
       "        vertical-align: top;\n",
       "    }\n",
       "\n",
       "    .dataframe thead th {\n",
       "        text-align: right;\n",
       "    }\n",
       "</style>\n",
       "<table border=\"1\" class=\"dataframe\">\n",
       "  <thead>\n",
       "    <tr style=\"text-align: right;\">\n",
       "      <th></th>\n",
       "      <th>Happiness Rank</th>\n",
       "      <th>Country</th>\n",
       "      <th>Region</th>\n",
       "      <th>Happiness Score</th>\n",
       "      <th>Economy (GDP per Capita)</th>\n",
       "      <th>Family (Social Support)</th>\n",
       "      <th>Health (Life Expectancy)</th>\n",
       "      <th>Freedom</th>\n",
       "      <th>Trust (Government Corruption)</th>\n",
       "      <th>Year</th>\n",
       "    </tr>\n",
       "  </thead>\n",
       "  <tbody>\n",
       "    <tr>\n",
       "      <th>0</th>\n",
       "      <td>1</td>\n",
       "      <td>Switzerland</td>\n",
       "      <td>Western Europe</td>\n",
       "      <td>7.587</td>\n",
       "      <td>1.39651</td>\n",
       "      <td>1.34951</td>\n",
       "      <td>0.94143</td>\n",
       "      <td>0.66557</td>\n",
       "      <td>0.41978</td>\n",
       "      <td>2015</td>\n",
       "    </tr>\n",
       "    <tr>\n",
       "      <th>1</th>\n",
       "      <td>2</td>\n",
       "      <td>Iceland</td>\n",
       "      <td>Western Europe</td>\n",
       "      <td>7.561</td>\n",
       "      <td>1.30232</td>\n",
       "      <td>1.40223</td>\n",
       "      <td>0.94784</td>\n",
       "      <td>0.62877</td>\n",
       "      <td>0.14145</td>\n",
       "      <td>2015</td>\n",
       "    </tr>\n",
       "    <tr>\n",
       "      <th>2</th>\n",
       "      <td>3</td>\n",
       "      <td>Denmark</td>\n",
       "      <td>Western Europe</td>\n",
       "      <td>7.527</td>\n",
       "      <td>1.32548</td>\n",
       "      <td>1.36058</td>\n",
       "      <td>0.87464</td>\n",
       "      <td>0.64938</td>\n",
       "      <td>0.48357</td>\n",
       "      <td>2015</td>\n",
       "    </tr>\n",
       "    <tr>\n",
       "      <th>3</th>\n",
       "      <td>4</td>\n",
       "      <td>Norway</td>\n",
       "      <td>Western Europe</td>\n",
       "      <td>7.522</td>\n",
       "      <td>1.45900</td>\n",
       "      <td>1.33095</td>\n",
       "      <td>0.88521</td>\n",
       "      <td>0.66973</td>\n",
       "      <td>0.36503</td>\n",
       "      <td>2015</td>\n",
       "    </tr>\n",
       "    <tr>\n",
       "      <th>4</th>\n",
       "      <td>5</td>\n",
       "      <td>Canada</td>\n",
       "      <td>North America</td>\n",
       "      <td>7.427</td>\n",
       "      <td>1.32629</td>\n",
       "      <td>1.32261</td>\n",
       "      <td>0.90563</td>\n",
       "      <td>0.63297</td>\n",
       "      <td>0.32957</td>\n",
       "      <td>2015</td>\n",
       "    </tr>\n",
       "    <tr>\n",
       "      <th>...</th>\n",
       "      <td>...</td>\n",
       "      <td>...</td>\n",
       "      <td>...</td>\n",
       "      <td>...</td>\n",
       "      <td>...</td>\n",
       "      <td>...</td>\n",
       "      <td>...</td>\n",
       "      <td>...</td>\n",
       "      <td>...</td>\n",
       "      <td>...</td>\n",
       "    </tr>\n",
       "    <tr>\n",
       "      <th>1078</th>\n",
       "      <td>145</td>\n",
       "      <td>Lesotho</td>\n",
       "      <td>Sub-Saharan Africa</td>\n",
       "      <td>3.512</td>\n",
       "      <td>0.45100</td>\n",
       "      <td>0.73100</td>\n",
       "      <td>0.00700</td>\n",
       "      <td>0.40500</td>\n",
       "      <td>0.01500</td>\n",
       "      <td>2021</td>\n",
       "    </tr>\n",
       "    <tr>\n",
       "      <th>1079</th>\n",
       "      <td>146</td>\n",
       "      <td>Botswana</td>\n",
       "      <td>Sub-Saharan Africa</td>\n",
       "      <td>3.467</td>\n",
       "      <td>1.09900</td>\n",
       "      <td>0.72400</td>\n",
       "      <td>0.34000</td>\n",
       "      <td>0.53900</td>\n",
       "      <td>0.08800</td>\n",
       "      <td>2021</td>\n",
       "    </tr>\n",
       "    <tr>\n",
       "      <th>1080</th>\n",
       "      <td>147</td>\n",
       "      <td>Rwanda</td>\n",
       "      <td>Sub-Saharan Africa</td>\n",
       "      <td>3.415</td>\n",
       "      <td>0.36400</td>\n",
       "      <td>0.20200</td>\n",
       "      <td>0.40700</td>\n",
       "      <td>0.62700</td>\n",
       "      <td>0.49300</td>\n",
       "      <td>2021</td>\n",
       "    </tr>\n",
       "    <tr>\n",
       "      <th>1081</th>\n",
       "      <td>148</td>\n",
       "      <td>Zimbabwe</td>\n",
       "      <td>Sub-Saharan Africa</td>\n",
       "      <td>3.145</td>\n",
       "      <td>0.45700</td>\n",
       "      <td>0.64900</td>\n",
       "      <td>0.24300</td>\n",
       "      <td>0.35900</td>\n",
       "      <td>0.07500</td>\n",
       "      <td>2021</td>\n",
       "    </tr>\n",
       "    <tr>\n",
       "      <th>1082</th>\n",
       "      <td>149</td>\n",
       "      <td>Afghanistan</td>\n",
       "      <td>South Asia</td>\n",
       "      <td>2.523</td>\n",
       "      <td>0.37000</td>\n",
       "      <td>0.00000</td>\n",
       "      <td>0.12600</td>\n",
       "      <td>0.00000</td>\n",
       "      <td>0.01000</td>\n",
       "      <td>2021</td>\n",
       "    </tr>\n",
       "  </tbody>\n",
       "</table>\n",
       "<p>1064 rows × 10 columns</p>\n",
       "</div>"
      ],
      "text/plain": [
       "      Happiness Rank      Country              Region  Happiness Score  \\\n",
       "0                  1  Switzerland      Western Europe            7.587   \n",
       "1                  2      Iceland      Western Europe            7.561   \n",
       "2                  3      Denmark      Western Europe            7.527   \n",
       "3                  4       Norway      Western Europe            7.522   \n",
       "4                  5       Canada       North America            7.427   \n",
       "...              ...          ...                 ...              ...   \n",
       "1078             145      Lesotho  Sub-Saharan Africa            3.512   \n",
       "1079             146     Botswana  Sub-Saharan Africa            3.467   \n",
       "1080             147       Rwanda  Sub-Saharan Africa            3.415   \n",
       "1081             148     Zimbabwe  Sub-Saharan Africa            3.145   \n",
       "1082             149  Afghanistan          South Asia            2.523   \n",
       "\n",
       "      Economy (GDP per Capita)  Family (Social Support)  \\\n",
       "0                      1.39651                  1.34951   \n",
       "1                      1.30232                  1.40223   \n",
       "2                      1.32548                  1.36058   \n",
       "3                      1.45900                  1.33095   \n",
       "4                      1.32629                  1.32261   \n",
       "...                        ...                      ...   \n",
       "1078                   0.45100                  0.73100   \n",
       "1079                   1.09900                  0.72400   \n",
       "1080                   0.36400                  0.20200   \n",
       "1081                   0.45700                  0.64900   \n",
       "1082                   0.37000                  0.00000   \n",
       "\n",
       "      Health (Life Expectancy)  Freedom  Trust (Government Corruption)  Year  \n",
       "0                      0.94143  0.66557                        0.41978  2015  \n",
       "1                      0.94784  0.62877                        0.14145  2015  \n",
       "2                      0.87464  0.64938                        0.48357  2015  \n",
       "3                      0.88521  0.66973                        0.36503  2015  \n",
       "4                      0.90563  0.63297                        0.32957  2015  \n",
       "...                        ...      ...                            ...   ...  \n",
       "1078                   0.00700  0.40500                        0.01500  2021  \n",
       "1079                   0.34000  0.53900                        0.08800  2021  \n",
       "1080                   0.40700  0.62700                        0.49300  2021  \n",
       "1081                   0.24300  0.35900                        0.07500  2021  \n",
       "1082                   0.12600  0.00000                        0.01000  2021  \n",
       "\n",
       "[1064 rows x 10 columns]"
      ]
     },
     "execution_count": null,
     "metadata": {},
     "output_type": "execute_result"
    }
   ],
   "source": [
    "load_and_process('../data/raw/world_happiness_report.csv')"
   ]
  },
  {
   "cell_type": "markdown",
   "metadata": {},
   "source": [
    "#### I used the relative import to clean the dataset so with a few other manipulations, I can finally implement my dataframe to conclude the question to be answered"
   ]
  },
  {
   "cell_type": "code",
   "execution_count": null,
   "metadata": {},
   "outputs": [
    {
     "data": {
      "text/html": [
       "<div>\n",
       "<style scoped>\n",
       "    .dataframe tbody tr th:only-of-type {\n",
       "        vertical-align: middle;\n",
       "    }\n",
       "\n",
       "    .dataframe tbody tr th {\n",
       "        vertical-align: top;\n",
       "    }\n",
       "\n",
       "    .dataframe thead th {\n",
       "        text-align: right;\n",
       "    }\n",
       "</style>\n",
       "<table border=\"1\" class=\"dataframe\">\n",
       "  <thead>\n",
       "    <tr style=\"text-align: right;\">\n",
       "      <th></th>\n",
       "      <th>Happiness Rank</th>\n",
       "      <th>Country</th>\n",
       "      <th>Region</th>\n",
       "      <th>Happiness Score</th>\n",
       "      <th>Economy (GDP per Capita)</th>\n",
       "      <th>Family (Social Support)</th>\n",
       "      <th>Health (Life Expectancy)</th>\n",
       "      <th>Freedom</th>\n",
       "      <th>Trust (Government Corruption)</th>\n",
       "      <th>Year</th>\n",
       "    </tr>\n",
       "  </thead>\n",
       "  <tbody>\n",
       "    <tr>\n",
       "      <th>0</th>\n",
       "      <td>1</td>\n",
       "      <td>Switzerland</td>\n",
       "      <td>Western Europe</td>\n",
       "      <td>7.587</td>\n",
       "      <td>1.39651</td>\n",
       "      <td>1.34951</td>\n",
       "      <td>0.94143</td>\n",
       "      <td>0.66557</td>\n",
       "      <td>0.41978</td>\n",
       "      <td>2015</td>\n",
       "    </tr>\n",
       "    <tr>\n",
       "      <th>1</th>\n",
       "      <td>2</td>\n",
       "      <td>Iceland</td>\n",
       "      <td>Western Europe</td>\n",
       "      <td>7.561</td>\n",
       "      <td>1.30232</td>\n",
       "      <td>1.40223</td>\n",
       "      <td>0.94784</td>\n",
       "      <td>0.62877</td>\n",
       "      <td>0.14145</td>\n",
       "      <td>2015</td>\n",
       "    </tr>\n",
       "    <tr>\n",
       "      <th>2</th>\n",
       "      <td>3</td>\n",
       "      <td>Denmark</td>\n",
       "      <td>Western Europe</td>\n",
       "      <td>7.527</td>\n",
       "      <td>1.32548</td>\n",
       "      <td>1.36058</td>\n",
       "      <td>0.87464</td>\n",
       "      <td>0.64938</td>\n",
       "      <td>0.48357</td>\n",
       "      <td>2015</td>\n",
       "    </tr>\n",
       "    <tr>\n",
       "      <th>3</th>\n",
       "      <td>4</td>\n",
       "      <td>Norway</td>\n",
       "      <td>Western Europe</td>\n",
       "      <td>7.522</td>\n",
       "      <td>1.459</td>\n",
       "      <td>1.33095</td>\n",
       "      <td>0.88521</td>\n",
       "      <td>0.66973</td>\n",
       "      <td>0.36503</td>\n",
       "      <td>2015</td>\n",
       "    </tr>\n",
       "    <tr>\n",
       "      <th>4</th>\n",
       "      <td>5</td>\n",
       "      <td>Canada</td>\n",
       "      <td>North America</td>\n",
       "      <td>7.427</td>\n",
       "      <td>1.32629</td>\n",
       "      <td>1.32261</td>\n",
       "      <td>0.90563</td>\n",
       "      <td>0.63297</td>\n",
       "      <td>0.32957</td>\n",
       "      <td>2015</td>\n",
       "    </tr>\n",
       "    <tr>\n",
       "      <th>...</th>\n",
       "      <td>...</td>\n",
       "      <td>...</td>\n",
       "      <td>...</td>\n",
       "      <td>...</td>\n",
       "      <td>...</td>\n",
       "      <td>...</td>\n",
       "      <td>...</td>\n",
       "      <td>...</td>\n",
       "      <td>...</td>\n",
       "      <td>...</td>\n",
       "    </tr>\n",
       "    <tr>\n",
       "      <th>1078</th>\n",
       "      <td>145</td>\n",
       "      <td>Lesotho</td>\n",
       "      <td>Sub-Saharan Africa</td>\n",
       "      <td>3.512</td>\n",
       "      <td>0.451</td>\n",
       "      <td>0.731</td>\n",
       "      <td>0.007</td>\n",
       "      <td>0.405</td>\n",
       "      <td>0.015</td>\n",
       "      <td>2021</td>\n",
       "    </tr>\n",
       "    <tr>\n",
       "      <th>1079</th>\n",
       "      <td>146</td>\n",
       "      <td>Botswana</td>\n",
       "      <td>Sub-Saharan Africa</td>\n",
       "      <td>3.467</td>\n",
       "      <td>1.099</td>\n",
       "      <td>0.724</td>\n",
       "      <td>0.34</td>\n",
       "      <td>0.539</td>\n",
       "      <td>0.088</td>\n",
       "      <td>2021</td>\n",
       "    </tr>\n",
       "    <tr>\n",
       "      <th>1080</th>\n",
       "      <td>147</td>\n",
       "      <td>Rwanda</td>\n",
       "      <td>Sub-Saharan Africa</td>\n",
       "      <td>3.415</td>\n",
       "      <td>0.364</td>\n",
       "      <td>0.202</td>\n",
       "      <td>0.407</td>\n",
       "      <td>0.627</td>\n",
       "      <td>0.493</td>\n",
       "      <td>2021</td>\n",
       "    </tr>\n",
       "    <tr>\n",
       "      <th>1081</th>\n",
       "      <td>148</td>\n",
       "      <td>Zimbabwe</td>\n",
       "      <td>Sub-Saharan Africa</td>\n",
       "      <td>3.145</td>\n",
       "      <td>0.457</td>\n",
       "      <td>0.649</td>\n",
       "      <td>0.243</td>\n",
       "      <td>0.359</td>\n",
       "      <td>0.075</td>\n",
       "      <td>2021</td>\n",
       "    </tr>\n",
       "    <tr>\n",
       "      <th>1082</th>\n",
       "      <td>149</td>\n",
       "      <td>Afghanistan</td>\n",
       "      <td>South Asia</td>\n",
       "      <td>2.523</td>\n",
       "      <td>0.37</td>\n",
       "      <td>0.0</td>\n",
       "      <td>0.126</td>\n",
       "      <td>0.0</td>\n",
       "      <td>0.01</td>\n",
       "      <td>2021</td>\n",
       "    </tr>\n",
       "  </tbody>\n",
       "</table>\n",
       "<p>1064 rows × 10 columns</p>\n",
       "</div>"
      ],
      "text/plain": [
       "      Happiness Rank      Country              Region Happiness Score  \\\n",
       "0                  1  Switzerland      Western Europe           7.587   \n",
       "1                  2      Iceland      Western Europe           7.561   \n",
       "2                  3      Denmark      Western Europe           7.527   \n",
       "3                  4       Norway      Western Europe           7.522   \n",
       "4                  5       Canada       North America           7.427   \n",
       "...              ...          ...                 ...             ...   \n",
       "1078             145      Lesotho  Sub-Saharan Africa           3.512   \n",
       "1079             146     Botswana  Sub-Saharan Africa           3.467   \n",
       "1080             147       Rwanda  Sub-Saharan Africa           3.415   \n",
       "1081             148     Zimbabwe  Sub-Saharan Africa           3.145   \n",
       "1082             149  Afghanistan          South Asia           2.523   \n",
       "\n",
       "     Economy (GDP per Capita) Family (Social Support)  \\\n",
       "0                     1.39651                 1.34951   \n",
       "1                     1.30232                 1.40223   \n",
       "2                     1.32548                 1.36058   \n",
       "3                       1.459                 1.33095   \n",
       "4                     1.32629                 1.32261   \n",
       "...                       ...                     ...   \n",
       "1078                    0.451                   0.731   \n",
       "1079                    1.099                   0.724   \n",
       "1080                    0.364                   0.202   \n",
       "1081                    0.457                   0.649   \n",
       "1082                     0.37                     0.0   \n",
       "\n",
       "     Health (Life Expectancy)  Freedom Trust (Government Corruption)  Year  \n",
       "0                     0.94143  0.66557                       0.41978  2015  \n",
       "1                     0.94784  0.62877                       0.14145  2015  \n",
       "2                     0.87464  0.64938                       0.48357  2015  \n",
       "3                     0.88521  0.66973                       0.36503  2015  \n",
       "4                     0.90563  0.63297                       0.32957  2015  \n",
       "...                       ...      ...                           ...   ...  \n",
       "1078                    0.007    0.405                         0.015  2021  \n",
       "1079                     0.34    0.539                         0.088  2021  \n",
       "1080                    0.407    0.627                         0.493  2021  \n",
       "1081                    0.243    0.359                         0.075  2021  \n",
       "1082                    0.126      0.0                          0.01  2021  \n",
       "\n",
       "[1064 rows x 10 columns]"
      ]
     },
     "execution_count": null,
     "metadata": {},
     "output_type": "execute_result"
    }
   ],
   "source": [
    "from project_functions2 import load_and_process\n",
    "df_cleaned_9 = load_and_process('../data/raw/world_happiness_report.csv')\n",
    "df_cleaned_9"
   ]
  },
  {
   "cell_type": "code",
   "execution_count": null,
   "metadata": {},
   "outputs": [],
   "source": []
  }
 ],
 "metadata": {
  "kernelspec": {
   "display_name": "Python 3 (ipykernel)",
   "language": "python",
   "name": "python3"
  }
 },
 "nbformat": 4,
 "nbformat_minor": 4
}
