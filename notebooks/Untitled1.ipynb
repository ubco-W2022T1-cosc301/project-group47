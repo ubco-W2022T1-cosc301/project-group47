{
 "cells": [
  {
   "cell_type": "code",
   "execution_count": null,
   "id": "5f3a1aad-c453-414c-879e-f073de9bc4f1",
   "metadata": {},
   "outputs": [
    {
     "ename": "NameError",
     "evalue": "name 'df1' is not defined",
     "output_type": "error",
     "traceback": [
      "\u001b[1;31m---------------------------------------------------------------------------\u001b[0m",
      "\u001b[1;31mNameError\u001b[0m                                 Traceback (most recent call last)",
      "Cell \u001b[1;32mIn [1], line 1\u001b[0m\n\u001b[1;32m----> 1\u001b[0m df1 \u001b[38;5;241m=\u001b[39m \u001b[43mdf1\u001b[49m\u001b[38;5;241m.\u001b[39mtransform(pd\u001b[38;5;241m.\u001b[39mto_numeric, errors\u001b[38;5;241m=\u001b[39m\u001b[38;5;124m'\u001b[39m\u001b[38;5;124mcoerce\u001b[39m\u001b[38;5;124m'\u001b[39m)\n\u001b[0;32m      2\u001b[0m \u001b[38;5;28mprint\u001b[39m(df1[\u001b[38;5;124m'\u001b[39m\u001b[38;5;124mYear\u001b[39m\u001b[38;5;124m'\u001b[39m]\u001b[38;5;241m.\u001b[39munique())\n\u001b[0;32m      3\u001b[0m df1 \u001b[38;5;241m=\u001b[39m df1[df1\u001b[38;5;241m.\u001b[39mYear \u001b[38;5;241m!=\u001b[39m \u001b[38;5;241m2022\u001b[39m]\n",
      "\u001b[1;31mNameError\u001b[0m: name 'df1' is not defined"
     ]
    }
   ],
   "source": [
    "df1 = df1.transform(pd.to_numeric, errors='coerce')\n",
    "print(df1['Year'].unique())\n",
    "df1 = df1[df1.Year != 2022]\n",
    "df1 = df1.drop(['Happiness Rank', 'Country', 'Region', 'Freedom', 'Trust (Government Corruption)', 'Generosity'], axis=1)\n",
    "df1= df1.drop(df1.columns[0], axis=1)\n",
    "df1 = df1.dropna(axis=0)\n",
    "def normalize(df):\n",
    "    result = df.copy()\n",
    "    for feature_name in df.columns:\n",
    "        max_value = df[feature_name].max()\n",
    "        min_value = df[feature_name].min()\n",
    "        result[feature_name] = (df[feature_name] - min_value) / (max_value - min_value)\n",
    "    return result\n",
    "df2 = df1.iloc[:, :4]\n",
    "normalized_df1 = normalize(df2)\n",
    "normalized_df1[\"Year\"] = df1[\"Year\"] \n",
    "print(normalized_df1)\n",
    "df2 = normalized_df1.groupby(\"Year\")[\"Happiness Score\", \"Economy (GDP per Capita)\", \"Family (Social Support)\",\"Year\", \"Health (Life Expectancy)\"].mean().sort_values(by = ['Happiness Score'], ascending = False)\n"
   ]
  },
  {
   "cell_type": "code",
   "execution_count": null,
   "id": "813254a2-60dc-43bb-a4d8-ff0e8988aeb2",
   "metadata": {},
   "outputs": [],
   "source": [
    "import pandas as pd\n",
    "\n",
    "#def load_and_process(rawFile):\n",
    "    df = pd.read_csv(rawFile)\n",
    "    data_clean = (df.copy()\n",
    "                  .drop(['atmo_opacity','wind_speed', 'id', 'terrestrial_date'], axis=1)\n",
    "                  .dropna(axis=0)\n",
    "                  .rename(columns={'ls':'solar_longitude'})\n",
    "                 )\n",
    "    mNames = [(f\"Month {x}\") for x in range(1,13)]\n",
    "    data_clean['month'].replace(mNames, list(range(1,13)), inplace=True)\n",
    "    \n",
    "    return data_clean"
   ]
  },
  {
   "cell_type": "code",
   "execution_count": null,
   "id": "845b5a04-6bdf-484a-8302-c4fadf4fbf34",
   "metadata": {},
   "outputs": [],
   "source": [
    "import pandas as pd\n",
    "import numpy as np\n",
    "df1 = pd.read_csv('../data/raw/world_happiness_report.csv')\n",
    "df = (df1."
   ]
  },
  {
   "cell_type": "code",
   "execution_count": null,
   "id": "2ed92406-3f49-4edb-98eb-f6de66f7a64f",
   "metadata": {},
   "outputs": [],
   "source": []
  }
 ],
 "metadata": {
  "kernelspec": {
   "display_name": "Python 3 (ipykernel)",
   "language": "python",
   "name": "python3"
  }
 },
 "nbformat": 4,
 "nbformat_minor": 5
}
