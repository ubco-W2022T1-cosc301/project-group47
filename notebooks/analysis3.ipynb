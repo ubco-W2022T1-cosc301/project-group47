{
 "cells": [
  {
   "cell_type": "markdown",
   "metadata": {},
   "source": [
    "# Darya Amirbeigi "
   ]
  },
  {
   "cell_type": "markdown",
   "metadata": {},
   "source": [
    "## do countries with a focus on agriculture (based on crop land) release more carbon dioxide?\n",
    "\n",
    "Agriculture takes away forest land coverage, which in turn decreases the ecosystem ability to obsorve carbon dioxide in the atmosphere. This research question is aiming to see if countries that have a focus on agriculture tend to have more carbon dioxide in their atmosphere and if thats the case, how does it affect their climate change.  "
   ]
  },
  {
   "cell_type": "code",
   "execution_count": null,
   "metadata": {},
   "outputs": [
    {
     "name": "stdout",
     "output_type": "stream",
     "text": [
      "     CO2 emission estimates  Year  \\\n",
      "0                   Albania  1975   \n",
      "1                   Albania  1985   \n",
      "2                   Albania  1995   \n",
      "3                   Albania  2005   \n",
      "4                   Albania  2010   \n",
      "...                     ...   ...   \n",
      "2127               Zimbabwe  2005   \n",
      "2128               Zimbabwe  2010   \n",
      "2129               Zimbabwe  2015   \n",
      "2130               Zimbabwe  2016   \n",
      "2131               Zimbabwe  2017   \n",
      "\n",
      "                                                 Series     Value  \n",
      "0     Emissions (thousand metric tons of carbon diox...  4338.334  \n",
      "1     Emissions (thousand metric tons of carbon diox...  6929.926  \n",
      "2     Emissions (thousand metric tons of carbon diox...  1848.549  \n",
      "3     Emissions (thousand metric tons of carbon diox...  3825.184  \n",
      "4     Emissions (thousand metric tons of carbon diox...  3930.295  \n",
      "...                                                 ...       ...  \n",
      "2127  Emissions per capita (metric tons of carbon di...     0.794  \n",
      "2128  Emissions per capita (metric tons of carbon di...     0.672  \n",
      "2129  Emissions per capita (metric tons of carbon di...     0.749  \n",
      "2130  Emissions per capita (metric tons of carbon di...     0.642  \n",
      "2131  Emissions per capita (metric tons of carbon di...     0.588  \n",
      "\n",
      "[2132 rows x 4 columns]\n",
      "                               Land  Year  \\\n",
      "0     Total, all countries or areas  2005   \n",
      "1     Total, all countries or areas  2005   \n",
      "2     Total, all countries or areas  2005   \n",
      "3     Total, all countries or areas  2005   \n",
      "4     Total, all countries or areas  2005   \n",
      "...                             ...   ...   \n",
      "6154                       Zimbabwe  2017   \n",
      "6155                       Zimbabwe  2017   \n",
      "6156                       Zimbabwe  2017   \n",
      "6157                       Zimbabwe  2017   \n",
      "6158                       Zimbabwe  2019   \n",
      "\n",
      "                                                 Series         Value  \n",
      "0                         Land area (thousand hectares)  1.299769e+07  \n",
      "1                       Arable land (thousand hectares)  1.356869e+06  \n",
      "2                   Permanent crops (thousand hectares)  1.456805e+05  \n",
      "3                      Forest cover (thousand hectares)  4.032743e+06  \n",
      "4                    Arable land (% of total land area)  1.043930e+01  \n",
      "...                                                 ...           ...  \n",
      "6154                 Arable land (% of total land area)  1.033990e+01  \n",
      "6155             Permanent crops (% of total land area)  2.585000e-01  \n",
      "6156                Forest cover (% of total land area)  3.635000e+01  \n",
      "6157  Important sites for terrestrial biodiversity p...  8.121760e+01  \n",
      "6158  Important sites for terrestrial biodiversity p...  8.121760e+01  \n",
      "\n",
      "[6159 rows x 4 columns]\n"
     ]
    }
   ],
   "source": [
    "import numpy as np\n",
    "import pandas as pd\n",
    "\n",
    "df1 = pd.read_csv('Carbon Dioxide Emission Estimates.csv')\n",
    "df2 = pd.read_csv('Threatened Species.csv')\n",
    "df3 = pd.read_csv('Land.csv')\n",
    "df4 = pd.read_csv('Water and Sanitation Services.csv')\n",
    "\n",
    "print(df1)\n",
    "#print(df2)\n",
    "print(df3)\n",
    "#print(df4)"
   ]
  },
  {
   "cell_type": "code",
   "execution_count": null,
   "metadata": {},
   "outputs": [],
   "source": []
  },
  {
   "cell_type": "code",
   "execution_count": null,
   "metadata": {},
   "outputs": [],
   "source": []
  }
 ],
 "metadata": {
  "kernelspec": {
   "display_name": "Python 3 (ipykernel)",
   "language": "python",
   "name": "python3"
  }
 },
 "nbformat": 4,
 "nbformat_minor": 4
}
