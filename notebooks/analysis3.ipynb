{
 "cells": [
  {
   "cell_type": "markdown",
   "metadata": {},
   "source": [
    "# Darya Amirbeigi "
   ]
  },
  {
   "cell_type": "markdown",
   "metadata": {},
   "source": [
    "## do countries with a focus on agriculture (based on crop land) release more carbon dioxide?\n",
    "\n",
    "Agriculture takes away forest land coverage, which in turn decreases the ecosystem ability to obsorve carbon dioxide in the atmosphere. This research question is aiming to see if countries that have a focus on agriculture tend to have more carbon dioxide in their atmosphere and if thats the case, how does it affect their climate change.  "
   ]
  },
  {
   "cell_type": "code",
   "execution_count": null,
   "metadata": {},
   "outputs": [],
   "source": []
  },
  {
   "cell_type": "code",
   "execution_count": null,
   "metadata": {},
   "outputs": [],
   "source": []
  }
 ],
 "metadata": {
  "kernelspec": {
   "display_name": "Python 3 (ipykernel)",
   "language": "python",
   "name": "python3"
  }
 },
 "nbformat": 4,
 "nbformat_minor": 4
}
