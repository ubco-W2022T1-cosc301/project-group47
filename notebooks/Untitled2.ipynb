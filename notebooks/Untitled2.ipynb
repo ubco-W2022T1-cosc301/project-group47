{
 "cells": [
  {
   "cell_type": "code",
   "execution_count": null,
   "id": "267f55d7-f5d5-4601-9df6-f6677303790d",
   "metadata": {},
   "outputs": [],
   "source": [
    "df1 = df1.transform(pd.to_numeric, errors='coerce')"
   ]
  },
  {
   "cell_type": "code",
   "execution_count": null,
   "id": "70af4f84-dd17-4409-86e0-d5f14fe18e72",
   "metadata": {},
   "outputs": [
    {
     "ename": "IndentationError",
     "evalue": "unindent does not match any outer indentation level (<tokenize>, line 11)",
     "output_type": "error",
     "traceback": [
      "\u001b[1;36m  File \u001b[1;32m<tokenize>:11\u001b[1;36m\u001b[0m\n\u001b[1;33m    )\u001b[0m\n\u001b[1;37m    ^\u001b[0m\n\u001b[1;31mIndentationError\u001b[0m\u001b[1;31m:\u001b[0m unindent does not match any outer indentation level\n"
     ]
    }
   ],
   "source": [
    "import numpy as np\n",
    "import pandas as pd\n",
    "def load_and_process(rawFile):\n",
    "    df1 = pd.read_csv(rawFile)\n",
    "    df1 = df1.transform(pd.to_numeric, errors='coerce')\n",
    "            .copy().drop(['Happiness Rank', 'Country', 'Region', 'Freedom', 'Trust(Government Corruption)', 'Generosity'], axis=1)\n",
    "            .copy().drop(df1.columns[0], axis=1) \n",
    "            .dropna(axis=0)\n",
    "            .isnull().values.any()\n",
    "                  .rename(columns={'ls':'solar_longitude'})\n",
    "                 )\n",
    "    mNames = [(f\"Month {x}\") for x in range(1,13)]\n",
    "    data_clean['month'].replace(mNames, list(range(1,13)), inplace=True)\n",
    "    \n",
    "    return data_clea"
   ]
  },
  {
   "cell_type": "code",
   "execution_count": null,
   "id": "7a55d288-0902-4bbf-993c-2e1c24113a96",
   "metadata": {},
   "outputs": [
    {
     "ename": "IndentationError",
     "evalue": "unexpected indent (3153461340.py, line 6)",
     "output_type": "error",
     "traceback": [
      "\u001b[1;36m  Cell \u001b[1;32mIn [6], line 6\u001b[1;36m\u001b[0m\n\u001b[1;33m    .copy().drop(['Happiness Rank', 'Country', 'Region', 'Freedom', 'Generosity'], axis=1)\u001b[0m\n\u001b[1;37m    ^\u001b[0m\n\u001b[1;31mIndentationError\u001b[0m\u001b[1;31m:\u001b[0m unexpected indent\n"
     ]
    }
   ],
   "source": [
    "import numpy as np\n",
    "import pandas as pd\n",
    "def load_and_process(rawFile):\n",
    "    df1 = pd.read_csv(rawFile)\n",
    "    df1 = df1.transform(pd.to_numeric, errors='coerce')\n",
    "            .copy().drop(['Happiness Rank', 'Country', 'Region', 'Freedom', 'Generosity'], axis=1)\n",
    "            .copy().drop(df1.columns[0], axis=1) \n",
    "            .dropna(axis=0)\n",
    "            .isnull().values.any()\n",
    "            \n",
    "    return df1"
   ]
  },
  {
   "cell_type": "code",
   "execution_count": null,
   "id": "a67db1a1-d3d6-4df3-8682-769d085d7efc",
   "metadata": {},
   "outputs": [],
   "source": [
    "import pandas as pd\n",
    "import numpy as np\n",
    "df1 = pd.read_csv('../data/raw/world_happiness_report.csv')\n",
    "df = (df1.copy().drop(['Happiness Rank', 'Country', 'Region', 'Freedom', 'Trust (Government Corruption)', 'Generosity'], axis=1)\n",
    "      .copy().drop(df1.columns[0], axis=1)\n",
    "      .dropna(axis=0)\n",
    "      ..isnull().values.any()\n",
    "     )\n",
    "return df1"
   ]
  }
 ],
 "metadata": {
  "kernelspec": {
   "display_name": "Python 3 (ipykernel)",
   "language": "python",
   "name": "python3"
  }
 },
 "nbformat": 4,
 "nbformat_minor": 5
}
