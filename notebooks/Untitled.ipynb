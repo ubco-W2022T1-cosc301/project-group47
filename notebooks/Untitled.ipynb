{
 "cells": [
  {
   "cell_type": "code",
   "execution_count": null,
   "id": "4a84a485-de77-45be-80a5-d87305df66ae",
   "metadata": {},
   "outputs": [
    {
     "name": "stdout",
     "output_type": "stream",
     "text": [
      "hi!\n",
      "huh?\n",
      "ok\n"
     ]
    }
   ],
   "source": [
    "try:\n",
    "    print(\"hi!\")\n",
    "    num = 'three' \n",
    "    if num%3 != 0 :\n",
    "        print(\"nope\")\n",
    "    else:\n",
    "        print(\"yep\")\n",
    "except:\n",
    "    print(\"huh?\")\n",
    "finally:\n",
    "    print(\"ok\")"
   ]
  },
  {
   "cell_type": "code",
   "execution_count": null,
   "id": "d5ab5b00-fa7c-4a3e-8303-c844f9b4807a",
   "metadata": {},
   "outputs": [
    {
     "name": "stdout",
     "output_type": "stream",
     "text": [
      "['::::::::', ' :::::::::::']\n"
     ]
    }
   ],
   "source": [
    "user_name = \"::::::::Eloise :::::::::::\"\n",
    "user_name_fixed = user_name.split('Eloise')\n",
    "print(user_name_fixed)"
   ]
  },
  {
   "cell_type": "code",
   "execution_count": null,
   "id": "bde845b4-a9e5-40d0-9eee-1f02e07ff0aa",
   "metadata": {},
   "outputs": [
    {
     "name": "stdout",
     "output_type": "stream",
     "text": [
      "0\n",
      "b\n",
      "d\n"
     ]
    }
   ],
   "source": [
    "try:\n",
    "    num1 = 8\n",
    "    num2 = 0 \n",
    "    print(num1*num2) \n",
    "    print(num1/num2)\n",
    "    print(\"a\")\n",
    "except:\n",
    "    print(\"b\")\n",
    "else:\n",
    "    print(\"c\")\n",
    "finally:\n",
    "    print(\"d\")\n"
   ]
  },
  {
   "cell_type": "code",
   "execution_count": null,
   "id": "25af3eff-d969-40fb-9c09-99f4ed6716ec",
   "metadata": {},
   "outputs": [
    {
     "name": "stdout",
     "output_type": "stream",
     "text": [
      "81.33333333333333\n"
     ]
    }
   ],
   "source": [
    "calculation = 9 ** 2 + 28 / 3 * (9 - 8) % 3\n",
    "print(calculation)\n",
    "\n"
   ]
  },
  {
   "cell_type": "code",
   "execution_count": null,
   "id": "eaad2029-d449-4542-bac3-ab7b79c242ee",
   "metadata": {},
   "outputs": [
    {
     "name": "stdout",
     "output_type": "stream",
     "text": [
      "True\n"
     ]
    }
   ],
   "source": [
    "print(\"cran\" in \"cranberry\")"
   ]
  },
  {
   "cell_type": "code",
   "execution_count": null,
   "id": "a253d605-8a2f-4cbb-9f1a-71a9c4e6c933",
   "metadata": {},
   "outputs": [
    {
     "name": "stdout",
     "output_type": "stream",
     "text": [
      "True\n"
     ]
    }
   ],
   "source": [
    "print(\"a\" in \"banana\")"
   ]
  },
  {
   "cell_type": "code",
   "execution_count": null,
   "id": "96cd2500-7671-49f0-8b8a-88664c6669c9",
   "metadata": {},
   "outputs": [
    {
     "name": "stdout",
     "output_type": "stream",
     "text": [
      "True\n"
     ]
    }
   ],
   "source": [
    "print(\"d\" not in \"guava\")"
   ]
  },
  {
   "cell_type": "code",
   "execution_count": null,
   "id": "99613715-fbf5-472b-bcb5-a2997b2df551",
   "metadata": {},
   "outputs": [
    {
     "name": "stdout",
     "output_type": "stream",
     "text": [
      "True\n"
     ]
    }
   ],
   "source": [
    "print(\"cherry\" in \"cherry\")"
   ]
  },
  {
   "cell_type": "code",
   "execution_count": null,
   "id": "becb4196-d728-4db5-a260-e6e67adab0ed",
   "metadata": {},
   "outputs": [
    {
     "name": "stdout",
     "output_type": "stream",
     "text": [
      "True\n"
     ]
    }
   ],
   "source": [
    "print(\"q\" not in \"pomegranate\")"
   ]
  },
  {
   "cell_type": "code",
   "execution_count": null,
   "id": "efb93f2e-4139-470f-a48b-0bd1252ea5dd",
   "metadata": {},
   "outputs": [
    {
     "name": "stdout",
     "output_type": "stream",
     "text": [
      "['british columbia', ['Yukon Territory', 'Manitoba']]\n"
     ]
    }
   ],
   "source": [
    "provinces = [\"british columbia\"] \n",
    "provinces.append([\"Yukon Territory\",\"Manitoba\"])\n",
    "print(provinces)"
   ]
  },
  {
   "cell_type": "code",
   "execution_count": null,
   "id": "85e724fc-004e-40e9-b39a-a4f8956f5d0d",
   "metadata": {},
   "outputs": [
    {
     "name": "stdout",
     "output_type": "stream",
     "text": [
      "[1, 1, 2, 3, 5, 8, 13]\n"
     ]
    }
   ],
   "source": [
    "my_list = [1,1,2]\n",
    "\n",
    "for x in range(0,4):\n",
    "    z = my_list[len(my_list)-1] + my_list[len(my_list)-2]\n",
    "    my_list.append(z)\n",
    "    \n",
    "print(my_list)\n"
   ]
  },
  {
   "cell_type": "code",
   "execution_count": null,
   "id": "3f3a9c10-6d29-47d2-b5f2-f03b6fc88a9a",
   "metadata": {},
   "outputs": [
    {
     "data": {
      "text/plain": [
       "'Hello_my_name_is_Earl'"
      ]
     },
     "execution_count": null,
     "metadata": {},
     "output_type": "execute_result"
    }
   ],
   "source": [
    "greeting = [\"Hello\", \"my\", \"name\", \"is\", \"Earl\"] \n",
    "\n",
    "\n",
    "\"_\".join(greeting)"
   ]
  },
  {
   "cell_type": "code",
   "execution_count": null,
   "id": "64174cc6-de39-4dc3-99e8-78802776da10",
   "metadata": {},
   "outputs": [
    {
     "name": "stdout",
     "output_type": "stream",
     "text": [
      "A ZeroDivisionError occurred.\n"
     ]
    }
   ],
   "source": [
    "def divide_two_numbers(x, y): \n",
    "    result = x / y\n",
    "    return result\n",
    "try:\n",
    "    result = divide_two_numbers(2,0) \n",
    "    print(result)\n",
    "except NameError:\n",
    "    print(\"A NameError occurred.\")\n",
    "except ValueError:\n",
    "    print(\"A ValueError occurred.\")\n",
    "except ZeroDivisionError:\n",
    "    print(\"A ZeroDivisionError occurred.\")"
   ]
  },
  {
   "cell_type": "code",
   "execution_count": null,
   "id": "49b2844f-16ce-450b-8ae3-1b674ece82c3",
   "metadata": {},
   "outputs": [
    {
     "name": "stdout",
     "output_type": "stream",
     "text": [
      "w\n",
      "t\n",
      "r\n",
      "e\n",
      "o\n"
     ]
    }
   ],
   "source": [
    "def print_some_characters(word):\n",
    "    for i in range(len(word)):\n",
    "        if i % 2 == 0: \n",
    "            print(word[i])\n",
    "\n",
    "print_some_characters(\"watermelon\")"
   ]
  },
  {
   "cell_type": "code",
   "execution_count": null,
   "id": "138cc025-216f-4491-8c5b-29e3678ce0e9",
   "metadata": {},
   "outputs": [],
   "source": []
  }
 ],
 "metadata": {
  "kernelspec": {
   "display_name": "Python 3 (ipykernel)",
   "language": "python",
   "name": "python3"
  }
 },
 "nbformat": 4,
 "nbformat_minor": 5
}
