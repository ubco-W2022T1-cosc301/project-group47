{
 "cells": [
  {
   "cell_type": "code",
   "execution_count": null,
   "id": "a8cba933-fe3b-4da8-8352-9a2e3af12908",
   "metadata": {},
   "outputs": [],
   "source": []
  }
 ],
 "metadata": {
  "kernelspec": {
   "display_name": "Python 3 (ipykernel)",
   "language": "python",
   "name": "python3"
  }
 },
 "nbformat": 4,
 "nbformat_minor": 5
}
